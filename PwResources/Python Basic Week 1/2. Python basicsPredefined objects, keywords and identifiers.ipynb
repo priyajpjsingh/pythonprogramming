{
 "cells": [
  {
   "cell_type": "code",
   "execution_count": 1,
   "id": "9448c35e-27ed-4811-b3ee-bb5d2abb6770",
   "metadata": {},
   "outputs": [
    {
     "name": "stdout",
     "output_type": "stream",
     "text": [
      "Hello world!!\n"
     ]
    }
   ],
   "source": [
    "print(\"Hello world!!\")"
   ]
  },
  {
   "cell_type": "code",
   "execution_count": 3,
   "id": "e7d52f43-8321-4370-ada9-15a289a2852a",
   "metadata": {},
   "outputs": [
    {
     "name": "stdout",
     "output_type": "stream",
     "text": [
      "Hello world!!\n"
     ]
    }
   ],
   "source": [
    "print(\"Hello world!!\")"
   ]
  },
  {
   "cell_type": "code",
   "execution_count": 4,
   "id": "abe275e4-2be6-46e5-9e69-7f0d7d694c99",
   "metadata": {},
   "outputs": [],
   "source": [
    "a = 3"
   ]
  },
  {
   "cell_type": "code",
   "execution_count": 5,
   "id": "1df1a2f3-4425-4ca4-bbd6-fd711fe021f3",
   "metadata": {},
   "outputs": [
    {
     "data": {
      "text/plain": [
       "3"
      ]
     },
     "execution_count": 5,
     "metadata": {},
     "output_type": "execute_result"
    }
   ],
   "source": [
    "a"
   ]
  },
  {
   "cell_type": "raw",
   "id": "ac78fbcc-4065-4568-8e6e-ed55f8a77e72",
   "metadata": {},
   "source": [
    "Variables/identifiers >>placeholders where we keep variety of data which we can use to write logic\n",
    "#Numbers>> integers/float\n",
    "#characters>> string in python\n",
    "#True/False >> boolean\n",
    "#None\n",
    "#complex"
   ]
  },
  {
   "cell_type": "code",
   "execution_count": 6,
   "id": "d5249e91-7248-41f3-bc2f-53eb2c1daf3f",
   "metadata": {},
   "outputs": [
    {
     "data": {
      "text/plain": [
       "3"
      ]
     },
     "execution_count": 6,
     "metadata": {},
     "output_type": "execute_result"
    }
   ],
   "source": [
    "b = 3\n",
    "b"
   ]
  },
  {
   "cell_type": "raw",
   "id": "506912b7-3621-4334-ba0d-92ef923cf90a",
   "metadata": {},
   "source": [
    "variable is a reserved memory space for storing value"
   ]
  },
  {
   "cell_type": "code",
   "execution_count": 7,
   "id": "1c1c8a09-4b2f-46ca-ba47-629df145895c",
   "metadata": {},
   "outputs": [],
   "source": [
    "b = 4.5"
   ]
  },
  {
   "cell_type": "code",
   "execution_count": 8,
   "id": "458db091-d5dd-4722-b9bc-8612058086f2",
   "metadata": {},
   "outputs": [
    {
     "data": {
      "text/plain": [
       "4.5"
      ]
     },
     "execution_count": 8,
     "metadata": {},
     "output_type": "execute_result"
    }
   ],
   "source": [
    "b"
   ]
  },
  {
   "cell_type": "raw",
   "id": "531c31ed-e019-4bff-a3f3-c1bb22464fb8",
   "metadata": {},
   "source": [
    "a memory space will be created with value of the variable"
   ]
  },
  {
   "cell_type": "code",
   "execution_count": 9,
   "id": "9f27bfb4-6bd6-41bb-a28e-32618cf8baf9",
   "metadata": {},
   "outputs": [],
   "source": [
    "c = \"Ajay\""
   ]
  },
  {
   "cell_type": "code",
   "execution_count": 10,
   "id": "cbe3618d-af32-4c16-afa3-3393a493576f",
   "metadata": {},
   "outputs": [
    {
     "data": {
      "text/plain": [
       "'Ajay'"
      ]
     },
     "execution_count": 10,
     "metadata": {},
     "output_type": "execute_result"
    }
   ],
   "source": [
    "c"
   ]
  },
  {
   "cell_type": "code",
   "execution_count": 11,
   "id": "9ae32cc5-eea3-42d8-81fd-f42436bf9d50",
   "metadata": {},
   "outputs": [
    {
     "data": {
      "text/plain": [
       "str"
      ]
     },
     "execution_count": 11,
     "metadata": {},
     "output_type": "execute_result"
    }
   ],
   "source": [
    "type(c)"
   ]
  },
  {
   "cell_type": "code",
   "execution_count": 12,
   "id": "aaedd1c9-5a99-4246-a6a6-1b002f925103",
   "metadata": {},
   "outputs": [
    {
     "data": {
      "text/plain": [
       "3"
      ]
     },
     "execution_count": 12,
     "metadata": {},
     "output_type": "execute_result"
    }
   ],
   "source": [
    "a = 3\n",
    "a"
   ]
  },
  {
   "cell_type": "code",
   "execution_count": 13,
   "id": "b67b1d90-1e15-4aae-bc0d-2ab30a9a6cef",
   "metadata": {},
   "outputs": [
    {
     "data": {
      "text/plain": [
       "int"
      ]
     },
     "execution_count": 13,
     "metadata": {},
     "output_type": "execute_result"
    }
   ],
   "source": [
    "type(a)"
   ]
  },
  {
   "cell_type": "code",
   "execution_count": 14,
   "id": "534adf9e-316d-4157-8914-076ae296a8bf",
   "metadata": {},
   "outputs": [
    {
     "data": {
      "text/plain": [
       "float"
      ]
     },
     "execution_count": 14,
     "metadata": {},
     "output_type": "execute_result"
    }
   ],
   "source": [
    "b = 4.5\n",
    "type(b)"
   ]
  },
  {
   "cell_type": "code",
   "execution_count": 15,
   "id": "76d3b6eb-a5fc-4dee-b6fb-855c1bdc9cfb",
   "metadata": {},
   "outputs": [
    {
     "data": {
      "text/plain": [
       "bool"
      ]
     },
     "execution_count": 15,
     "metadata": {},
     "output_type": "execute_result"
    }
   ],
   "source": [
    "c = True\n",
    "type(c)"
   ]
  },
  {
   "cell_type": "code",
   "execution_count": 16,
   "id": "1a9985e7-6c9f-4a55-b648-29c540203866",
   "metadata": {},
   "outputs": [
    {
     "data": {
      "text/plain": [
       "bool"
      ]
     },
     "execution_count": 16,
     "metadata": {},
     "output_type": "execute_result"
    }
   ],
   "source": [
    "d = False\n",
    "type(d)"
   ]
  },
  {
   "cell_type": "code",
   "execution_count": 17,
   "id": "1e32cb6e-eb8e-49aa-a58b-9a1d57d46953",
   "metadata": {},
   "outputs": [
    {
     "data": {
      "text/plain": [
       "1"
      ]
     },
     "execution_count": 17,
     "metadata": {},
     "output_type": "execute_result"
    }
   ],
   "source": [
    "True-False"
   ]
  },
  {
   "cell_type": "code",
   "execution_count": 18,
   "id": "9b85796f-bef2-4e43-b385-ac41b902a405",
   "metadata": {},
   "outputs": [
    {
     "data": {
      "text/plain": [
       "0"
      ]
     },
     "execution_count": 18,
     "metadata": {},
     "output_type": "execute_result"
    }
   ],
   "source": [
    "True * False"
   ]
  },
  {
   "cell_type": "raw",
   "id": "82ec74f8-a9b9-4554-96d3-aec1542dc24c",
   "metadata": {},
   "source": [
    "True/False>> it will throw an error"
   ]
  },
  {
   "cell_type": "code",
   "execution_count": 20,
   "id": "72db2a48-396d-4ffb-8aa9-02b5f8e4b1bb",
   "metadata": {},
   "outputs": [],
   "source": [
    "f = None\n",
    "f"
   ]
  },
  {
   "cell_type": "code",
   "execution_count": 21,
   "id": "cc8613d6-9e9e-4c78-b5da-bc9029f311f6",
   "metadata": {},
   "outputs": [],
   "source": [
    "f"
   ]
  },
  {
   "cell_type": "code",
   "execution_count": 22,
   "id": "66133b87-36f5-4dd2-8205-01e449bc72fe",
   "metadata": {},
   "outputs": [
    {
     "data": {
      "text/plain": [
       "NoneType"
      ]
     },
     "execution_count": 22,
     "metadata": {},
     "output_type": "execute_result"
    }
   ],
   "source": [
    "type(f)"
   ]
  },
  {
   "cell_type": "raw",
   "id": "f8487d89-e6a8-414f-a0a2-cef6a293137a",
   "metadata": {},
   "source": [
    "x+iy>> complex number"
   ]
  },
  {
   "cell_type": "code",
   "execution_count": 23,
   "id": "6a22ecd8-3b33-4051-b29c-fbc7b78f639f",
   "metadata": {},
   "outputs": [],
   "source": [
    "com = 5+6j"
   ]
  },
  {
   "cell_type": "code",
   "execution_count": 24,
   "id": "fc76a246-a41a-4bdb-8bde-319ee89f2ec7",
   "metadata": {},
   "outputs": [
    {
     "data": {
      "text/plain": [
       "complex"
      ]
     },
     "execution_count": 24,
     "metadata": {},
     "output_type": "execute_result"
    }
   ],
   "source": [
    "type(com)"
   ]
  },
  {
   "cell_type": "code",
   "execution_count": 26,
   "id": "933ff7b6-7d20-40c0-859b-69ace9c26c20",
   "metadata": {},
   "outputs": [
    {
     "data": {
      "text/plain": [
       "5.0"
      ]
     },
     "execution_count": 26,
     "metadata": {},
     "output_type": "execute_result"
    }
   ],
   "source": [
    "com.real"
   ]
  },
  {
   "cell_type": "code",
   "execution_count": 27,
   "id": "7aeb85cb-b1bd-4898-a99a-ba9fa478b065",
   "metadata": {},
   "outputs": [
    {
     "data": {
      "text/plain": [
       "6.0"
      ]
     },
     "execution_count": 27,
     "metadata": {},
     "output_type": "execute_result"
    }
   ],
   "source": [
    "com.imag"
   ]
  },
  {
   "cell_type": "raw",
   "id": "16a17f2e-41bd-4181-a1fd-096998b3e8d1",
   "metadata": {},
   "source": [
    "Rules of defining a variable>> A variable start with a letter(alphabet) or underscore character, it should not be keyword"
   ]
  },
  {
   "cell_type": "raw",
   "id": "77d3b2b9-e5d6-4349-a56b-77702f19ffe2",
   "metadata": {},
   "source": [
    "invalid ways"
   ]
  },
  {
   "cell_type": "code",
   "execution_count": 28,
   "id": "85da6901-5e0d-4ed8-8002-abafb0eaee30",
   "metadata": {},
   "outputs": [
    {
     "ename": "SyntaxError",
     "evalue": "cannot assign to literal here. Maybe you meant '==' instead of '='? (2414822714.py, line 1)",
     "output_type": "error",
     "traceback": [
      "\u001b[0;36m  Cell \u001b[0;32mIn[28], line 1\u001b[0;36m\u001b[0m\n\u001b[0;31m    5 = a\u001b[0m\n\u001b[0m    ^\u001b[0m\n\u001b[0;31mSyntaxError\u001b[0m\u001b[0;31m:\u001b[0m cannot assign to literal here. Maybe you meant '==' instead of '='?\n"
     ]
    }
   ],
   "source": [
    "5 = a"
   ]
  },
  {
   "cell_type": "code",
   "execution_count": 29,
   "id": "225a334e-a729-405f-b558-6866f0cea148",
   "metadata": {},
   "outputs": [
    {
     "ename": "SyntaxError",
     "evalue": "cannot assign to literal here. Maybe you meant '==' instead of '='? (808249952.py, line 1)",
     "output_type": "error",
     "traceback": [
      "\u001b[0;36m  Cell \u001b[0;32mIn[29], line 1\u001b[0;36m\u001b[0m\n\u001b[0;31m    2.3 = b\u001b[0m\n\u001b[0m    ^\u001b[0m\n\u001b[0;31mSyntaxError\u001b[0m\u001b[0;31m:\u001b[0m cannot assign to literal here. Maybe you meant '==' instead of '='?\n"
     ]
    }
   ],
   "source": [
    "2.3 = b"
   ]
  },
  {
   "cell_type": "code",
   "execution_count": 30,
   "id": "5180f143-e6bf-415e-ac57-c73733fee240",
   "metadata": {},
   "outputs": [
    {
     "ename": "SyntaxError",
     "evalue": "invalid decimal literal (3317533442.py, line 1)",
     "output_type": "error",
     "traceback": [
      "\u001b[0;36m  Cell \u001b[0;32mIn[30], line 1\u001b[0;36m\u001b[0m\n\u001b[0;31m    1name = \"Ram\"\u001b[0m\n\u001b[0m    ^\u001b[0m\n\u001b[0;31mSyntaxError\u001b[0m\u001b[0;31m:\u001b[0m invalid decimal literal\n"
     ]
    }
   ],
   "source": [
    "1name = \"Ram\""
   ]
  },
  {
   "cell_type": "code",
   "execution_count": 31,
   "id": "ca1e5b99-da63-4b0e-94be-19f1fa46e7b4",
   "metadata": {},
   "outputs": [
    {
     "ename": "SyntaxError",
     "evalue": "cannot assign to literal here. Maybe you meant '==' instead of '='? (310222110.py, line 1)",
     "output_type": "error",
     "traceback": [
      "\u001b[0;36m  Cell \u001b[0;32mIn[31], line 1\u001b[0;36m\u001b[0m\n\u001b[0;31m    1 = abc\u001b[0m\n\u001b[0m    ^\u001b[0m\n\u001b[0;31mSyntaxError\u001b[0m\u001b[0;31m:\u001b[0m cannot assign to literal here. Maybe you meant '==' instead of '='?\n"
     ]
    }
   ],
   "source": [
    "1 = abc"
   ]
  },
  {
   "cell_type": "raw",
   "id": "ec9ba80b-6120-433c-b71b-c726e4e168a7",
   "metadata": {},
   "source": [
    "Valid ways"
   ]
  },
  {
   "cell_type": "code",
   "execution_count": 32,
   "id": "d1af9e5a-6e4d-4783-9d5f-9fc2a38b4a9b",
   "metadata": {},
   "outputs": [
    {
     "data": {
      "text/plain": [
       "'AJay'"
      ]
     },
     "execution_count": 32,
     "metadata": {},
     "output_type": "execute_result"
    }
   ],
   "source": [
    "name = \"AJay\"\n",
    "name"
   ]
  },
  {
   "cell_type": "code",
   "execution_count": 33,
   "id": "8f966888-2578-4b94-9fbe-1412f98d0086",
   "metadata": {},
   "outputs": [],
   "source": [
    "abc = \"AAjay\""
   ]
  },
  {
   "cell_type": "code",
   "execution_count": 34,
   "id": "cd5fb768-3e3e-4e3f-9e27-8184c1881562",
   "metadata": {},
   "outputs": [
    {
     "data": {
      "text/plain": [
       "'AAjay'"
      ]
     },
     "execution_count": 34,
     "metadata": {},
     "output_type": "execute_result"
    }
   ],
   "source": [
    "abc"
   ]
  },
  {
   "cell_type": "code",
   "execution_count": 35,
   "id": "53dd875d-545b-459f-8443-3759f4c79c45",
   "metadata": {},
   "outputs": [],
   "source": [
    "location = \"mumbai\""
   ]
  },
  {
   "cell_type": "code",
   "execution_count": 36,
   "id": "de25d0a7-24b9-46b4-9f92-885eafa46608",
   "metadata": {},
   "outputs": [
    {
     "data": {
      "text/plain": [
       "'mumbai'"
      ]
     },
     "execution_count": 36,
     "metadata": {},
     "output_type": "execute_result"
    }
   ],
   "source": [
    "location"
   ]
  },
  {
   "cell_type": "code",
   "execution_count": 37,
   "id": "9b453dfa-d567-441a-a5f9-d164c9aaf0b0",
   "metadata": {},
   "outputs": [],
   "source": [
    "_name = \"Rahul\""
   ]
  },
  {
   "cell_type": "code",
   "execution_count": 38,
   "id": "efc39a96-4094-4d00-bfff-04c9ff6f70af",
   "metadata": {},
   "outputs": [
    {
     "data": {
      "text/plain": [
       "'Rahul'"
      ]
     },
     "execution_count": 38,
     "metadata": {},
     "output_type": "execute_result"
    }
   ],
   "source": [
    "_name"
   ]
  },
  {
   "cell_type": "raw",
   "id": "b297f42c-40d6-4c33-b4ee-3ba430a1a903",
   "metadata": {},
   "source": [
    "invalid ways"
   ]
  },
  {
   "cell_type": "code",
   "execution_count": 39,
   "id": "6a447d07-00ea-45e8-b141-6800af35db37",
   "metadata": {},
   "outputs": [
    {
     "ename": "SyntaxError",
     "evalue": "cannot assign to expression here. Maybe you meant '==' instead of '='? (2322523860.py, line 1)",
     "output_type": "error",
     "traceback": [
      "\u001b[0;36m  Cell \u001b[0;32mIn[39], line 1\u001b[0;36m\u001b[0m\n\u001b[0;31m    a-bc = \"Ram\"\u001b[0m\n\u001b[0m    ^\u001b[0m\n\u001b[0;31mSyntaxError\u001b[0m\u001b[0;31m:\u001b[0m cannot assign to expression here. Maybe you meant '==' instead of '='?\n"
     ]
    }
   ],
   "source": [
    "a-bc = \"Ram\""
   ]
  },
  {
   "cell_type": "code",
   "execution_count": 40,
   "id": "cda1b51d-925d-4277-a88c-cec2fa1b0bb9",
   "metadata": {},
   "outputs": [
    {
     "ename": "SyntaxError",
     "evalue": "cannot assign to expression here. Maybe you meant '==' instead of '='? (1574417366.py, line 1)",
     "output_type": "error",
     "traceback": [
      "\u001b[0;36m  Cell \u001b[0;32mIn[40], line 1\u001b[0;36m\u001b[0m\n\u001b[0;31m    data-science = \"pwskills\"\u001b[0m\n\u001b[0m    ^\u001b[0m\n\u001b[0;31mSyntaxError\u001b[0m\u001b[0;31m:\u001b[0m cannot assign to expression here. Maybe you meant '==' instead of '='?\n"
     ]
    }
   ],
   "source": [
    "data-science = \"pwskills\""
   ]
  },
  {
   "cell_type": "code",
   "execution_count": 41,
   "id": "e10da541-f758-42c2-bbec-0a8b28529022",
   "metadata": {},
   "outputs": [],
   "source": [
    "data_science = \"pwskills\""
   ]
  },
  {
   "cell_type": "code",
   "execution_count": 42,
   "id": "3f716686-8158-4ebb-941b-1c40ca5036c8",
   "metadata": {},
   "outputs": [
    {
     "data": {
      "text/plain": [
       "'pwskills'"
      ]
     },
     "execution_count": 42,
     "metadata": {},
     "output_type": "execute_result"
    }
   ],
   "source": [
    "data_science"
   ]
  },
  {
   "cell_type": "code",
   "execution_count": 43,
   "id": "47b749c1-2028-4442-aaf7-7b6c5b8ffd18",
   "metadata": {},
   "outputs": [
    {
     "ename": "SyntaxError",
     "evalue": "invalid syntax (2773842438.py, line 1)",
     "output_type": "error",
     "traceback": [
      "\u001b[0;36m  Cell \u001b[0;32mIn[43], line 1\u001b[0;36m\u001b[0m\n\u001b[0;31m    data analytics course = \"pwskills\"\u001b[0m\n\u001b[0m         ^\u001b[0m\n\u001b[0;31mSyntaxError\u001b[0m\u001b[0;31m:\u001b[0m invalid syntax\n"
     ]
    }
   ],
   "source": [
    "data analytics course = \"pwskills\""
   ]
  },
  {
   "cell_type": "code",
   "execution_count": 44,
   "id": "7739b6a3-701c-4f9c-b4e3-3b56304cdbf2",
   "metadata": {},
   "outputs": [],
   "source": [
    "data_analytics_course = \"pwskills\""
   ]
  },
  {
   "cell_type": "code",
   "execution_count": 45,
   "id": "ef3a4ba8-39d6-4f7a-aa0a-faf72b3dd81e",
   "metadata": {},
   "outputs": [
    {
     "ename": "SyntaxError",
     "evalue": "invalid syntax. Maybe you meant '==' or ':=' instead of '='? (2695804547.py, line 1)",
     "output_type": "error",
     "traceback": [
      "\u001b[0;36m  Cell \u001b[0;32mIn[45], line 1\u001b[0;36m\u001b[0m\n\u001b[0;31m    @abc = 2.3\u001b[0m\n\u001b[0m     ^\u001b[0m\n\u001b[0;31mSyntaxError\u001b[0m\u001b[0;31m:\u001b[0m invalid syntax. Maybe you meant '==' or ':=' instead of '='?\n"
     ]
    }
   ],
   "source": [
    "@abc = 2.3"
   ]
  },
  {
   "cell_type": "code",
   "execution_count": 46,
   "id": "6d708986-b782-4229-a039-1fc35fc19912",
   "metadata": {},
   "outputs": [
    {
     "name": "stderr",
     "output_type": "stream",
     "text": [
      "UsageError: Line magic function `%abc` not found.\n"
     ]
    }
   ],
   "source": [
    "%abc = \"Ram\""
   ]
  },
  {
   "cell_type": "raw",
   "id": "56ea92ad-006f-40a5-9155-b5e7ef448964",
   "metadata": {},
   "source": [
    "comments"
   ]
  },
  {
   "cell_type": "code",
   "execution_count": null,
   "id": "3f992317-1436-41f7-ac80-1fef67945e7a",
   "metadata": {},
   "outputs": [],
   "source": [
    "#This is way to define comments\n",
    "a = 3\n",
    "b = 5"
   ]
  },
  {
   "cell_type": "code",
   "execution_count": 47,
   "id": "8aece220-35ec-4a3a-a28d-350ffb99c39e",
   "metadata": {},
   "outputs": [
    {
     "data": {
      "text/plain": [
       "5"
      ]
     },
     "execution_count": 47,
     "metadata": {},
     "output_type": "execute_result"
    }
   ],
   "source": [
    "#This is a lecture on variable\n",
    "a = 5\n",
    "a"
   ]
  },
  {
   "cell_type": "code",
   "execution_count": 48,
   "id": "21fbbd77-03c2-40a7-bafa-2785232ca836",
   "metadata": {},
   "outputs": [],
   "source": [
    "#This is my first line of comment\n",
    "#This is my second line of comment\n",
    "a =4"
   ]
  },
  {
   "cell_type": "code",
   "execution_count": 49,
   "id": "30bf5aa4-2237-44e7-9718-66a13a9f250f",
   "metadata": {},
   "outputs": [
    {
     "data": {
      "text/plain": [
       "5"
      ]
     },
     "execution_count": 49,
     "metadata": {},
     "output_type": "execute_result"
    }
   ],
   "source": [
    "#Multiline comments\n",
    "'''\n",
    "This is a multi line comments\n",
    "I am teaching ds\n",
    "all the students are enjoying\n",
    "'''\n",
    "a = 5\n",
    "a\n",
    "\n"
   ]
  },
  {
   "cell_type": "code",
   "execution_count": 50,
   "id": "06d3f885-a2da-4fab-af46-ac9a2d1d8b51",
   "metadata": {},
   "outputs": [
    {
     "data": {
      "text/plain": [
       "5"
      ]
     },
     "execution_count": 50,
     "metadata": {},
     "output_type": "execute_result"
    }
   ],
   "source": [
    "\"\"\"\n",
    "This is a multi line comments\n",
    "I am teaching ds\n",
    "all the students are enjoying\n",
    "\"\"\"\n",
    "\n",
    "a = 5\n",
    "a"
   ]
  },
  {
   "cell_type": "code",
   "execution_count": 51,
   "id": "f2eda51c-af04-412a-aa38-d017e36e18cd",
   "metadata": {},
   "outputs": [
    {
     "name": "stdout",
     "output_type": "stream",
     "text": [
      "hello world\n"
     ]
    },
    {
     "data": {
      "text/plain": [
       "int"
      ]
     },
     "execution_count": 51,
     "metadata": {},
     "output_type": "execute_result"
    }
   ],
   "source": [
    "print(\"hello world\")\n",
    "type(a)"
   ]
  },
  {
   "cell_type": "code",
   "execution_count": 52,
   "id": "8eb71fdf-669a-4606-b7f3-c58facffd6a5",
   "metadata": {},
   "outputs": [],
   "source": [
    "#keywords >> are predefined words that hold a special meaning and have specific purpose in python"
   ]
  },
  {
   "cell_type": "code",
   "execution_count": 53,
   "id": "913457f2-ee76-47cc-8a04-f5348ef14f86",
   "metadata": {},
   "outputs": [
    {
     "name": "stdout",
     "output_type": "stream",
     "text": [
      "\n",
      "Here is a list of the Python keywords.  Enter any keyword to get more help.\n",
      "\n",
      "False               class               from                or\n",
      "None                continue            global              pass\n",
      "True                def                 if                  raise\n",
      "and                 del                 import              return\n",
      "as                  elif                in                  try\n",
      "assert              else                is                  while\n",
      "async               except              lambda              with\n",
      "await               finally             nonlocal            yield\n",
      "break               for                 not                 \n",
      "\n"
     ]
    }
   ],
   "source": [
    "help('keywords')"
   ]
  },
  {
   "cell_type": "code",
   "execution_count": 54,
   "id": "1193a5f5-8f22-411b-be3c-05b2d2a29b2f",
   "metadata": {},
   "outputs": [
    {
     "name": "stdout",
     "output_type": "stream",
     "text": [
      "greater\n"
     ]
    }
   ],
   "source": [
    "#Indentation>> more readble\n",
    "if 3 > 2:\n",
    "    print(\"greater\")"
   ]
  },
  {
   "cell_type": "code",
   "execution_count": 55,
   "id": "ec00f774-5c73-41c0-b174-0684744489c0",
   "metadata": {},
   "outputs": [],
   "source": [
    "a = 3 #statement >> fundamental block of code\n",
    "name = \"Ajay\"\n",
    "\n",
    "#statment can be of many tiypes>> expression, assignment, condition statments, loop"
   ]
  },
  {
   "cell_type": "code",
   "execution_count": 57,
   "id": "40273fd8-6ef6-4eb8-804c-680034a3e1f8",
   "metadata": {},
   "outputs": [],
   "source": [
    "#assignment statement\n",
    "a = 5"
   ]
  },
  {
   "cell_type": "code",
   "execution_count": 58,
   "id": "ee477ff5-b731-46a1-8b4a-0ef5fd042116",
   "metadata": {},
   "outputs": [
    {
     "data": {
      "text/plain": [
       "9"
      ]
     },
     "execution_count": 58,
     "metadata": {},
     "output_type": "execute_result"
    }
   ],
   "source": [
    "a = 5 #assignment\n",
    "b = 4 #assignment\n",
    "a+b #expression statment"
   ]
  },
  {
   "cell_type": "code",
   "execution_count": 69,
   "id": "4fddc23d-6100-4431-a2f5-79c5189b108b",
   "metadata": {},
   "outputs": [
    {
     "name": "stdin",
     "output_type": "stream",
     "text": [
      "please enter your name:  2\n"
     ]
    }
   ],
   "source": [
    "#input output>>if you want some user to give value of variable\n",
    "name = input(\"please enter your name: \")"
   ]
  },
  {
   "cell_type": "code",
   "execution_count": 70,
   "id": "779c2c19-282f-498f-85b2-9322e2f7a46b",
   "metadata": {},
   "outputs": [
    {
     "data": {
      "text/plain": [
       "'2'"
      ]
     },
     "execution_count": 70,
     "metadata": {},
     "output_type": "execute_result"
    }
   ],
   "source": [
    "name"
   ]
  },
  {
   "cell_type": "code",
   "execution_count": 71,
   "id": "1241e70d-52e2-46a1-a55f-6fc8a4908032",
   "metadata": {},
   "outputs": [
    {
     "data": {
      "text/plain": [
       "str"
      ]
     },
     "execution_count": 71,
     "metadata": {},
     "output_type": "execute_result"
    }
   ],
   "source": [
    "type(name)"
   ]
  },
  {
   "cell_type": "code",
   "execution_count": 72,
   "id": "aabf9b14-9025-4484-ac82-e6cab5fbe7a5",
   "metadata": {},
   "outputs": [],
   "source": [
    "#input actually take every value as a string\n",
    "#we can convert '2' as int"
   ]
  },
  {
   "cell_type": "code",
   "execution_count": 75,
   "id": "9bc1d7f6-40b3-4844-99ee-27d01c3debef",
   "metadata": {},
   "outputs": [],
   "source": [
    "#Type casting> cast means to change the format\n",
    "name = int(name)"
   ]
  },
  {
   "cell_type": "code",
   "execution_count": 76,
   "id": "6c6d7eac-917a-4975-b1fe-d137ded56217",
   "metadata": {},
   "outputs": [
    {
     "data": {
      "text/plain": [
       "int"
      ]
     },
     "execution_count": 76,
     "metadata": {},
     "output_type": "execute_result"
    }
   ],
   "source": [
    "type(name)"
   ]
  },
  {
   "cell_type": "code",
   "execution_count": 77,
   "id": "dff4927e-5b93-4b00-abd3-2fef99fc1270",
   "metadata": {},
   "outputs": [
    {
     "data": {
      "text/plain": [
       "str"
      ]
     },
     "execution_count": 77,
     "metadata": {},
     "output_type": "execute_result"
    }
   ],
   "source": [
    "a = \"3.5\"\n",
    "type(a)"
   ]
  },
  {
   "cell_type": "code",
   "execution_count": 79,
   "id": "f0b52c4f-2e59-4fbb-9379-bb23a0909b48",
   "metadata": {},
   "outputs": [
    {
     "data": {
      "text/plain": [
       "float"
      ]
     },
     "execution_count": 79,
     "metadata": {},
     "output_type": "execute_result"
    }
   ],
   "source": [
    "type(float(a))"
   ]
  },
  {
   "cell_type": "code",
   "execution_count": 80,
   "id": "ecd36490-4489-4e15-8538-0303b86be049",
   "metadata": {},
   "outputs": [
    {
     "data": {
      "text/plain": [
       "str"
      ]
     },
     "execution_count": 80,
     "metadata": {},
     "output_type": "execute_result"
    }
   ],
   "source": [
    "s = \"108\"\n",
    "type(s)"
   ]
  },
  {
   "cell_type": "code",
   "execution_count": 81,
   "id": "9549acfc-5ea2-4d3b-80a2-efcb6e99ea96",
   "metadata": {},
   "outputs": [
    {
     "data": {
      "text/plain": [
       "108"
      ]
     },
     "execution_count": 81,
     "metadata": {},
     "output_type": "execute_result"
    }
   ],
   "source": [
    "int(s)"
   ]
  },
  {
   "cell_type": "code",
   "execution_count": 82,
   "id": "d02671db-d26e-453d-8983-f444a993e517",
   "metadata": {},
   "outputs": [
    {
     "data": {
      "text/plain": [
       "108.0"
      ]
     },
     "execution_count": 82,
     "metadata": {},
     "output_type": "execute_result"
    }
   ],
   "source": [
    "float(s)"
   ]
  },
  {
   "cell_type": "code",
   "execution_count": 83,
   "id": "e839ed78-78f2-49a5-8216-e4796c49f934",
   "metadata": {},
   "outputs": [
    {
     "data": {
      "text/plain": [
       "'108'"
      ]
     },
     "execution_count": 83,
     "metadata": {},
     "output_type": "execute_result"
    }
   ],
   "source": [
    "str(s)"
   ]
  },
  {
   "cell_type": "code",
   "execution_count": 84,
   "id": "044cbe4c-1ae9-4be3-8c1c-14027e8e3a66",
   "metadata": {},
   "outputs": [
    {
     "data": {
      "text/plain": [
       "int"
      ]
     },
     "execution_count": 84,
     "metadata": {},
     "output_type": "execute_result"
    }
   ],
   "source": [
    "a = 121\n",
    "type(a)"
   ]
  },
  {
   "cell_type": "code",
   "execution_count": 86,
   "id": "5e9d3658-9641-46e3-9c0f-1b22a03562f4",
   "metadata": {},
   "outputs": [
    {
     "data": {
      "text/plain": [
       "str"
      ]
     },
     "execution_count": 86,
     "metadata": {},
     "output_type": "execute_result"
    }
   ],
   "source": [
    "type(str(a))"
   ]
  },
  {
   "cell_type": "code",
   "execution_count": 87,
   "id": "8de7572d-672e-4614-b0f6-9099ba37ade3",
   "metadata": {},
   "outputs": [
    {
     "data": {
      "text/plain": [
       "False"
      ]
     },
     "execution_count": 87,
     "metadata": {},
     "output_type": "execute_result"
    }
   ],
   "source": [
    "bool(0)"
   ]
  },
  {
   "cell_type": "code",
   "execution_count": 88,
   "id": "503ee3e1-f76f-498f-80ea-1bc5746a6f24",
   "metadata": {},
   "outputs": [
    {
     "data": {
      "text/plain": [
       "True"
      ]
     },
     "execution_count": 88,
     "metadata": {},
     "output_type": "execute_result"
    }
   ],
   "source": [
    "bool(1)"
   ]
  },
  {
   "cell_type": "code",
   "execution_count": 89,
   "id": "023342bf-b94b-4bf6-8b2c-fc8ee1a7ff84",
   "metadata": {},
   "outputs": [
    {
     "ename": "ValueError",
     "evalue": "invalid literal for int() with base 10: 'Ajay'",
     "output_type": "error",
     "traceback": [
      "\u001b[0;31m---------------------------------------------------------------------------\u001b[0m",
      "\u001b[0;31mValueError\u001b[0m                                Traceback (most recent call last)",
      "Cell \u001b[0;32mIn[89], line 2\u001b[0m\n\u001b[1;32m      1\u001b[0m a \u001b[38;5;241m=\u001b[39m  \u001b[38;5;124m\"\u001b[39m\u001b[38;5;124mAjay\u001b[39m\u001b[38;5;124m\"\u001b[39m\n\u001b[0;32m----> 2\u001b[0m \u001b[38;5;28;43mint\u001b[39;49m\u001b[43m(\u001b[49m\u001b[43ma\u001b[49m\u001b[43m)\u001b[49m\n",
      "\u001b[0;31mValueError\u001b[0m: invalid literal for int() with base 10: 'Ajay'"
     ]
    }
   ],
   "source": [
    "a =  \"Ajay\"\n",
    "int(a)"
   ]
  },
  {
   "cell_type": "code",
   "execution_count": 92,
   "id": "5ef3d16c-f531-4e36-8c10-ae30fcaa9e89",
   "metadata": {},
   "outputs": [],
   "source": [
    "#python is case sensitive programming language\n",
    "a = 5\n",
    "A=15"
   ]
  },
  {
   "cell_type": "code",
   "execution_count": 93,
   "id": "ca2149d8-912e-419e-ac03-650d28a520d6",
   "metadata": {},
   "outputs": [
    {
     "data": {
      "text/plain": [
       "5"
      ]
     },
     "execution_count": 93,
     "metadata": {},
     "output_type": "execute_result"
    }
   ],
   "source": [
    "a"
   ]
  },
  {
   "cell_type": "code",
   "execution_count": 94,
   "id": "13bae031-490e-4cf1-95c1-c341081ce048",
   "metadata": {},
   "outputs": [
    {
     "data": {
      "text/plain": [
       "15"
      ]
     },
     "execution_count": 94,
     "metadata": {},
     "output_type": "execute_result"
    }
   ],
   "source": [
    "A"
   ]
  },
  {
   "cell_type": "code",
   "execution_count": 1,
   "id": "ec81a752-180d-4343-aed9-2d7df2723066",
   "metadata": {},
   "outputs": [
    {
     "name": "stdout",
     "output_type": "stream",
     "text": [
      "hello\n"
     ]
    }
   ],
   "source": [
    "#variables should not be keywords\n",
    "\n",
    "print(\"hello\")"
   ]
  },
  {
   "cell_type": "code",
   "execution_count": 96,
   "id": "8d313fbd-ccdb-4277-aa5c-82f7b3c89498",
   "metadata": {},
   "outputs": [],
   "source": [
    "#print = \"Ajay\""
   ]
  },
  {
   "cell_type": "code",
   "execution_count": 2,
   "id": "9c8c94e5-60c9-42ab-81d9-504532220513",
   "metadata": {},
   "outputs": [
    {
     "name": "stdout",
     "output_type": "stream",
     "text": [
      "world\n"
     ]
    }
   ],
   "source": [
    "print(\"world\")"
   ]
  },
  {
   "cell_type": "code",
   "execution_count": null,
   "id": "dc2683e5-863f-4407-9270-ab1530d4ce57",
   "metadata": {},
   "outputs": [],
   "source": []
  }
 ],
 "metadata": {
  "kernelspec": {
   "display_name": "Python 3 (ipykernel)",
   "language": "python",
   "name": "python3"
  },
  "language_info": {
   "codemirror_mode": {
    "name": "ipython",
    "version": 3
   },
   "file_extension": ".py",
   "mimetype": "text/x-python",
   "name": "python",
   "nbconvert_exporter": "python",
   "pygments_lexer": "ipython3",
   "version": "3.10.8"
  }
 },
 "nbformat": 4,
 "nbformat_minor": 5
}
