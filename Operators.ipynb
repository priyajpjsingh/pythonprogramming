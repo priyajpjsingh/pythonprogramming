{
 "cells": [
  {
   "cell_type": "code",
   "execution_count": null,
   "id": "a5774d9f-a767-490d-9f86-398e6966597c",
   "metadata": {},
   "outputs": [],
   "source": [
    "#operators>>special kewyword  to perform >>manage and computaion."
   ]
  },
  {
   "cell_type": "code",
   "execution_count": 1,
   "id": "33f64557-553e-467a-9877-281f33d78f89",
   "metadata": {},
   "outputs": [
    {
     "data": {
      "text/plain": [
       "5"
      ]
     },
     "execution_count": 1,
     "metadata": {},
     "output_type": "execute_result"
    }
   ],
   "source": [
    "a = 3 \n",
    "b = 2\n",
    "a+b"
   ]
  },
  {
   "cell_type": "code",
   "execution_count": null,
   "id": "5cbbf861-ae60-4f8d-b889-29f73e67f72b",
   "metadata": {},
   "outputs": [],
   "source": [
    "#arthematic operators"
   ]
  },
  {
   "cell_type": "code",
   "execution_count": 7,
   "id": "10d62582-13b5-4cec-8183-69181dc07e88",
   "metadata": {},
   "outputs": [
    {
     "data": {
      "text/plain": [
       "5"
      ]
     },
     "execution_count": 7,
     "metadata": {},
     "output_type": "execute_result"
    }
   ],
   "source": [
    "Add = a+b\n",
    "a+b"
   ]
  },
  {
   "cell_type": "code",
   "execution_count": 9,
   "id": "c45e643c-67bf-4d29-a212-e77edac21956",
   "metadata": {},
   "outputs": [
    {
     "data": {
      "text/plain": [
       "20"
      ]
     },
     "execution_count": 9,
     "metadata": {},
     "output_type": "execute_result"
    }
   ],
   "source": [
    "5*4\n"
   ]
  },
  {
   "cell_type": "code",
   "execution_count": 11,
   "id": "6dec8fc0-4577-42fe-9ec7-087415ece22f",
   "metadata": {},
   "outputs": [
    {
     "data": {
      "text/plain": [
       "10.0"
      ]
     },
     "execution_count": 11,
     "metadata": {},
     "output_type": "execute_result"
    }
   ],
   "source": [
    "50/5"
   ]
  },
  {
   "cell_type": "code",
   "execution_count": 13,
   "id": "7b47bf1b-074a-40de-b858-1741bcfe26ea",
   "metadata": {},
   "outputs": [
    {
     "data": {
      "text/plain": [
       "11.25"
      ]
     },
     "execution_count": 13,
     "metadata": {},
     "output_type": "execute_result"
    }
   ],
   "source": [
    "45/4"
   ]
  },
  {
   "cell_type": "code",
   "execution_count": 15,
   "id": "1752ac91-edb4-4a86-81f8-a2ea3ea9fe3a",
   "metadata": {},
   "outputs": [
    {
     "data": {
      "text/plain": [
       "2"
      ]
     },
     "execution_count": 15,
     "metadata": {},
     "output_type": "execute_result"
    }
   ],
   "source": [
    "#Modules operator\n",
    "20%3"
   ]
  },
  {
   "cell_type": "code",
   "execution_count": 17,
   "id": "a260852e-8621-4866-b83e-e88be1919a7f",
   "metadata": {},
   "outputs": [
    {
     "data": {
      "text/plain": [
       "32"
      ]
     },
     "execution_count": 17,
     "metadata": {},
     "output_type": "execute_result"
    }
   ],
   "source": [
    "2 ** 5 #2 is power 5"
   ]
  },
  {
   "cell_type": "code",
   "execution_count": 19,
   "id": "6036473c-1232-468f-9dd9-4edead1c7fcf",
   "metadata": {},
   "outputs": [
    {
     "data": {
      "text/plain": [
       "515377520732011331036461129765621272702107522001"
      ]
     },
     "execution_count": 19,
     "metadata": {},
     "output_type": "execute_result"
    }
   ],
   "source": [
    "3 ** 100 # 3 is power 100"
   ]
  },
  {
   "cell_type": "code",
   "execution_count": 21,
   "id": "2f8f02c5-2fb6-4b18-a776-4ead28fb7436",
   "metadata": {},
   "outputs": [
    {
     "data": {
      "text/plain": [
       "1.3333333333333333"
      ]
     },
     "execution_count": 21,
     "metadata": {},
     "output_type": "execute_result"
    }
   ],
   "source": [
    "4/3"
   ]
  },
  {
   "cell_type": "code",
   "execution_count": 23,
   "id": "9cc84821-0689-4289-b40b-7cea5e55c557",
   "metadata": {},
   "outputs": [
    {
     "data": {
      "text/plain": [
       "1"
      ]
     },
     "execution_count": 23,
     "metadata": {},
     "output_type": "execute_result"
    }
   ],
   "source": [
    "4 //3 #floar operator"
   ]
  },
  {
   "cell_type": "code",
   "execution_count": 25,
   "id": "e33c3a47-3069-47d6-9fac-d4b2a63f9124",
   "metadata": {},
   "outputs": [
    {
     "data": {
      "text/plain": [
       "True"
      ]
     },
     "execution_count": 25,
     "metadata": {},
     "output_type": "execute_result"
    }
   ],
   "source": [
    "#comperision operator>>copmare two value>>return back boolen value\n",
    "2 == 2 "
   ]
  },
  {
   "cell_type": "code",
   "execution_count": 27,
   "id": "e252a9d2-c02f-493f-aab8-d7504b337ec0",
   "metadata": {},
   "outputs": [
    {
     "data": {
      "text/plain": [
       "False"
      ]
     },
     "execution_count": 27,
     "metadata": {},
     "output_type": "execute_result"
    }
   ],
   "source": [
    "2 != 2"
   ]
  },
  {
   "cell_type": "code",
   "execution_count": 31,
   "id": "028565fc-130b-4fc4-8c59-d520c87cb54c",
   "metadata": {},
   "outputs": [
    {
     "ename": "SyntaxError",
     "evalue": "cannot assign to True (3794755363.py, line 4)",
     "output_type": "error",
     "traceback": [
      "\u001b[1;36m  Cell \u001b[1;32mIn[31], line 4\u001b[1;36m\u001b[0m\n\u001b[1;33m    True = True\u001b[0m\n\u001b[1;37m    ^\u001b[0m\n\u001b[1;31mSyntaxError\u001b[0m\u001b[1;31m:\u001b[0m cannot assign to True\n"
     ]
    }
   ],
   "source": [
    "#logical operatore\n",
    "#and\n",
    "#or\n"
   ]
  },
  {
   "cell_type": "code",
   "execution_count": 33,
   "id": "b7a2311a-581f-43c7-92e3-5479cee77390",
   "metadata": {},
   "outputs": [
    {
     "ename": "SyntaxError",
     "evalue": "cannot assign to True (1601851819.py, line 1)",
     "output_type": "error",
     "traceback": [
      "\u001b[1;36m  Cell \u001b[1;32mIn[33], line 1\u001b[1;36m\u001b[0m\n\u001b[1;33m    True = False\u001b[0m\n\u001b[1;37m    ^\u001b[0m\n\u001b[1;31mSyntaxError\u001b[0m\u001b[1;31m:\u001b[0m cannot assign to True\n"
     ]
    }
   ],
   "source": [
    "True = False"
   ]
  },
  {
   "cell_type": "code",
   "execution_count": 35,
   "id": "79b937e1-70db-49e8-b92b-ac798a8281d6",
   "metadata": {},
   "outputs": [
    {
     "ename": "SyntaxError",
     "evalue": "cannot assign to False (3189163081.py, line 1)",
     "output_type": "error",
     "traceback": [
      "\u001b[1;36m  Cell \u001b[1;32mIn[35], line 1\u001b[1;36m\u001b[0m\n\u001b[1;33m    False = False\u001b[0m\n\u001b[1;37m    ^\u001b[0m\n\u001b[1;31mSyntaxError\u001b[0m\u001b[1;31m:\u001b[0m cannot assign to False\n"
     ]
    }
   ],
   "source": [
    "False = False"
   ]
  },
  {
   "cell_type": "code",
   "execution_count": null,
   "id": "6c5a14cc-a054-4374-a471-771ace00db1c",
   "metadata": {},
   "outputs": [],
   "source": [
    "#Assignment operator"
   ]
  },
  {
   "cell_type": "code",
   "execution_count": 41,
   "id": "d23e4e05-0f59-4bfe-9ffd-b00c4fe81af1",
   "metadata": {},
   "outputs": [
    {
     "data": {
      "text/plain": [
       "6"
      ]
     },
     "execution_count": 41,
     "metadata": {},
     "output_type": "execute_result"
    }
   ],
   "source": [
    "b = 10 \n",
    "b = 6\n",
    "b\n"
   ]
  },
  {
   "cell_type": "code",
   "execution_count": 43,
   "id": "6b8a8575-dabb-4db1-8872-e727301f7b1c",
   "metadata": {},
   "outputs": [
    {
     "data": {
      "text/plain": [
       "False"
      ]
     },
     "execution_count": 43,
     "metadata": {},
     "output_type": "execute_result"
    }
   ],
   "source": [
    "#membership operaator\n",
    "a = \"Pwskilld\"\n",
    "\"p\" in a"
   ]
  },
  {
   "cell_type": "code",
   "execution_count": 1,
   "id": "94a6dc7f-e838-42bb-b6da-808261d1ad35",
   "metadata": {},
   "outputs": [
    {
     "data": {
      "text/plain": [
       "True"
      ]
     },
     "execution_count": 1,
     "metadata": {},
     "output_type": "execute_result"
    }
   ],
   "source": [
    "a = 2\n",
    "b = a\n",
    "a is b "
   ]
  },
  {
   "cell_type": "code",
   "execution_count": null,
   "id": "59acf4c6-0dca-4d94-b120-31d0e0d42043",
   "metadata": {},
   "outputs": [],
   "source": [
    "#Bitswise operator >> operating at bits level>>manipulating individuals bits with intergers"
   ]
  },
  {
   "cell_type": "code",
   "execution_count": 5,
   "id": "8e9c4baa-8431-4e47-b953-5e39af94f508",
   "metadata": {},
   "outputs": [
    {
     "data": {
      "text/plain": [
       "10"
      ]
     },
     "execution_count": 5,
     "metadata": {},
     "output_type": "execute_result"
    }
   ],
   "source": [
    "10 & 10 \n",
    "10"
   ]
  },
  {
   "cell_type": "code",
   "execution_count": 9,
   "id": "09429d34-efee-4c7c-b750-1fd6f43d939f",
   "metadata": {},
   "outputs": [
    {
     "data": {
      "text/plain": [
       "'0b1010'"
      ]
     },
     "execution_count": 9,
     "metadata": {},
     "output_type": "execute_result"
    }
   ],
   "source": [
    "bin(10)"
   ]
  },
  {
   "cell_type": "code",
   "execution_count": 11,
   "id": "8a804499-54f8-4caf-99b9-3efa04e4ed5d",
   "metadata": {},
   "outputs": [
    {
     "data": {
      "text/plain": [
       "2"
      ]
     },
     "execution_count": 11,
     "metadata": {},
     "output_type": "execute_result"
    }
   ],
   "source": [
    "18 & 3 "
   ]
  },
  {
   "cell_type": "code",
   "execution_count": 13,
   "id": "76e956ca-2036-49aa-af80-1b1c66112387",
   "metadata": {},
   "outputs": [
    {
     "data": {
      "text/plain": [
       "'0b10010'"
      ]
     },
     "execution_count": 13,
     "metadata": {},
     "output_type": "execute_result"
    }
   ],
   "source": [
    "bin(18)"
   ]
  },
  {
   "cell_type": "code",
   "execution_count": 15,
   "id": "b4f03c16-a7c6-48bf-adac-69e530c146c6",
   "metadata": {},
   "outputs": [
    {
     "data": {
      "text/plain": [
       "'0b11'"
      ]
     },
     "execution_count": 15,
     "metadata": {},
     "output_type": "execute_result"
    }
   ],
   "source": [
    "bin(3)"
   ]
  },
  {
   "cell_type": "code",
   "execution_count": 17,
   "id": "fb59afca-216b-41de-810b-d3945dc11dbf",
   "metadata": {},
   "outputs": [
    {
     "data": {
      "text/plain": [
       "7"
      ]
     },
     "execution_count": 17,
     "metadata": {},
     "output_type": "execute_result"
    }
   ],
   "source": [
    "3 | 5"
   ]
  },
  {
   "cell_type": "code",
   "execution_count": 19,
   "id": "5641f79d-477a-4f32-a828-88a5afd20ae6",
   "metadata": {},
   "outputs": [
    {
     "data": {
      "text/plain": [
       "'0b11'"
      ]
     },
     "execution_count": 19,
     "metadata": {},
     "output_type": "execute_result"
    }
   ],
   "source": [
    "bin(3)"
   ]
  },
  {
   "cell_type": "code",
   "execution_count": 21,
   "id": "2789d460-592e-4510-88e4-d0f3cc814e8c",
   "metadata": {},
   "outputs": [
    {
     "data": {
      "text/plain": [
       "'0b101'"
      ]
     },
     "execution_count": 21,
     "metadata": {},
     "output_type": "execute_result"
    }
   ],
   "source": [
    "bin(5)"
   ]
  },
  {
   "cell_type": "code",
   "execution_count": 23,
   "id": "f99b99ea-1d14-4e6a-9fe2-29ecff5d5b3b",
   "metadata": {},
   "outputs": [
    {
     "data": {
      "text/plain": [
       "'0b111'"
      ]
     },
     "execution_count": 23,
     "metadata": {},
     "output_type": "execute_result"
    }
   ],
   "source": [
    "bin(7)"
   ]
  },
  {
   "cell_type": "code",
   "execution_count": 27,
   "id": "ff5b7193-d2ec-4e52-863b-f6418c4f6b8e",
   "metadata": {},
   "outputs": [
    {
     "data": {
      "text/plain": [
       "-3"
      ]
     },
     "execution_count": 27,
     "metadata": {},
     "output_type": "execute_result"
    }
   ],
   "source": [
    "#Negation\n"
   ]
  },
  {
   "cell_type": "code",
   "execution_count": 29,
   "id": "02adf6c3-a94f-405a-90c7-a85254e84d3e",
   "metadata": {},
   "outputs": [
    {
     "data": {
      "text/plain": [
       "-4"
      ]
     },
     "execution_count": 29,
     "metadata": {},
     "output_type": "execute_result"
    }
   ],
   "source": [
    "-4"
   ]
  },
  {
   "cell_type": "code",
   "execution_count": null,
   "id": "809190ba-3c45-4978-abeb-ea79dddcf286",
   "metadata": {},
   "outputs": [],
   "source": [
    "#bitwise xor operator>>^"
   ]
  },
  {
   "cell_type": "code",
   "execution_count": 39,
   "id": "6324f890-4101-4990-9c6e-886661bb0e43",
   "metadata": {},
   "outputs": [
    {
     "data": {
      "text/plain": [
       "6"
      ]
     },
     "execution_count": 39,
     "metadata": {},
     "output_type": "execute_result"
    }
   ],
   "source": [
    "5 ^ 3"
   ]
  },
  {
   "cell_type": "code",
   "execution_count": 41,
   "id": "e4b52fa4-8125-46a3-9653-691a4100ad93",
   "metadata": {},
   "outputs": [
    {
     "data": {
      "text/plain": [
       "'0b101'"
      ]
     },
     "execution_count": 41,
     "metadata": {},
     "output_type": "execute_result"
    }
   ],
   "source": [
    "bin(5)"
   ]
  },
  {
   "cell_type": "code",
   "execution_count": 43,
   "id": "b8206e16-9eea-418e-9930-8b4f225d7e27",
   "metadata": {},
   "outputs": [
    {
     "data": {
      "text/plain": [
       "'0b11'"
      ]
     },
     "execution_count": 43,
     "metadata": {},
     "output_type": "execute_result"
    }
   ],
   "source": [
    "bin(3)"
   ]
  },
  {
   "cell_type": "code",
   "execution_count": 45,
   "id": "f50a543f-54d9-464f-b96e-5c3e0bc84377",
   "metadata": {},
   "outputs": [
    {
     "data": {
      "text/plain": [
       "'0b110'"
      ]
     },
     "execution_count": 45,
     "metadata": {},
     "output_type": "execute_result"
    }
   ],
   "source": [
    "bin(6)"
   ]
  },
  {
   "cell_type": "code",
   "execution_count": null,
   "id": "89c5e4b1-9dae-4d27-a9a5-f93435dce666",
   "metadata": {},
   "outputs": [],
   "source": [
    "#shift << left shift and right shift\n",
    "35 << 3"
   ]
  },
  {
   "cell_type": "code",
   "execution_count": 49,
   "id": "75ad956c-850a-49fd-aaec-555e631b567d",
   "metadata": {},
   "outputs": [
    {
     "data": {
      "text/plain": [
       "10"
      ]
     },
     "execution_count": 49,
     "metadata": {},
     "output_type": "execute_result"
    }
   ],
   "source": [
    "5 << 1  #left shift by 1"
   ]
  },
  {
   "cell_type": "code",
   "execution_count": 51,
   "id": "5da55cc6-5569-4ae1-aafa-01a467fb16f8",
   "metadata": {},
   "outputs": [
    {
     "data": {
      "text/plain": [
       "'0b101'"
      ]
     },
     "execution_count": 51,
     "metadata": {},
     "output_type": "execute_result"
    }
   ],
   "source": [
    "bin(5)"
   ]
  },
  {
   "cell_type": "code",
   "execution_count": 53,
   "id": "167f97e0-6b10-4f7b-a243-06934f0cf97a",
   "metadata": {},
   "outputs": [
    {
     "data": {
      "text/plain": [
       "'0b1010'"
      ]
     },
     "execution_count": 53,
     "metadata": {},
     "output_type": "execute_result"
    }
   ],
   "source": [
    "bin(10)"
   ]
  },
  {
   "cell_type": "code",
   "execution_count": 55,
   "id": "6d0e9e12-95c7-480c-b174-275c986c64a5",
   "metadata": {},
   "outputs": [
    {
     "data": {
      "text/plain": [
       "35"
      ]
     },
     "execution_count": 55,
     "metadata": {},
     "output_type": "execute_result"
    }
   ],
   "source": [
    "#right shift operator#remove the number of element in the binary\n",
    "280>> 3 "
   ]
  },
  {
   "cell_type": "code",
   "execution_count": 57,
   "id": "e6a6bd71-5b0b-4792-ab96-15ff127d10a4",
   "metadata": {},
   "outputs": [
    {
     "data": {
      "text/plain": [
       "'0b100011000'"
      ]
     },
     "execution_count": 57,
     "metadata": {},
     "output_type": "execute_result"
    }
   ],
   "source": [
    "bin(280)"
   ]
  },
  {
   "cell_type": "code",
   "execution_count": null,
   "id": "bf43c820-4f33-4874-8372-4fc8a0026bb8",
   "metadata": {},
   "outputs": [],
   "source": [
    "#ordered of presidence\n",
    "#execution of python statemnet alaways will be from left to rirht"
   ]
  },
  {
   "cell_type": "code",
   "execution_count": 59,
   "id": "9ee9c0a8-6b4e-45e9-8e8e-82f0eb600884",
   "metadata": {},
   "outputs": [
    {
     "data": {
      "text/plain": [
       "10"
      ]
     },
     "execution_count": 59,
     "metadata": {},
     "output_type": "execute_result"
    }
   ],
   "source": [
    "b = 5 \n",
    "b += 5\n",
    "b"
   ]
  },
  {
   "cell_type": "code",
   "execution_count": 61,
   "id": "9c2f34cb-60be-4478-911d-c6cf3d8844cc",
   "metadata": {},
   "outputs": [
    {
     "data": {
      "text/plain": [
       "8"
      ]
     },
     "execution_count": 61,
     "metadata": {},
     "output_type": "execute_result"
    }
   ],
   "source": [
    "#alaways parenthesis\n",
    "(9-5) + 4"
   ]
  }
 ],
 "metadata": {
  "kernelspec": {
   "display_name": "Python 3 (ipykernel)",
   "language": "python",
   "name": "python3"
  },
  "language_info": {
   "codemirror_mode": {
    "name": "ipython",
    "version": 3
   },
   "file_extension": ".py",
   "mimetype": "text/x-python",
   "name": "python",
   "nbconvert_exporter": "python",
   "pygments_lexer": "ipython3",
   "version": "3.12.7"
  }
 },
 "nbformat": 4,
 "nbformat_minor": 5
}
