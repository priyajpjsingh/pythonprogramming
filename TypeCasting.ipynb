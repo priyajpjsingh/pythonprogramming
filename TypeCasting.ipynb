{
 "cells": [
  {
   "cell_type": "code",
   "execution_count": 1,
   "id": "b81fdfc9-b6be-43ea-9ec2-6e75bd2a6957",
   "metadata": {},
   "outputs": [
    {
     "data": {
      "text/plain": [
       "5"
      ]
     },
     "execution_count": 1,
     "metadata": {},
     "output_type": "execute_result"
    }
   ],
   "source": [
    "a = 5 \n",
    "a "
   ]
  },
  {
   "cell_type": "code",
   "execution_count": 3,
   "id": "39fc33f3-a0ad-41ff-a698-316087d7a286",
   "metadata": {},
   "outputs": [
    {
     "data": {
      "text/plain": [
       "int"
      ]
     },
     "execution_count": 3,
     "metadata": {},
     "output_type": "execute_result"
    }
   ],
   "source": [
    "type(a)"
   ]
  },
  {
   "cell_type": "code",
   "execution_count": 5,
   "id": "8427f036-0c1c-48df-bde6-be5da61ea7b3",
   "metadata": {},
   "outputs": [
    {
     "data": {
      "text/plain": [
       "4.5"
      ]
     },
     "execution_count": 5,
     "metadata": {},
     "output_type": "execute_result"
    }
   ],
   "source": [
    "b = 4.5\n",
    "b"
   ]
  },
  {
   "cell_type": "code",
   "execution_count": 7,
   "id": "04f90857-2bea-4b41-8271-ce5cbd93c8ae",
   "metadata": {},
   "outputs": [
    {
     "data": {
      "text/plain": [
       "float"
      ]
     },
     "execution_count": 7,
     "metadata": {},
     "output_type": "execute_result"
    }
   ],
   "source": [
    "type(b)\n",
    "     "
   ]
  },
  {
   "cell_type": "code",
   "execution_count": 9,
   "id": "54fd1ec5-98e1-42a1-aacb-c03def62406b",
   "metadata": {},
   "outputs": [
    {
     "data": {
      "text/plain": [
       "'ajay'"
      ]
     },
     "execution_count": 9,
     "metadata": {},
     "output_type": "execute_result"
    }
   ],
   "source": [
    "a = 'ajay'\n",
    "a"
   ]
  },
  {
   "cell_type": "code",
   "execution_count": 11,
   "id": "26b12696-ed00-4092-8915-b842875b55bd",
   "metadata": {},
   "outputs": [
    {
     "data": {
      "text/plain": [
       "str"
      ]
     },
     "execution_count": 11,
     "metadata": {},
     "output_type": "execute_result"
    }
   ],
   "source": [
    "type(a)"
   ]
  },
  {
   "cell_type": "code",
   "execution_count": 14,
   "id": "aabb6341-7fa3-406f-b409-c3e1fe034ee4",
   "metadata": {},
   "outputs": [
    {
     "data": {
      "text/plain": [
       "5"
      ]
     },
     "execution_count": 14,
     "metadata": {},
     "output_type": "execute_result"
    }
   ],
   "source": [
    "2 + 3"
   ]
  },
  {
   "cell_type": "code",
   "execution_count": 16,
   "id": "58eab046-489c-45e6-b04e-5cd7e7d84f27",
   "metadata": {},
   "outputs": [
    {
     "ename": "TypeError",
     "evalue": "can only concatenate str (not \"int\") to str",
     "output_type": "error",
     "traceback": [
      "\u001b[1;31m---------------------------------------------------------------------------\u001b[0m",
      "\u001b[1;31mTypeError\u001b[0m                                 Traceback (most recent call last)",
      "Cell \u001b[1;32mIn[16], line 1\u001b[0m\n\u001b[1;32m----> 1\u001b[0m \u001b[38;5;124m\"\u001b[39m\u001b[38;5;124m2\u001b[39m\u001b[38;5;124m\"\u001b[39m \u001b[38;5;241m+\u001b[39m \u001b[38;5;241m3\u001b[39m\n",
      "\u001b[1;31mTypeError\u001b[0m: can only concatenate str (not \"int\") to str"
     ]
    }
   ],
   "source": [
    "\"2\" + 3 # it will throw error"
   ]
  },
  {
   "cell_type": "code",
   "execution_count": null,
   "id": "ab974a59-ced8-4779-9c45-ee37d877d798",
   "metadata": {},
   "outputs": [],
   "source": [
    "#type casting/type conversor >>the process of changing the data type of a value/object\n",
    "#why? while exexciting/computing using operators,there can be mismatch between the data"
   ]
  },
  {
   "cell_type": "code",
   "execution_count": 18,
   "id": "e1bbd126-c387-4622-8c78-8dd064719320",
   "metadata": {},
   "outputs": [
    {
     "ename": "TypeError",
     "evalue": "can only concatenate str (not \"int\") to str",
     "output_type": "error",
     "traceback": [
      "\u001b[1;31m---------------------------------------------------------------------------\u001b[0m",
      "\u001b[1;31mTypeError\u001b[0m                                 Traceback (most recent call last)",
      "Cell \u001b[1;32mIn[18], line 3\u001b[0m\n\u001b[0;32m      1\u001b[0m a \u001b[38;5;241m=\u001b[39m \u001b[38;5;124m\"\u001b[39m\u001b[38;5;124m2\u001b[39m\u001b[38;5;124m\"\u001b[39m\n\u001b[0;32m      2\u001b[0m b \u001b[38;5;241m=\u001b[39m \u001b[38;5;241m3\u001b[39m\n\u001b[1;32m----> 3\u001b[0m a\u001b[38;5;241m+\u001b[39mb\n",
      "\u001b[1;31mTypeError\u001b[0m: can only concatenate str (not \"int\") to str"
     ]
    }
   ],
   "source": [
    "a = \"2\"\n",
    "b = 3\n",
    "a+b\n"
   ]
  },
  {
   "cell_type": "code",
   "execution_count": 20,
   "id": "3a2a3e96-07f5-4381-8d93-a6a03d6e08de",
   "metadata": {},
   "outputs": [
    {
     "data": {
      "text/plain": [
       "str"
      ]
     },
     "execution_count": 20,
     "metadata": {},
     "output_type": "execute_result"
    }
   ],
   "source": [
    "type(a)"
   ]
  },
  {
   "cell_type": "code",
   "execution_count": 22,
   "id": "1830751a-b9b4-4851-adc2-1ffb6161c352",
   "metadata": {},
   "outputs": [
    {
     "data": {
      "text/plain": [
       "5"
      ]
     },
     "execution_count": 22,
     "metadata": {},
     "output_type": "execute_result"
    }
   ],
   "source": [
    "a = \"2\"\n",
    "b = 3\n",
    "int(a) + b"
   ]
  },
  {
   "cell_type": "code",
   "execution_count": 24,
   "id": "2c6513f8-3117-4007-90eb-f73f04880c0e",
   "metadata": {},
   "outputs": [
    {
     "name": "stdout",
     "output_type": "stream",
     "text": [
      "<class 'str'>\n",
      "<class 'int'>\n"
     ]
    }
   ],
   "source": [
    "a = \"2\" #string to integer\n",
    "print(type(a))\n",
    "print(type(int(a)))"
   ]
  },
  {
   "cell_type": "code",
   "execution_count": 26,
   "id": "1493266c-dda6-4814-bc1b-7cee55fda614",
   "metadata": {},
   "outputs": [],
   "source": [
    "a = 8.9"
   ]
  },
  {
   "cell_type": "code",
   "execution_count": 28,
   "id": "c359d683-b3c2-41a8-ab1a-5760c151e254",
   "metadata": {},
   "outputs": [
    {
     "data": {
      "text/plain": [
       "float"
      ]
     },
     "execution_count": 28,
     "metadata": {},
     "output_type": "execute_result"
    }
   ],
   "source": [
    "type(a)"
   ]
  },
  {
   "cell_type": "code",
   "execution_count": 30,
   "id": "9e553c68-58d5-4fff-b37e-7077db8b2ccc",
   "metadata": {},
   "outputs": [
    {
     "data": {
      "text/plain": [
       "8"
      ]
     },
     "execution_count": 30,
     "metadata": {},
     "output_type": "execute_result"
    }
   ],
   "source": [
    "int(a)"
   ]
  },
  {
   "cell_type": "code",
   "execution_count": 32,
   "id": "3003edae-6169-46c5-bfe5-40d9e4b9e8b8",
   "metadata": {},
   "outputs": [
    {
     "data": {
      "text/plain": [
       "int"
      ]
     },
     "execution_count": 32,
     "metadata": {},
     "output_type": "execute_result"
    }
   ],
   "source": [
    "b = 7.43\n",
    "type(b)\n",
    "float_value = int(b)\n",
    "type(float_value)\n"
   ]
  },
  {
   "cell_type": "code",
   "execution_count": 34,
   "id": "6358936d-e0df-42a8-afed-bc400f20bcb4",
   "metadata": {},
   "outputs": [
    {
     "data": {
      "text/plain": [
       "str"
      ]
     },
     "execution_count": 34,
     "metadata": {},
     "output_type": "execute_result"
    }
   ],
   "source": [
    "#string to float\n",
    "a = \"2.3\"\n",
    "type(a)"
   ]
  },
  {
   "cell_type": "code",
   "execution_count": 36,
   "id": "6b3cf09d-d497-4035-bfc1-e27e90eb3a6f",
   "metadata": {},
   "outputs": [
    {
     "data": {
      "text/plain": [
       "2.3"
      ]
     },
     "execution_count": 36,
     "metadata": {},
     "output_type": "execute_result"
    }
   ],
   "source": [
    "float(a)"
   ]
  },
  {
   "cell_type": "code",
   "execution_count": 38,
   "id": "47e58edd-69c8-4a89-8ca2-6e528cddf0d5",
   "metadata": {},
   "outputs": [
    {
     "data": {
      "text/plain": [
       "float"
      ]
     },
     "execution_count": 38,
     "metadata": {},
     "output_type": "execute_result"
    }
   ],
   "source": [
    "b = float(a)\n",
    "type(b)"
   ]
  },
  {
   "cell_type": "code",
   "execution_count": 40,
   "id": "c9d854b6-97f1-4431-b644-7e39e4064052",
   "metadata": {},
   "outputs": [
    {
     "data": {
      "text/plain": [
       "str"
      ]
     },
     "execution_count": 40,
     "metadata": {},
     "output_type": "execute_result"
    }
   ],
   "source": [
    "a = \"ajay\" #characters can not be converted into numbers\n",
    "type(a)"
   ]
  },
  {
   "cell_type": "code",
   "execution_count": 42,
   "id": "77ba3128-982c-48df-9eea-f5ee292df5bd",
   "metadata": {},
   "outputs": [
    {
     "ename": "ValueError",
     "evalue": "invalid literal for int() with base 10: 'ajay'",
     "output_type": "error",
     "traceback": [
      "\u001b[1;31m---------------------------------------------------------------------------\u001b[0m",
      "\u001b[1;31mValueError\u001b[0m                                Traceback (most recent call last)",
      "Cell \u001b[1;32mIn[42], line 1\u001b[0m\n\u001b[1;32m----> 1\u001b[0m \u001b[38;5;28mint\u001b[39m(a)\n",
      "\u001b[1;31mValueError\u001b[0m: invalid literal for int() with base 10: 'ajay'"
     ]
    }
   ],
   "source": [
    "int(a)"
   ]
  },
  {
   "cell_type": "code",
   "execution_count": 44,
   "id": "573cc1e4-f21d-4d79-a795-f8f054afe8e7",
   "metadata": {},
   "outputs": [
    {
     "ename": "ValueError",
     "evalue": "could not convert string to float: 'ajay'",
     "output_type": "error",
     "traceback": [
      "\u001b[1;31m---------------------------------------------------------------------------\u001b[0m",
      "\u001b[1;31mValueError\u001b[0m                                Traceback (most recent call last)",
      "Cell \u001b[1;32mIn[44], line 1\u001b[0m\n\u001b[1;32m----> 1\u001b[0m \u001b[38;5;28mfloat\u001b[39m(a)\n",
      "\u001b[1;31mValueError\u001b[0m: could not convert string to float: 'ajay'"
     ]
    }
   ],
   "source": [
    "float(a)"
   ]
  },
  {
   "cell_type": "code",
   "execution_count": 46,
   "id": "46b35d66-ff0d-47e5-92e9-b7fa5b91246e",
   "metadata": {},
   "outputs": [
    {
     "data": {
      "text/plain": [
       "5"
      ]
     },
     "execution_count": 46,
     "metadata": {},
     "output_type": "execute_result"
    }
   ],
   "source": [
    "#integers to string\n",
    "a = 5 \n",
    "a"
   ]
  },
  {
   "cell_type": "code",
   "execution_count": 64,
   "id": "4d049d97-6e37-4256-84d3-dbc9066e7ef3",
   "metadata": {},
   "outputs": [],
   "source": [
    "c = str(a)"
   ]
  },
  {
   "cell_type": "code",
   "execution_count": 66,
   "id": "b6602285-c584-4376-94b0-e82faa3b3988",
   "metadata": {},
   "outputs": [
    {
     "data": {
      "text/plain": [
       "str"
      ]
     },
     "execution_count": 66,
     "metadata": {},
     "output_type": "execute_result"
    }
   ],
   "source": [
    "type(c)"
   ]
  },
  {
   "cell_type": "code",
   "execution_count": 68,
   "id": "4fa9d69a-71a1-4e6a-818b-5f4dcbba64d0",
   "metadata": {},
   "outputs": [
    {
     "data": {
      "text/plain": [
       "int"
      ]
     },
     "execution_count": 68,
     "metadata": {},
     "output_type": "execute_result"
    }
   ],
   "source": [
    "#typecasting >>explicit and impliciate\n",
    "#implicite typecating>> python understand the data type\n",
    "a = 5\n",
    "type(a)"
   ]
  },
  {
   "cell_type": "code",
   "execution_count": 70,
   "id": "163d9c65-05d9-48b1-b856-f945ef4d16d4",
   "metadata": {},
   "outputs": [
    {
     "data": {
      "text/plain": [
       "5"
      ]
     },
     "execution_count": 70,
     "metadata": {},
     "output_type": "execute_result"
    }
   ],
   "source": [
    "2+3"
   ]
  },
  {
   "cell_type": "code",
   "execution_count": 72,
   "id": "521f05ea-581d-463d-be3c-648adcb3b150",
   "metadata": {},
   "outputs": [
    {
     "data": {
      "text/plain": [
       "5.5"
      ]
     },
     "execution_count": 72,
     "metadata": {},
     "output_type": "execute_result"
    }
   ],
   "source": [
    "2+3.5"
   ]
  },
  {
   "cell_type": "code",
   "execution_count": 74,
   "id": "7c409a68-4520-41ca-9e57-de4fe2247f3b",
   "metadata": {},
   "outputs": [
    {
     "data": {
      "text/plain": [
       "'2'"
      ]
     },
     "execution_count": 74,
     "metadata": {},
     "output_type": "execute_result"
    }
   ],
   "source": [
    "#explicite typecating>>convert data type using inbuild function >>str , int , float ,boolen\n",
    "a = \"2\"\n",
    "a"
   ]
  },
  {
   "cell_type": "code",
   "execution_count": 76,
   "id": "37d44d8e-bbc4-4151-a83c-02ce3acd99f4",
   "metadata": {},
   "outputs": [
    {
     "data": {
      "text/plain": [
       "str"
      ]
     },
     "execution_count": 76,
     "metadata": {},
     "output_type": "execute_result"
    }
   ],
   "source": [
    "type(a)"
   ]
  },
  {
   "cell_type": "code",
   "execution_count": 78,
   "id": "ef3503b6-d170-45a7-92e9-2963458682df",
   "metadata": {},
   "outputs": [
    {
     "data": {
      "text/plain": [
       "2"
      ]
     },
     "execution_count": 78,
     "metadata": {},
     "output_type": "execute_result"
    }
   ],
   "source": [
    "int(a)"
   ]
  },
  {
   "cell_type": "code",
   "execution_count": 80,
   "id": "01c68a04-6825-4d32-9909-fbbb67cf27b9",
   "metadata": {},
   "outputs": [
    {
     "data": {
      "text/plain": [
       "2.0"
      ]
     },
     "execution_count": 80,
     "metadata": {},
     "output_type": "execute_result"
    }
   ],
   "source": [
    "float(a)"
   ]
  },
  {
   "cell_type": "code",
   "execution_count": 82,
   "id": "7d10c85e-188a-4694-99ab-d55c3da1811e",
   "metadata": {},
   "outputs": [
    {
     "data": {
      "text/plain": [
       "5"
      ]
     },
     "execution_count": 82,
     "metadata": {},
     "output_type": "execute_result"
    }
   ],
   "source": [
    "2+3"
   ]
  },
  {
   "cell_type": "code",
   "execution_count": 86,
   "id": "631fffa5-9099-429e-87c7-bb86af9e0649",
   "metadata": {},
   "outputs": [
    {
     "ename": "TypeError",
     "evalue": "can only concatenate str (not \"int\") to str",
     "output_type": "error",
     "traceback": [
      "\u001b[1;31m---------------------------------------------------------------------------\u001b[0m",
      "\u001b[1;31mTypeError\u001b[0m                                 Traceback (most recent call last)",
      "Cell \u001b[1;32mIn[86], line 3\u001b[0m\n\u001b[0;32m      1\u001b[0m a \u001b[38;5;241m=\u001b[39m \u001b[38;5;124m\"\u001b[39m\u001b[38;5;124majay\u001b[39m\u001b[38;5;124m\"\u001b[39m\n\u001b[0;32m      2\u001b[0m b \u001b[38;5;241m=\u001b[39m \u001b[38;5;241m5\u001b[39m\n\u001b[1;32m----> 3\u001b[0m a\u001b[38;5;241m+\u001b[39mb\n",
      "\u001b[1;31mTypeError\u001b[0m: can only concatenate str (not \"int\") to str"
     ]
    }
   ],
   "source": [
    "a = \"ajay\"\n",
    "b = 5\n",
    "a+b"
   ]
  },
  {
   "cell_type": "code",
   "execution_count": 88,
   "id": "62c0ab94-a99f-4cfc-89a8-9f4be0d92375",
   "metadata": {},
   "outputs": [
    {
     "data": {
      "text/plain": [
       "'ajaykumar gupta '"
      ]
     },
     "execution_count": 88,
     "metadata": {},
     "output_type": "execute_result"
    }
   ],
   "source": [
    "a = \"ajay\"\n",
    "b = \"kumar gupta \"\n",
    "a+b"
   ]
  },
  {
   "cell_type": "code",
   "execution_count": 90,
   "id": "3287b584-22ba-442a-81b5-3f01b9b570a6",
   "metadata": {},
   "outputs": [
    {
     "data": {
      "text/plain": [
       "'100ajay'"
      ]
     },
     "execution_count": 90,
     "metadata": {},
     "output_type": "execute_result"
    }
   ],
   "source": [
    "\"100\" + \"ajay\""
   ]
  },
  {
   "cell_type": "code",
   "execution_count": 92,
   "id": "56269cbe-4606-4809-8c04-6a9b465ecf90",
   "metadata": {},
   "outputs": [
    {
     "data": {
      "text/plain": [
       "False"
      ]
     },
     "execution_count": 92,
     "metadata": {},
     "output_type": "execute_result"
    }
   ],
   "source": [
    "#bool\n",
    "bool(0)"
   ]
  },
  {
   "cell_type": "code",
   "execution_count": 94,
   "id": "5d876caa-12d4-4bd1-b5f0-ae71531c466a",
   "metadata": {},
   "outputs": [
    {
     "data": {
      "text/plain": [
       "True"
      ]
     },
     "execution_count": 94,
     "metadata": {},
     "output_type": "execute_result"
    }
   ],
   "source": [
    "bool(1)"
   ]
  },
  {
   "cell_type": "code",
   "execution_count": 96,
   "id": "ea33bbd7-6e7f-47b0-a24b-09122867eb2d",
   "metadata": {},
   "outputs": [
    {
     "data": {
      "text/plain": [
       "True"
      ]
     },
     "execution_count": 96,
     "metadata": {},
     "output_type": "execute_result"
    }
   ],
   "source": [
    "bool(100)"
   ]
  },
  {
   "cell_type": "code",
   "execution_count": 98,
   "id": "3a3d0e3c-10e7-44ef-a959-e9dd02485534",
   "metadata": {},
   "outputs": [
    {
     "data": {
      "text/plain": [
       "True"
      ]
     },
     "execution_count": 98,
     "metadata": {},
     "output_type": "execute_result"
    }
   ],
   "source": [
    "bool(10000)"
   ]
  },
  {
   "cell_type": "code",
   "execution_count": 102,
   "id": "7dc263fa-7118-4580-889d-9241588bdaef",
   "metadata": {},
   "outputs": [
    {
     "data": {
      "text/plain": [
       "True"
      ]
     },
     "execution_count": 102,
     "metadata": {},
     "output_type": "execute_result"
    }
   ],
   "source": [
    "bool(\"ajay\")"
   ]
  },
  {
   "cell_type": "code",
   "execution_count": 106,
   "id": "0d036a7d-7799-4bbc-95f1-6aeb63e4e00f",
   "metadata": {},
   "outputs": [
    {
     "data": {
      "text/plain": [
       "False"
      ]
     },
     "execution_count": 106,
     "metadata": {},
     "output_type": "execute_result"
    }
   ],
   "source": [
    "bool('')"
   ]
  },
  {
   "cell_type": "code",
   "execution_count": 108,
   "id": "71a0a228-b7a3-458d-af1b-cf1071b5f755",
   "metadata": {},
   "outputs": [
    {
     "data": {
      "text/plain": [
       "True"
      ]
     },
     "execution_count": 108,
     "metadata": {},
     "output_type": "execute_result"
    }
   ],
   "source": [
    "bool(-5)"
   ]
  },
  {
   "cell_type": "code",
   "execution_count": 3,
   "id": "144a3dcb-8263-4038-a36f-cc70cb72a8e8",
   "metadata": {},
   "outputs": [
    {
     "name": "stdout",
     "output_type": "stream",
     "text": [
      "getv out of bar\n"
     ]
    }
   ],
   "source": [
    "age = 17\n",
    "if age >= 18:\n",
    "    print(\"you will drink alcohol\")\n",
    "else:\n",
    "    print(\"getv out of bar\")\n"
   ]
  },
  {
   "cell_type": "code",
   "execution_count": 7,
   "id": "1d0cfe48-bf0d-4973-84fb-6f6e8cb0ac19",
   "metadata": {},
   "outputs": [
    {
     "name": "stdout",
     "output_type": "stream",
     "text": [
      "you are driving with license\n"
     ]
    }
   ],
   "source": [
    "age = 19\n",
    "if age >=18:\n",
    "    print(\"you are driving with license\")\n",
    "else:\n",
    "    print(\"you are not driving\")"
   ]
  },
  {
   "cell_type": "code",
   "execution_count": 17,
   "id": "408e22b9-cab6-4f0f-a4b9-9867ebb25781",
   "metadata": {},
   "outputs": [
    {
     "name": "stdout",
     "output_type": "stream",
     "text": [
      "i am playing\n"
     ]
    }
   ],
   "source": [
    "is_dscourse = False\n",
    "if is_dscourse:\n",
    "    print(\"i am studying\")\n",
    "else:\n",
    "    print(\"i am playing\")"
   ]
  },
  {
   "cell_type": "code",
   "execution_count": 23,
   "id": "514274dd-5dd5-4f12-8791-6ce3204bfdb6",
   "metadata": {},
   "outputs": [
    {
     "name": "stdout",
     "output_type": "stream",
     "text": [
      "no is less than 16\n"
     ]
    }
   ],
   "source": [
    "x = 14\n",
    "if x > 16:\n",
    "    print(\"no is grester than 16\")\n",
    "else:\n",
    "    print(\"no is less than 16\")\n",
    " "
   ]
  },
  {
   "cell_type": "code",
   "execution_count": 25,
   "id": "5b54fd90-46db-4356-b1f9-6d8004b055ea",
   "metadata": {},
   "outputs": [
    {
     "data": {
      "text/plain": [
       "0"
      ]
     },
     "execution_count": 25,
     "metadata": {},
     "output_type": "execute_result"
    }
   ],
   "source": [
    "#if check no is even \n",
    "8 % 2"
   ]
  },
  {
   "cell_type": "code",
   "execution_count": 37,
   "id": "9692eae3-d96f-4bab-ab7f-4f82f0f10e72",
   "metadata": {},
   "outputs": [
    {
     "name": "stdout",
     "output_type": "stream",
     "text": [
      "even\n"
     ]
    }
   ],
   "source": [
    "num = 4\n",
    "if num % 2 == 0:\n",
    "    print(\"even\")\n",
    "else:\n",
    "    print(\"odd\")"
   ]
  },
  {
   "cell_type": "code",
   "execution_count": 39,
   "id": "9382883c-c493-4f02-8bc3-8923d785a7b1",
   "metadata": {},
   "outputs": [
    {
     "name": "stdout",
     "output_type": "stream",
     "text": [
      "you are failled\n"
     ]
    }
   ],
   "source": [
    "score = 30\n",
    "if score >= 33:\n",
    "    print(\"you are passed\")\n",
    "else:\n",
    "    print(\"you are failled\")"
   ]
  },
  {
   "cell_type": "code",
   "execution_count": null,
   "id": "596972e3-cd58-4977-b6e1-b44de78247f3",
   "metadata": {},
   "outputs": [],
   "source": [
    "#if/else condition # has give two condition\n",
    "#but in real life we can have multiple condition\n",
    "#syntax\n",
    "#if some condition\n",
    "#elif some condition\n",
    "#else\n"
   ]
  },
  {
   "cell_type": "code",
   "execution_count": 45,
   "id": "50687d48-9736-4883-855c-b84afb367854",
   "metadata": {},
   "outputs": [
    {
     "name": "stdout",
     "output_type": "stream",
     "text": [
      "the number is equals to 100\n"
     ]
    }
   ],
   "source": [
    "a = 100\n",
    "if a > 100:\n",
    "    print(\"this block is execute if a is greater than 100\")\n",
    "elif a < 100:\n",
    "    print(\"this block is exexcute if a is lesser than 100\")\n",
    "else:\n",
    "    print(\"the number is equals to 100\")\n"
   ]
  },
  {
   "cell_type": "code",
   "execution_count": 49,
   "id": "a644f3ab-dbc0-408d-b689-e6a08ddb09a4",
   "metadata": {},
   "outputs": [
    {
     "ename": "SyntaxError",
     "evalue": "expected ':' (3594675294.py, line 8)",
     "output_type": "error",
     "traceback": [
      "\u001b[1;36m  Cell \u001b[1;32mIn[49], line 8\u001b[1;36m\u001b[0m\n\u001b[1;33m    else > 100:\u001b[0m\n\u001b[1;37m         ^\u001b[0m\n\u001b[1;31mSyntaxError\u001b[0m\u001b[1;31m:\u001b[0m expected ':'\n"
     ]
    }
   ],
   "source": [
    "a = 100000\n",
    "if a > 100:\n",
    "    print(\"this block is execute if a is greater than 100\")\n",
    "elif a < 100:\n",
    "    print(\"this block is exexcute if a is lesser than 100\")\n",
    "elif a > 20000:\n",
    "    print(\"this numberv is huge\")\n",
    "else > 100:\n",
    "    print(\"this numberv is equal to 100\")"
   ]
  },
  {
   "cell_type": "code",
   "execution_count": 53,
   "id": "31b03c88-84fc-4f91-bde8-1aa7770b6761",
   "metadata": {},
   "outputs": [
    {
     "name": "stdout",
     "output_type": "stream",
     "text": [
      "grade B\n"
     ]
    }
   ],
   "source": [
    "score = 80\n",
    "if score >= 90:\n",
    "    print(\"grade A\")\n",
    "elif (\"80<=score<90\"):\n",
    "    print(\"grade B\")\n",
    "elif(\"70<=score<60\"):\n",
    "    print(\"grade C\")\n",
    "else:\n",
    "    print(\"grade D\")\n"
   ]
  },
  {
   "cell_type": "code",
   "execution_count": 55,
   "id": "913f4851-6603-46e8-9ebc-69dab0b004e9",
   "metadata": {},
   "outputs": [
    {
     "name": "stdout",
     "output_type": "stream",
     "text": [
      "x is not greater than 5\n"
     ]
    }
   ],
   "source": [
    "#Nested if else >> you can have multiple if else inside if else\n",
    "x = 1\n",
    "y = 6\n",
    "if x > 5:\n",
    "    if y > 5:\n",
    "        print(\"both x and y is greater than 5\")\n",
    "    else:\n",
    "        print(\"x is greater than 5 but y is less than 5\")\n",
    "else:\n",
    "    print(\"x is not greater than 5\")"
   ]
  },
  {
   "cell_type": "code",
   "execution_count": 57,
   "id": "ee4c92a7-6fa7-4439-8f81-794910f6e102",
   "metadata": {},
   "outputs": [
    {
     "name": "stdout",
     "output_type": "stream",
     "text": [
      "vip status is only for adult\n"
     ]
    }
   ],
   "source": [
    "is_vip = True\n",
    "age = 15\n",
    "if is_vip:\n",
    "    if age >=18:\n",
    "        if age < 65:\n",
    "            print(\"welcome to vip customer\")\n",
    "        else:\n",
    "            print(\"you are vip and very imp. you are eligible for senior citizenship discount\")\n",
    "    else:\n",
    "        print(\"vip status is only for adult\")\n",
    "else:\n",
    "    print(\"you are not a vip customer and will be charged a regular price\")\n"
   ]
  },
  {
   "cell_type": "code",
   "execution_count": 73,
   "id": "d233e6ff-bad0-4196-b1ed-69180ae1ae81",
   "metadata": {},
   "outputs": [
    {
     "name": "stdin",
     "output_type": "stream",
     "text": [
      "enter a no ajay\n"
     ]
    },
    {
     "name": "stdout",
     "output_type": "stream",
     "text": [
      "the no is ajay\n"
     ]
    }
   ],
   "source": [
    "a = input(\"enter a no\")# by default input treat everything as a string\n",
    "print(\"the no is\", a)\n"
   ]
  },
  {
   "cell_type": "code",
   "execution_count": 75,
   "id": "5458b3fb-ef3d-4aae-b4a1-91a5f214d588",
   "metadata": {},
   "outputs": [
    {
     "data": {
      "text/plain": [
       "str"
      ]
     },
     "execution_count": 75,
     "metadata": {},
     "output_type": "execute_result"
    }
   ],
   "source": [
    "type(a)"
   ]
  },
  {
   "cell_type": "code",
   "execution_count": 79,
   "id": "ee12098c-11bf-442c-b049-68075d11d590",
   "metadata": {},
   "outputs": [
    {
     "name": "stdin",
     "output_type": "stream",
     "text": [
      "enter a no 3\n"
     ]
    },
    {
     "data": {
      "text/plain": [
       "3"
      ]
     },
     "execution_count": 79,
     "metadata": {},
     "output_type": "execute_result"
    }
   ],
   "source": [
    "a = int(input(\"enter a no\"))\n",
    "a"
   ]
  },
  {
   "cell_type": "code",
   "execution_count": 81,
   "id": "7219d516-b3bf-4b37-9adf-f11e704629c6",
   "metadata": {},
   "outputs": [
    {
     "data": {
      "text/plain": [
       "int"
      ]
     },
     "execution_count": 81,
     "metadata": {},
     "output_type": "execute_result"
    }
   ],
   "source": [
    "type(a)"
   ]
  },
  {
   "cell_type": "code",
   "execution_count": 89,
   "id": "026af55a-952f-4cdb-bce5-8574acd5e820",
   "metadata": {},
   "outputs": [
    {
     "name": "stdin",
     "output_type": "stream",
     "text": [
      "enter a no -5\n"
     ]
    },
    {
     "name": "stdout",
     "output_type": "stream",
     "text": [
      "this is the negative number\n"
     ]
    }
   ],
   "source": [
    "a = int(input(\"enter a no\"))\n",
    "if a >= 100:\n",
    "    print(\"the number is greater than 100\")\n",
    "elif 0<=a<100:\n",
    "    print(\"the number is greater than 0 and less than 100\")\n",
    "else:\n",
    "    print(\"this is the negative number\")"
   ]
  },
  {
   "cell_type": "code",
   "execution_count": 97,
   "id": "d42aac54-364b-486f-ba34-66d705224dfe",
   "metadata": {},
   "outputs": [
    {
     "name": "stdin",
     "output_type": "stream",
     "text": [
      "Please enter Your Name priya\n",
      "Please enter Email priyabghnghn\n",
      "Please enter your password frtgythn\n"
     ]
    },
    {
     "name": "stdout",
     "output_type": "stream",
     "text": [
      "Email not have @ and Invalid Email\n"
     ]
    }
   ],
   "source": [
    "name = input(\"Please enter Your Name\")\n",
    "email = input(\"Please enter Email\")\n",
    "pasword = input(\"Please enter your password\")\n",
    "\n",
    "if name == \"\":\n",
    "    print(\"Name can not be Blank\")\n",
    "else:\n",
    "    if \"@\" not in email:\n",
    "        print(\"Email not have @ and Invalid Email\")\n",
    "    else:\n",
    "        if len(pasword) > 0:\n",
    "           print(\"No Password Entered, Please enter Valid Password\")\n",
    "        else:\n",
    "            print(\"Login registered!! Success\")"
   ]
  },
  {
   "cell_type": "code",
   "execution_count": null,
   "id": "0e7ff3b3-a8ed-406e-a200-69aecb940a83",
   "metadata": {},
   "outputs": [],
   "source": []
  }
 ],
 "metadata": {
  "kernelspec": {
   "display_name": "Python 3 (ipykernel)",
   "language": "python",
   "name": "python3"
  },
  "language_info": {
   "codemirror_mode": {
    "name": "ipython",
    "version": 3
   },
   "file_extension": ".py",
   "mimetype": "text/x-python",
   "name": "python",
   "nbconvert_exporter": "python",
   "pygments_lexer": "ipython3",
   "version": "3.12.7"
  }
 },
 "nbformat": 4,
 "nbformat_minor": 5
}
