{
 "cells": [
  {
   "cell_type": "code",
   "execution_count": null,
   "id": "5346911d-0f44-4520-9fa3-7c6f0acb286f",
   "metadata": {},
   "outputs": [],
   "source": [
    "#conditional >> i will play cricket when the weather is sunny\n",
    "#loop statement >> i will keep checking the dishes untill all the dishes are over in a buffet\n",
    "#break statement >> i will check out all the dishes untill i get pasta\n",
    "# conditional statements >> helps you to code decisions based on some preconditions\n",
    "#if \n",
    "#if else\n",
    "#if elif(elseif)else\n",
    "#nested if else\n",
    "# if statements\n",
    "#syntax\n",
    "#if condition true\n",
    "#block of code will be executed\n",
    "\n"
   ]
  },
  {
   "cell_type": "code",
   "execution_count": null,
   "id": "b06c598b-254d-4495-b56e-e2395b2d6b6c",
   "metadata": {},
   "outputs": [],
   "source": [
    "if weather = = \"sunny\" [condition]\n",
    "#if condition is true the python will be exexcuted in the block\n"
   ]
  },
  {
   "cell_type": "code",
   "execution_count": 3,
   "id": "0d9d952d-144c-41f3-822e-1def129df2fa",
   "metadata": {},
   "outputs": [
    {
     "data": {
      "text/plain": [
       "False"
      ]
     },
     "execution_count": 3,
     "metadata": {},
     "output_type": "execute_result"
    }
   ],
   "source": [
    "3>4"
   ]
  },
  {
   "cell_type": "code",
   "execution_count": 5,
   "id": "bef674da-5734-4320-ad6d-6e51f6e20ede",
   "metadata": {},
   "outputs": [
    {
     "data": {
      "text/plain": [
       "True"
      ]
     },
     "execution_count": 5,
     "metadata": {},
     "output_type": "execute_result"
    }
   ],
   "source": [
    "2<4"
   ]
  },
  {
   "cell_type": "code",
   "execution_count": 7,
   "id": "fda441fc-8115-468d-9547-af174e3c4df0",
   "metadata": {},
   "outputs": [
    {
     "name": "stdout",
     "output_type": "stream",
     "text": [
      "the number is greater than 0\n"
     ]
    }
   ],
   "source": [
    "a = 100\n",
    "if a > 0: #executed the if block, if the condition is true\n",
    "    print(\"the number is greater than 0\")"
   ]
  },
  {
   "cell_type": "code",
   "execution_count": 11,
   "id": "cbd65615-ac97-4c48-a56d-f08db027f534",
   "metadata": {},
   "outputs": [],
   "source": [
    "a = 100\n",
    "if a < 0: #executed the if block, if the condition is false the condition will be not executed\n",
    "    print(\"the number is greater than 0\")"
   ]
  },
  {
   "cell_type": "code",
   "execution_count": 13,
   "id": "64f7fc33-9173-44cf-8168-7c2eec2b9fc5",
   "metadata": {},
   "outputs": [
    {
     "name": "stdout",
     "output_type": "stream",
     "text": [
      "i will not play cricket\n"
     ]
    }
   ],
   "source": [
    "weather = \"rainy\"\n",
    "if weather == \"rainy\":\n",
    "    print(\"i will not play cricket\")\n"
   ]
  },
  {
   "cell_type": "code",
   "execution_count": 15,
   "id": "b6e37e3a-0a2b-49c1-82b6-a71cf028c1bb",
   "metadata": {},
   "outputs": [],
   "source": [
    "weather = \"sunny\"\n",
    "if weather == \"rainy\":\n",
    "    print(\"i will not play cricket\")"
   ]
  },
  {
   "cell_type": "code",
   "execution_count": 17,
   "id": "42f0919f-4ada-4fb5-9063-8bd567782aac",
   "metadata": {},
   "outputs": [
    {
     "ename": "IndentationError",
     "evalue": "expected an indented block after 'if' statement on line 2 (2255486294.py, line 3)",
     "output_type": "error",
     "traceback": [
      "\u001b[1;36m  Cell \u001b[1;32mIn[17], line 3\u001b[1;36m\u001b[0m\n\u001b[1;33m    print(\"i will not play cricket\")\u001b[0m\n\u001b[1;37m    ^\u001b[0m\n\u001b[1;31mIndentationError\u001b[0m\u001b[1;31m:\u001b[0m expected an indented block after 'if' statement on line 2\n"
     ]
    }
   ],
   "source": [
    "weather = \"sunny\"\n",
    "if weather == \"rainy\":\n",
    "print(\"i will not play cricket\")   "
   ]
  },
  {
   "cell_type": "code",
   "execution_count": 19,
   "id": "7f9780ef-2221-4314-b7c1-29feb6bf1cad",
   "metadata": {},
   "outputs": [
    {
     "name": "stdout",
     "output_type": "stream",
     "text": [
      "room temp \n"
     ]
    }
   ],
   "source": [
    "temp = 80\n",
    "if temp>67:\n",
    "    print(\"room temp \")\n"
   ]
  },
  {
   "cell_type": "code",
   "execution_count": 25,
   "id": "946b6872-6c69-4fd6-90dd-124d41656a0e",
   "metadata": {},
   "outputs": [
    {
     "name": "stdout",
     "output_type": "stream",
     "text": [
      "I am studying the course\n"
     ]
    }
   ],
   "source": [
    "is_ds_course = True\n",
    "if is_ds_course:\n",
    "    print(\"I am studying the course\")"
   ]
  },
  {
   "cell_type": "code",
   "execution_count": 27,
   "id": "25779946-248b-471f-884a-9fde64d2062a",
   "metadata": {},
   "outputs": [
    {
     "name": "stdout",
     "output_type": "stream",
     "text": [
      "you are excellent\n"
     ]
    }
   ],
   "source": [
    "grade = 8\n",
    "if grade>=8:\n",
    "    print(\"you are excellent\")"
   ]
  },
  {
   "cell_type": "code",
   "execution_count": 29,
   "id": "6ab29067-20c8-4339-9c0f-079324449106",
   "metadata": {},
   "outputs": [
    {
     "name": "stdout",
     "output_type": "stream",
     "text": [
      "the number is even\n"
     ]
    }
   ],
   "source": [
    "number = 42\n",
    "if number %2 == 0:\n",
    "    print(\"the number is even\")"
   ]
  },
  {
   "cell_type": "code",
   "execution_count": 33,
   "id": "c5ffb837-b968-48cb-a5a1-3b19918df57e",
   "metadata": {},
   "outputs": [
    {
     "name": "stdout",
     "output_type": "stream",
     "text": [
      "this is the number of interest\n"
     ]
    }
   ],
   "source": [
    "number = 42\n",
    "if ((number %2 == 0) & (number >=0)):\n",
    "    print(\"this is the number of interest\") "
   ]
  },
  {
   "cell_type": "code",
   "execution_count": 41,
   "id": "1b6d0a9a-b164-45e9-afd0-855db3c4a9f4",
   "metadata": {},
   "outputs": [
    {
     "name": "stdout",
     "output_type": "stream",
     "text": [
      "you are allrounder\n"
     ]
    }
   ],
   "source": [
    "grade = 8\n",
    "co_cirr = True\n",
    "if ((grade >=8) and (co_cirr == True)):\n",
    "    print(\"you are allrounder\")"
   ]
  },
  {
   "cell_type": "code",
   "execution_count": null,
   "id": "63258081-bb06-413f-9be1-0fed4a627a36",
   "metadata": {},
   "outputs": [],
   "source": [
    "#In real life if one condition is not fulfilled, you will do something else\n",
    "#example:: if westher is not rainy, i will go to play cricket else i ewill watch tv."
   ]
  },
  {
   "cell_type": "code",
   "execution_count": 43,
   "id": "890a737b-9b11-4637-97b5-145e1b0b5ce5",
   "metadata": {},
   "outputs": [
    {
     "name": "stdout",
     "output_type": "stream",
     "text": [
      "i will watch tv\n"
     ]
    }
   ],
   "source": [
    "#If else >> exexcuted the if block when the condition is true else execute else block\n",
    "weather = \"sunny\"\n",
    "if weather == \"rainy\":#condition is true, executed if block\n",
    "    print(\"i will  play cricket\")\n",
    "else:#condition is not true, else block will be executed\n",
    "    print(\"i will watch tv\")"
   ]
  }
 ],
 "metadata": {
  "kernelspec": {
   "display_name": "Python 3 (ipykernel)",
   "language": "python",
   "name": "python3"
  },
  "language_info": {
   "codemirror_mode": {
    "name": "ipython",
    "version": 3
   },
   "file_extension": ".py",
   "mimetype": "text/x-python",
   "name": "python",
   "nbconvert_exporter": "python",
   "pygments_lexer": "ipython3",
   "version": "3.12.7"
  }
 },
 "nbformat": 4,
 "nbformat_minor": 5
}
