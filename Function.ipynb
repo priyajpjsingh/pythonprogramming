{
 "cells": [
  {
   "cell_type": "code",
   "execution_count": 1,
   "id": "3eb18674-d626-4a10-be08-6ce5ccf94b8f",
   "metadata": {},
   "outputs": [
    {
     "name": "stdout",
     "output_type": "stream",
     "text": [
      "hello world\n"
     ]
    }
   ],
   "source": [
    "print(\"hello world\")"
   ]
  },
  {
   "cell_type": "code",
   "execution_count": 3,
   "id": "e821e4da-60f9-42fa-be57-a20ee28b7a91",
   "metadata": {},
   "outputs": [
    {
     "data": {
      "text/plain": [
       "8"
      ]
     },
     "execution_count": 3,
     "metadata": {},
     "output_type": "execute_result"
    }
   ],
   "source": [
    "len(\"pwskills\")"
   ]
  },
  {
   "cell_type": "code",
   "execution_count": 5,
   "id": "dbb269f1-92ab-435f-bb6c-75df20c31d03",
   "metadata": {},
   "outputs": [
    {
     "data": {
      "text/plain": [
       "int"
      ]
     },
     "execution_count": 5,
     "metadata": {},
     "output_type": "execute_result"
    }
   ],
   "source": [
    "type(5)"
   ]
  },
  {
   "cell_type": "code",
   "execution_count": 7,
   "id": "e117af73-a99f-4ce1-aa69-3e9139efeb96",
   "metadata": {},
   "outputs": [
    {
     "data": {
      "text/plain": [
       "float"
      ]
     },
     "execution_count": 7,
     "metadata": {},
     "output_type": "execute_result"
    }
   ],
   "source": [
    "type(5.4)"
   ]
  },
  {
   "cell_type": "code",
   "execution_count": null,
   "id": "685a7108-8e4e-4f8a-bcd4-3bc5813b35dd",
   "metadata": {},
   "outputs": [],
   "source": [
    "#function>>print, lenght,type>>it is inbuild type python function\n",
    "#ceill>>roof>> it will give the nearest heights value\n",
    "#floor>>ground>>it will give the nerarest lowest value\n"
   ]
  },
  {
   "cell_type": "code",
   "execution_count": 13,
   "id": "e90adc43-1617-4a14-bb96-aa16a7fff2b5",
   "metadata": {},
   "outputs": [
    {
     "ename": "SyntaxError",
     "evalue": "invalid syntax (1842465647.py, line 2)",
     "output_type": "error",
     "traceback": [
      "\u001b[1;36m  Cell \u001b[1;32mIn[13], line 2\u001b[1;36m\u001b[0m\n\u001b[1;33m    import\u001b[0m\n\u001b[1;37m          ^\u001b[0m\n\u001b[1;31mSyntaxError\u001b[0m\u001b[1;31m:\u001b[0m invalid syntax\n"
     ]
    }
   ],
   "source": [
    "import math as m #math(library)is a collection of function\n",
    "import"
   ]
  },
  {
   "cell_type": "code",
   "execution_count": 17,
   "id": "50151e4e-6c8c-4d58-8988-5758b1a267b3",
   "metadata": {},
   "outputs": [
    {
     "data": {
      "text/plain": [
       "6"
      ]
     },
     "execution_count": 17,
     "metadata": {},
     "output_type": "execute_result"
    }
   ],
   "source": [
    "m.floor(6.5)"
   ]
  },
  {
   "cell_type": "code",
   "execution_count": null,
   "id": "9ec126df-c1ce-45a9-9808-ce8b1f5dbf2f",
   "metadata": {},
   "outputs": [],
   "source": [
    "#inbuild function\n",
    "#user define function()"
   ]
  },
  {
   "cell_type": "code",
   "execution_count": null,
   "id": "58e26ffb-4e86-4ef2-b912-361705ef7307",
   "metadata": {},
   "outputs": [],
   "source": [
    "#syntax of function\n",
    "#def fun():\n",
    " # do something >>body of function\n",
    "#function>> is a block of code which perfome some specific task and computation\n",
    "#why function>> function ARE reusable, neat, claen and organised, save time"
   ]
  },
  {
   "cell_type": "code",
   "execution_count": 1,
   "id": "83df86a1-6317-457e-8693-53f9077e870b",
   "metadata": {},
   "outputs": [
    {
     "name": "stdout",
     "output_type": "stream",
     "text": [
      "welcome to the office arzoo\n",
      "welcome to the office priya\n",
      "welcome to the office sonu\n",
      "welcome to the office rahul\n"
     ]
    }
   ],
   "source": [
    "print(\"welcome to the office arzoo\")\n",
    "print(\"welcome to the office priya\")\n",
    "print(\"welcome to the office sonu\")\n",
    "print(\"welcome to the office rahul\")\n"
   ]
  },
  {
   "cell_type": "code",
   "execution_count": 13,
   "id": "71b24468-b89e-4eda-84c8-2bcf148eb119",
   "metadata": {},
   "outputs": [
    {
     "name": "stdout",
     "output_type": "stream",
     "text": [
      "welcome to the office\n"
     ]
    }
   ],
   "source": [
    "def greetings():\n",
    "    print(\"welcome to the office\")\n",
    "greetings()\n",
    "\n",
    "    "
   ]
  },
  {
   "cell_type": "code",
   "execution_count": 11,
   "id": "46221e0c-c58b-443d-a448-b8b8ab29104c",
   "metadata": {},
   "outputs": [
    {
     "name": "stdout",
     "output_type": "stream",
     "text": [
      "this is my first function\n"
     ]
    }
   ],
   "source": [
    "def func():\n",
    "    print(\"this is my first function\")\n",
    "func()"
   ]
  },
  {
   "cell_type": "code",
   "execution_count": 15,
   "id": "c9c7a1cd-2798-447b-8ac7-549405a6e3d0",
   "metadata": {},
   "outputs": [
    {
     "data": {
      "text/plain": [
       "'this is my first functionin python'"
      ]
     },
     "execution_count": 15,
     "metadata": {},
     "output_type": "execute_result"
    }
   ],
   "source": [
    "\"this is my first function\" + \"in python\""
   ]
  },
  {
   "cell_type": "code",
   "execution_count": 7,
   "id": "c6c4641f-ab96-4ae0-bdff-8c33cab26739",
   "metadata": {},
   "outputs": [],
   "source": [
    "def func():\n",
    "    return \"this is my first function\", 1, 2, 2.3, True, 3+7j"
   ]
  },
  {
   "cell_type": "code",
   "execution_count": 9,
   "id": "ec4f0990-ba41-4cb4-bd9c-8c151ce55ef3",
   "metadata": {},
   "outputs": [
    {
     "data": {
      "text/plain": [
       "('this is my first function', 1, 2, 2.3, True, (3+7j))"
      ]
     },
     "execution_count": 9,
     "metadata": {},
     "output_type": "execute_result"
    }
   ],
   "source": [
    "func()"
   ]
  },
  {
   "cell_type": "code",
   "execution_count": 11,
   "id": "639521fb-e527-4a0b-a7a7-b06fd159af6b",
   "metadata": {},
   "outputs": [
    {
     "data": {
      "text/plain": [
       "tuple"
      ]
     },
     "execution_count": 11,
     "metadata": {},
     "output_type": "execute_result"
    }
   ],
   "source": [
    "a = func()\n",
    "type(a)"
   ]
  },
  {
   "cell_type": "code",
   "execution_count": 13,
   "id": "315b0977-4782-4a47-b3b0-ca9a62396044",
   "metadata": {},
   "outputs": [
    {
     "data": {
      "text/plain": [
       "('this is my first function', 1, 2, 2.3, True, (3+7j))"
      ]
     },
     "execution_count": 13,
     "metadata": {},
     "output_type": "execute_result"
    }
   ],
   "source": [
    "a, b, c, d, e, f  = func()"
   ]
  },
  {
   "cell_type": "code",
   "execution_count": 23,
   "id": "7cdbedad-e077-4cf1-a90d-ca194c804e93",
   "metadata": {},
   "outputs": [
    {
     "data": {
      "text/plain": [
       "11236"
      ]
     },
     "execution_count": 23,
     "metadata": {},
     "output_type": "execute_result"
    }
   ],
   "source": [
    "def square_no(args):\n",
    "    return args * args\n",
    "square_no(106)"
   ]
  },
  {
   "cell_type": "code",
   "execution_count": 25,
   "id": "49019b46-8d82-4238-9fd8-8570359aa6c2",
   "metadata": {},
   "outputs": [],
   "source": [
    "def addition(a, b):\n",
    "    return a+b\n",
    "    "
   ]
  },
  {
   "cell_type": "code",
   "execution_count": 29,
   "id": "f92da3e0-2cb5-4db3-8982-619ee1897436",
   "metadata": {},
   "outputs": [
    {
     "data": {
      "text/plain": [
       "12"
      ]
     },
     "execution_count": 29,
     "metadata": {},
     "output_type": "execute_result"
    }
   ],
   "source": [
    "addition(6, 6)"
   ]
  },
  {
   "cell_type": "code",
   "execution_count": 33,
   "id": "180b5dbb-25ef-49af-a32c-e42f00a3a74f",
   "metadata": {},
   "outputs": [
    {
     "data": {
      "text/plain": [
       "'priyajitender'"
      ]
     },
     "execution_count": 33,
     "metadata": {},
     "output_type": "execute_result"
    }
   ],
   "source": [
    "addition(\"priya\", \"jitender\")"
   ]
  },
  {
   "cell_type": "code",
   "execution_count": null,
   "id": "8a755cd6-b0c2-43a8-bb57-017ae97ad593",
   "metadata": {},
   "outputs": [],
   "source": [
    "def sum1(a, b, c):\n",
    "    return a+b+c"
   ]
  },
  {
   "cell_type": "markdown",
   "id": "613ed742-582f-4b08-ae53-6cfed0a8cad3",
   "metadata": {},
   "source": [
    "sum1(1, 2, 3)"
   ]
  },
  {
   "cell_type": "code",
   "execution_count": 17,
   "id": "ea643e10-9e09-435c-85b7-45dc1721e4d7",
   "metadata": {},
   "outputs": [],
   "source": [
    "def add_two_number():\n",
    "    a = int(input(\"enter the first number\"))\n",
    "    b = int(input(\"enter the second number\"))\n",
    "    return a+b\n"
   ]
  },
  {
   "cell_type": "code",
   "execution_count": 19,
   "id": "9ae9229a-c95a-4900-be2b-908124eab4c6",
   "metadata": {},
   "outputs": [
    {
     "name": "stdin",
     "output_type": "stream",
     "text": [
      "enter the first number 5\n",
      "enter the second number 6\n"
     ]
    },
    {
     "data": {
      "text/plain": [
       "11"
      ]
     },
     "execution_count": 19,
     "metadata": {},
     "output_type": "execute_result"
    }
   ],
   "source": [
    "add_two_number()"
   ]
  },
  {
   "cell_type": "code",
   "execution_count": null,
   "id": "cbe9c511-ae04-440a-803d-3fe23d54999f",
   "metadata": {},
   "outputs": [],
   "source": [
    "#write a function that takes list as inputs and return numeric value"
   ]
  },
  {
   "cell_type": "code",
   "execution_count": 25,
   "id": "591c7579-a578-4a4e-919d-c072381fea6e",
   "metadata": {},
   "outputs": [],
   "source": [
    "def only_numeric(a):\n",
    "    n = []\n",
    "    for i in a:\n",
    "        if type(i) == int or type(i) == float:\n",
    "            n.append(i)\n",
    "    return n"
   ]
  },
  {
   "cell_type": "code",
   "execution_count": 27,
   "id": "b91a4f54-3a7a-4116-a58a-7710c0704ae3",
   "metadata": {},
   "outputs": [
    {
     "data": {
      "text/plain": [
       "[1, 3, 5.6]"
      ]
     },
     "execution_count": 27,
     "metadata": {},
     "output_type": "execute_result"
    }
   ],
   "source": [
    "only_numeric([1, 3 ,5.6, 5+7j, \"True\", \"pwskills\", \"ajay\"])"
   ]
  },
  {
   "cell_type": "code",
   "execution_count": null,
   "id": "f007dda5-d2ad-4bde-9095-64837ba43728",
   "metadata": {},
   "outputs": [],
   "source": [
    "#now put in nested list\n",
    "#only_numeric([1, 3 ,5.6, 5+7j, \"True\", \"pwskills\", \"ajay\", [100, 101, \"ajay\"]])"
   ]
  },
  {
   "cell_type": "code",
   "execution_count": null,
   "id": "f81c5d3b-8932-40d0-83d9-61cd659d597c",
   "metadata": {},
   "outputs": [],
   "source": [
    "def only_numeric(a):\n",
    "    n = []\n",
    "    for i in a:\n",
    "        if type(i) == list:\n",
    "            for j in i:\n",
    "                if type(j) == int or type(j) == float:\n",
    "                    n.append(J)\n",
    "    else \n",
    "        if type(i) == int or type(i) == float:\n",
    "            n.append(i)\n",
    "    return n"
   ]
  },
  {
   "cell_type": "code",
   "execution_count": 29,
   "id": "7c1d0539-bb73-43ea-8d7c-06217c72ea0f",
   "metadata": {},
   "outputs": [
    {
     "data": {
      "text/plain": [
       "[1, 3, 5.6]"
      ]
     },
     "execution_count": 29,
     "metadata": {},
     "output_type": "execute_result"
    }
   ],
   "source": [
    "only_numeric([1, 3 ,5.6, 5+7j, \"True\", \"pwskills\", \"ajay\", [100, 101, \"ajay\"]])"
   ]
  },
  {
   "cell_type": "code",
   "execution_count": 55,
   "id": "40411866-9e9f-49d6-af0a-368dea4372d9",
   "metadata": {},
   "outputs": [],
   "source": [
    "def sum1(a, b):\n",
    "    return a + b \n",
    " "
   ]
  },
  {
   "cell_type": "code",
   "execution_count": 57,
   "id": "8d48d7fd-936b-47d8-821d-dd64d4a91cef",
   "metadata": {},
   "outputs": [
    {
     "data": {
      "text/plain": [
       "5"
      ]
     },
     "execution_count": 57,
     "metadata": {},
     "output_type": "execute_result"
    }
   ],
   "source": [
    "sum1(2, 3)"
   ]
  },
  {
   "cell_type": "code",
   "execution_count": null,
   "id": "26aacb8f-8bae-4180-ad3a-396751b3daca",
   "metadata": {},
   "outputs": [],
   "source": [
    "#varable lenght >>when you notb known the no of arguments "
   ]
  },
  {
   "cell_type": "code",
   "execution_count": 59,
   "id": "57e454ea-a794-4631-bc9b-34fc52412119",
   "metadata": {},
   "outputs": [],
   "source": [
    "def sum1(*argu):\n",
    "    return argu\n",
    "    "
   ]
  },
  {
   "cell_type": "code",
   "execution_count": 61,
   "id": "93e9fd24-bd1f-4bfd-acab-ae52dd6e7e8f",
   "metadata": {},
   "outputs": [
    {
     "data": {
      "text/plain": [
       "(1, 2)"
      ]
     },
     "execution_count": 61,
     "metadata": {},
     "output_type": "execute_result"
    }
   ],
   "source": [
    "sum1(1, 2)"
   ]
  },
  {
   "cell_type": "code",
   "execution_count": 63,
   "id": "8f7fe162-a3a5-454d-911f-56ad6a94283e",
   "metadata": {},
   "outputs": [],
   "source": [
    "def test(args, a):\n",
    "    return args, a"
   ]
  },
  {
   "cell_type": "code",
   "execution_count": 69,
   "id": "6c6ac82f-7450-45f6-9d6a-56999844a098",
   "metadata": {},
   "outputs": [
    {
     "ename": "TypeError",
     "evalue": "test() got multiple values for argument 'a'",
     "output_type": "error",
     "traceback": [
      "\u001b[1;31m---------------------------------------------------------------------------\u001b[0m",
      "\u001b[1;31mTypeError\u001b[0m                                 Traceback (most recent call last)",
      "Cell \u001b[1;32mIn[69], line 1\u001b[0m\n\u001b[1;32m----> 1\u001b[0m test(\u001b[38;5;241m1\u001b[39m, \u001b[38;5;241m2\u001b[39m, \u001b[38;5;241m3\u001b[39m, \u001b[38;5;241m4\u001b[39m , a \u001b[38;5;241m=\u001b[39m \u001b[38;5;241m100\u001b[39m)\n",
      "\u001b[1;31mTypeError\u001b[0m: test() got multiple values for argument 'a'"
     ]
    }
   ],
   "source": [
    "test(1, 2, 3, 4 , a = 100)"
   ]
  },
  {
   "cell_type": "code",
   "execution_count": 73,
   "id": "2c1b4fef-8273-42eb-871e-e867b4c2fa7f",
   "metadata": {},
   "outputs": [],
   "source": [
    "def retrun_list(*args):\n",
    "    l = []\n",
    "    for i in args:\n",
    "        if type(i) == list:\n",
    "           l.append(i)\n",
    "    return l"
   ]
  },
  {
   "cell_type": "code",
   "execution_count": 75,
   "id": "5775ded6-3b07-4116-b05d-9e479503b51e",
   "metadata": {},
   "outputs": [
    {
     "data": {
      "text/plain": [
       "[[2, 5, 6]]"
      ]
     },
     "execution_count": 75,
     "metadata": {},
     "output_type": "execute_result"
    }
   ],
   "source": [
    "retrun_list(1, 2 , 4.3, 5+6j, {2, 3}, [2, 5, 6], (4, 5, 6), \"True\", \"ajay\")"
   ]
  },
  {
   "cell_type": "code",
   "execution_count": 81,
   "id": "045195ec-3972-4b54-b351-7e1477b1aaf1",
   "metadata": {},
   "outputs": [],
   "source": [
    "subpart = \"to the course\" #global \n",
    "def greet():\n",
    "    message = \"hello, welcome\" + subpart\n",
    "    print(message)"
   ]
  },
  {
   "cell_type": "code",
   "execution_count": 83,
   "id": "c0374d93-0122-40e1-ad4c-83f24c602b4b",
   "metadata": {},
   "outputs": [
    {
     "name": "stdout",
     "output_type": "stream",
     "text": [
      "hello, welcometo the course\n"
     ]
    }
   ],
   "source": [
    "greet()"
   ]
  },
  {
   "cell_type": "code",
   "execution_count": null,
   "id": "830a216b-fff7-4d15-945c-1938ca38f3f9",
   "metadata": {},
   "outputs": [],
   "source": []
  }
 ],
 "metadata": {
  "kernelspec": {
   "display_name": "Python 3 (ipykernel)",
   "language": "python",
   "name": "python3"
  },
  "language_info": {
   "codemirror_mode": {
    "name": "ipython",
    "version": 3
   },
   "file_extension": ".py",
   "mimetype": "text/x-python",
   "name": "python",
   "nbconvert_exporter": "python",
   "pygments_lexer": "ipython3",
   "version": "3.12.7"
  }
 },
 "nbformat": 4,
 "nbformat_minor": 5
}
