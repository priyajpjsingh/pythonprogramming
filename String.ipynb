{
 "cells": [
  {
   "cell_type": "code",
   "execution_count": 1,
   "id": "b2696864-b936-451b-9d1f-cbf14bfe1703",
   "metadata": {},
   "outputs": [],
   "source": [
    "string1 = \"pwskills\""
   ]
  },
  {
   "cell_type": "code",
   "execution_count": 4,
   "id": "491a30c0-582c-4f7c-9da2-7f6f84a03ded",
   "metadata": {},
   "outputs": [
    {
     "data": {
      "text/plain": [
       "'pwskills'"
      ]
     },
     "execution_count": 4,
     "metadata": {},
     "output_type": "execute_result"
    }
   ],
   "source": [
    "string1"
   ]
  },
  {
   "cell_type": "code",
   "execution_count": 8,
   "id": "40ad6f78-2ce2-4f53-9393-82337beff7fa",
   "metadata": {},
   "outputs": [
    {
     "ename": "TypeError",
     "evalue": "'str' object is not callable",
     "output_type": "error",
     "traceback": [
      "\u001b[1;31m---------------------------------------------------------------------------\u001b[0m",
      "\u001b[1;31mTypeError\u001b[0m                                 Traceback (most recent call last)",
      "Cell \u001b[1;32mIn[8], line 4\u001b[0m\n\u001b[0;32m      2\u001b[0m s \u001b[38;5;241m=\u001b[39m \u001b[38;5;124m\"\u001b[39m\u001b[38;5;124mpwskills\u001b[39m\u001b[38;5;124m\"\u001b[39m\n\u001b[0;32m      3\u001b[0m s\n\u001b[1;32m----> 4\u001b[0m s(\u001b[38;5;241m0\u001b[39m)\n",
      "\u001b[1;31mTypeError\u001b[0m: 'str' object is not callable"
     ]
    }
   ],
   "source": [
    "#strings are immutable\n",
    "s = \"pwskills\"\n",
    "s\n",
    "s(0)"
   ]
  },
  {
   "cell_type": "code",
   "execution_count": 12,
   "id": "0757588f-0ffb-46cb-bf32-2561a89ce8ff",
   "metadata": {},
   "outputs": [
    {
     "data": {
      "text/plain": [
       "'I am a teacher '"
      ]
     },
     "execution_count": 12,
     "metadata": {},
     "output_type": "execute_result"
    }
   ],
   "source": [
    "#modification of string\n",
    "s = \"I am a student \"\n",
    "s.replace(\"student\",  \"teacher\")\n"
   ]
  },
  {
   "cell_type": "code",
   "execution_count": 14,
   "id": "dfb682ca-feef-4443-b339-58eff001aa00",
   "metadata": {},
   "outputs": [
    {
     "data": {
      "text/plain": [
       "'suhana apartment, marathali, banglore'"
      ]
     },
     "execution_count": 14,
     "metadata": {},
     "output_type": "execute_result"
    }
   ],
   "source": [
    "#use case\n",
    "adress = (\"suhana apartment, marathali, banglore\")\n",
    "adress"
   ]
  },
  {
   "cell_type": "code",
   "execution_count": 16,
   "id": "cc8aaa4d-f4e0-4808-aeb1-abb3b56b6ec8",
   "metadata": {},
   "outputs": [
    {
     "data": {
      "text/plain": [
       "'suhana apartment, marathali, banglore'"
      ]
     },
     "execution_count": 16,
     "metadata": {},
     "output_type": "execute_result"
    }
   ],
   "source": [
    "adress.replace(\"sushna apartment\" , \"sushila apartment\")"
   ]
  },
  {
   "cell_type": "code",
   "execution_count": 18,
   "id": "9a6dfe73-39bc-48f4-b59a-86163dc13732",
   "metadata": {},
   "outputs": [
    {
     "data": {
      "text/plain": [
       "'suhana apartment, marathali, banglore'"
      ]
     },
     "execution_count": 18,
     "metadata": {},
     "output_type": "execute_result"
    }
   ],
   "source": [
    "adress"
   ]
  },
  {
   "cell_type": "code",
   "execution_count": 28,
   "id": "41682045-1501-4cf5-9a85-aabb3441b55b",
   "metadata": {},
   "outputs": [
    {
     "ename": "AttributeError",
     "evalue": "'tuple' object has no attribute 'replace'",
     "output_type": "error",
     "traceback": [
      "\u001b[1;31m---------------------------------------------------------------------------\u001b[0m",
      "\u001b[1;31mAttributeError\u001b[0m                            Traceback (most recent call last)",
      "Cell \u001b[1;32mIn[28], line 3\u001b[0m\n\u001b[0;32m      1\u001b[0m Test \u001b[38;5;241m=\u001b[39m \u001b[38;5;124m\"\u001b[39m\u001b[38;5;124mBRB\u001b[39m\u001b[38;5;124m\"\u001b[39m, \u001b[38;5;124m\"\u001b[39m\u001b[38;5;124mTTYL\u001b[39m\u001b[38;5;124m\"\u001b[39m,\u001b[38;5;124m\"\u001b[39m\u001b[38;5;124mTMI\u001b[39m\u001b[38;5;124m\"\u001b[39m\n\u001b[0;32m      2\u001b[0m Test\n\u001b[1;32m----> 3\u001b[0m Test\u001b[38;5;241m.\u001b[39mreplace(\u001b[38;5;124m\"\u001b[39m\u001b[38;5;124mBRB\u001b[39m\u001b[38;5;124m\"\u001b[39m, \u001b[38;5;124m\"\u001b[39m\u001b[38;5;124mbe right back\u001b[39m\u001b[38;5;124m\"\u001b[39m)\n",
      "\u001b[1;31mAttributeError\u001b[0m: 'tuple' object has no attribute 'replace'"
     ]
    }
   ],
   "source": [
    "Test = \"BRB\", \"TTYL\",\"TMI\"\n",
    "Test\n",
    "Test.replace(\"BRB\", \"be right back\")"
   ]
  },
  {
   "cell_type": "code",
   "execution_count": 40,
   "id": "f3463a6c-a9a1-4cd3-8ec6-5dc24065c276",
   "metadata": {},
   "outputs": [
    {
     "data": {
      "text/plain": [
       "' HELLO WORLD'"
      ]
     },
     "execution_count": 40,
     "metadata": {},
     "output_type": "execute_result"
    }
   ],
   "source": [
    "Test = \" hello world\"\n",
    "Test.lower()\n",
    "Test.upper()"
   ]
  },
  {
   "cell_type": "code",
   "execution_count": 46,
   "id": "34c52c85-0ad5-4bcc-8ef5-d197b248d53d",
   "metadata": {},
   "outputs": [
    {
     "ename": "AttributeError",
     "evalue": "'str' object has no attribute 'tile'",
     "output_type": "error",
     "traceback": [
      "\u001b[1;31m---------------------------------------------------------------------------\u001b[0m",
      "\u001b[1;31mAttributeError\u001b[0m                            Traceback (most recent call last)",
      "Cell \u001b[1;32mIn[46], line 1\u001b[0m\n\u001b[1;32m----> 1\u001b[0m Test\u001b[38;5;241m.\u001b[39mtile()\n",
      "\u001b[1;31mAttributeError\u001b[0m: 'str' object has no attribute 'tile'"
     ]
    }
   ],
   "source": [
    "Test.tile()"
   ]
  },
  {
   "cell_type": "code",
   "execution_count": 58,
   "id": "c174108d-0932-45c6-aeef-ddb1acfec763",
   "metadata": {},
   "outputs": [
    {
     "data": {
      "text/plain": [
       "'i AM A STUDENT'"
      ]
     },
     "execution_count": 58,
     "metadata": {},
     "output_type": "execute_result"
    }
   ],
   "source": [
    "test = \"I am a student\"\n",
    "test.swapcase()"
   ]
  },
  {
   "cell_type": "code",
   "execution_count": 60,
   "id": "052b3cff-9c39-4d50-9fab-1fb14d95a2bc",
   "metadata": {},
   "outputs": [
    {
     "ename": "AttributeError",
     "evalue": "'str' object has no attribute 'capitalised'",
     "output_type": "error",
     "traceback": [
      "\u001b[1;31m---------------------------------------------------------------------------\u001b[0m",
      "\u001b[1;31mAttributeError\u001b[0m                            Traceback (most recent call last)",
      "Cell \u001b[1;32mIn[60], line 1\u001b[0m\n\u001b[1;32m----> 1\u001b[0m test\u001b[38;5;241m.\u001b[39mcapitalised()\n",
      "\u001b[1;31mAttributeError\u001b[0m: 'str' object has no attribute 'capitalised'"
     ]
    }
   ],
   "source": [
    "test.capitalised()"
   ]
  },
  {
   "cell_type": "code",
   "execution_count": 62,
   "id": "08d60208-2aa9-4cd8-b606-89d06b0cdd7b",
   "metadata": {},
   "outputs": [
    {
     "data": {
      "text/plain": [
       "True"
      ]
     },
     "execution_count": 62,
     "metadata": {},
     "output_type": "execute_result"
    }
   ],
   "source": [
    "#string seraching\n",
    "sentence = \"I am a student of pwskills\"\n",
    "\"am\" in sentence"
   ]
  },
  {
   "cell_type": "code",
   "execution_count": 78,
   "id": "13fd649f-63d5-4aaf-aff2-45eead231e4e",
   "metadata": {},
   "outputs": [
    {
     "ename": "NameError",
     "evalue": "name 'sentecne' is not defined",
     "output_type": "error",
     "traceback": [
      "\u001b[1;31m---------------------------------------------------------------------------\u001b[0m",
      "\u001b[1;31mNameError\u001b[0m                                 Traceback (most recent call last)",
      "Cell \u001b[1;32mIn[78], line 3\u001b[0m\n\u001b[0;32m      1\u001b[0m sentence \u001b[38;5;241m=\u001b[39m \u001b[38;5;124m\"\u001b[39m\u001b[38;5;124mI am a student at pwskilsls\u001b[39m\u001b[38;5;124m\"\u001b[39m\n\u001b[0;32m      2\u001b[0m serach_word \u001b[38;5;241m=\u001b[39m \u001b[38;5;124m\"\u001b[39m\u001b[38;5;124mmat\u001b[39m\u001b[38;5;124m\"\u001b[39m\n\u001b[1;32m----> 3\u001b[0m \u001b[38;5;28;01mif\u001b[39;00m serach_word \u001b[38;5;129;01min\u001b[39;00m sentecne:\n\u001b[0;32m      4\u001b[0m     \u001b[38;5;28mprint\u001b[39m(\u001b[38;5;124m\"\u001b[39m\u001b[38;5;124mserach word present in sentence\u001b[39m\u001b[38;5;124m\"\u001b[39m)\n\u001b[0;32m      5\u001b[0m \u001b[38;5;28;01melse\u001b[39;00m:\n",
      "\u001b[1;31mNameError\u001b[0m: name 'sentecne' is not defined"
     ]
    }
   ],
   "source": [
    "sentence = \"I am a student at pwskilsls\"\n",
    "serach_word = \"mat\"\n",
    "if serach_word in sentecne:\n",
    "    print(\"serach word present in sentence\")\n",
    "else:\n",
    "    print(\"not presented\")\n",
    "    "
   ]
  },
  {
   "cell_type": "code",
   "execution_count": 82,
   "id": "316db04b-42f9-4fcf-8619-f8da6929d7f0",
   "metadata": {},
   "outputs": [
    {
     "ename": "SyntaxError",
     "evalue": "invalid syntax (1795662232.py, line 2)",
     "output_type": "error",
     "traceback": [
      "\u001b[1;36m  Cell \u001b[1;32mIn[82], line 2\u001b[1;36m\u001b[0m\n\u001b[1;33m    if @ in email:\u001b[0m\n\u001b[1;37m       ^\u001b[0m\n\u001b[1;31mSyntaxError\u001b[0m\u001b[1;31m:\u001b[0m invalid syntax\n"
     ]
    }
   ],
   "source": [
    "email = \"ajay\"\n",
    "if @ in email:\n",
    "    print(\"valid email\")\n",
    "else:\n",
    "    print(\"Invalid email\")\n"
   ]
  },
  {
   "cell_type": "code",
   "execution_count": 84,
   "id": "3a8e3a9c-680a-4d88-91ba-7f09a7aaae7b",
   "metadata": {},
   "outputs": [
    {
     "ename": "SyntaxError",
     "evalue": "invalid syntax (3442583987.py, line 2)",
     "output_type": "error",
     "traceback": [
      "\u001b[1;36m  Cell \u001b[1;32mIn[84], line 2\u001b[1;36m\u001b[0m\n\u001b[1;33m    if .pdf in document:\u001b[0m\n\u001b[1;37m       ^\u001b[0m\n\u001b[1;31mSyntaxError\u001b[0m\u001b[1;31m:\u001b[0m invalid syntax\n"
     ]
    }
   ],
   "source": [
    "document = \"some_file.pdf\"\n",
    "if .pdf in document:\n",
    "    print(\"its a pdf file\")\n",
    "else:\n",
    "    print(\"no file\")"
   ]
  },
  {
   "cell_type": "code",
   "execution_count": 86,
   "id": "ae8953c8-50f2-4e52-b5a4-0ddfbd1f5b28",
   "metadata": {},
   "outputs": [
    {
     "data": {
      "text/plain": [
       "True"
      ]
     },
     "execution_count": 86,
     "metadata": {},
     "output_type": "execute_result"
    }
   ],
   "source": [
    "#string comparison\n",
    "str1 = \"hello\"\n",
    "str2 = \"hello\"\n",
    "str1 == str2"
   ]
  },
  {
   "cell_type": "code",
   "execution_count": 90,
   "id": "0e2067e5-8ece-45ad-8014-6697e09e3e76",
   "metadata": {},
   "outputs": [
    {
     "data": {
      "text/plain": [
       "False"
      ]
     },
     "execution_count": 90,
     "metadata": {},
     "output_type": "execute_result"
    }
   ],
   "source": [
    "str1 = \"Hello\"\n",
    "str2 = \"hello\"\n",
    "str1 == str2"
   ]
  },
  {
   "cell_type": "code",
   "execution_count": 92,
   "id": "b521c367-3772-4a51-a9f5-5dd6978a277c",
   "metadata": {},
   "outputs": [
    {
     "data": {
      "text/plain": [
       "True"
      ]
     },
     "execution_count": 92,
     "metadata": {},
     "output_type": "execute_result"
    }
   ],
   "source": [
    "str1 = \"Hello\"\n",
    "str2 = \"hello\"\n",
    "str1.lower() == str2.lower()"
   ]
  },
  {
   "cell_type": "code",
   "execution_count": 96,
   "id": "9d0489d6-4932-423d-8e89-3d31aa7e0dc9",
   "metadata": {},
   "outputs": [
    {
     "name": "stdin",
     "output_type": "stream",
     "text": [
      " use the product code p67\n"
     ]
    },
    {
     "name": "stdout",
     "output_type": "stream",
     "text": [
      "talk to receptionist\n"
     ]
    }
   ],
   "source": [
    "product_code = \"p12345\"\n",
    "scanned_code = input(\" use the product code\")\n",
    "if product_code == scanned_code:\n",
    "    print(\"the price is 100\")\n",
    "else:\n",
    "    print(\"talk to receptionist\")"
   ]
  },
  {
   "cell_type": "code",
   "execution_count": 98,
   "id": "1171c04d-9991-4417-963f-82dccb900eee",
   "metadata": {},
   "outputs": [
    {
     "data": {
      "text/plain": [
       "['ajay', 'sanjay', 'vijay']"
      ]
     },
     "execution_count": 98,
     "metadata": {},
     "output_type": "execute_result"
    }
   ],
   "source": [
    "#sorted string\n",
    "list = [\"ajay\", \"vijay\", \"sanjay\"]\n",
    "sorted(list)"
   ]
  },
  {
   "cell_type": "code",
   "execution_count": 100,
   "id": "65da9b7a-9a34-473b-894c-0c0ff6121db3",
   "metadata": {},
   "outputs": [
    {
     "data": {
      "text/plain": [
       "'             pwskills          '"
      ]
     },
     "execution_count": 100,
     "metadata": {},
     "output_type": "execute_result"
    }
   ],
   "source": [
    "#common string operator\n",
    "input_str = \"             pwskills          \"\n",
    "input_str"
   ]
  },
  {
   "cell_type": "code",
   "execution_count": 104,
   "id": "dd9ae3ed-729d-4e8a-b2e4-0b36b8f5311c",
   "metadata": {},
   "outputs": [
    {
     "data": {
      "text/plain": [
       "'pwskills'"
      ]
     },
     "execution_count": 104,
     "metadata": {},
     "output_type": "execute_result"
    }
   ],
   "source": [
    "input_str.strip()"
   ]
  },
  {
   "cell_type": "code",
   "execution_count": 112,
   "id": "b6a042b4-8ceb-41ff-bedd-07a6fab0b365",
   "metadata": {},
   "outputs": [
    {
     "data": {
      "text/plain": [
       "'ajay, data science, teacher'"
      ]
     },
     "execution_count": 112,
     "metadata": {},
     "output_type": "execute_result"
    }
   ],
   "source": [
    "#string splitting\n",
    "data = \"ajay, data science, teacher\"\n",
    "data"
   ]
  },
  {
   "cell_type": "code",
   "execution_count": null,
   "id": "a83f6ad6-2a0c-4d4d-8eb0-b231bf10b86f",
   "metadata": {},
   "outputs": [],
   "source": [
    "#escaped charaters>> is a special combination in a cahrater used in strings"
   ]
  }
 ],
 "metadata": {
  "kernelspec": {
   "display_name": "Python 3 (ipykernel)",
   "language": "python",
   "name": "python3"
  },
  "language_info": {
   "codemirror_mode": {
    "name": "ipython",
    "version": 3
   },
   "file_extension": ".py",
   "mimetype": "text/x-python",
   "name": "python",
   "nbconvert_exporter": "python",
   "pygments_lexer": "ipython3",
   "version": "3.12.7"
  }
 },
 "nbformat": 4,
 "nbformat_minor": 5
}
