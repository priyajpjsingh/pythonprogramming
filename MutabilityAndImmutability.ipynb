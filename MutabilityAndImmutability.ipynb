{
 "cells": [
  {
   "cell_type": "code",
   "execution_count": 1,
   "id": "5bfecfaa-f4eb-466e-aadc-b80eb2552be5",
   "metadata": {},
   "outputs": [
    {
     "data": {
      "text/plain": [
       "6"
      ]
     },
     "execution_count": 1,
     "metadata": {},
     "output_type": "execute_result"
    }
   ],
   "source": [
    "a = 6\n",
    "a #in the memory, a memory blcok is created with reference name a and value is 6."
   ]
  },
  {
   "cell_type": "code",
   "execution_count": 55,
   "id": "ba181a18-8e49-477c-a76f-73d422343c82",
   "metadata": {},
   "outputs": [
    {
     "data": {
      "text/plain": [
       "'ajay'"
      ]
     },
     "execution_count": 55,
     "metadata": {},
     "output_type": "execute_result"
    }
   ],
   "source": [
    "b = \"ajay\"\n",
    "b"
   ]
  },
  {
   "cell_type": "code",
   "execution_count": 47,
   "id": "4356c969-5897-4e70-8e52-b58fbabd8195",
   "metadata": {},
   "outputs": [
    {
     "data": {
      "text/plain": [
       "0"
      ]
     },
     "execution_count": 47,
     "metadata": {},
     "output_type": "execute_result"
    }
   ],
   "source": [
    "b[0]\n",
    "\n",
    "     \n",
    "    "
   ]
  },
  {
   "cell_type": "code",
   "execution_count": 57,
   "id": "067573e6-16a9-42cb-8804-7408fcf0a5dd",
   "metadata": {},
   "outputs": [
    {
     "data": {
      "text/plain": [
       "'a'"
      ]
     },
     "execution_count": 57,
     "metadata": {},
     "output_type": "execute_result"
    }
   ],
   "source": [
    "b[2]"
   ]
  },
  {
   "cell_type": "code",
   "execution_count": 59,
   "id": "fd8d9063-667e-4114-a82d-0f588752486f",
   "metadata": {},
   "outputs": [
    {
     "data": {
      "text/plain": [
       "'a'"
      ]
     },
     "execution_count": 59,
     "metadata": {},
     "output_type": "execute_result"
    }
   ],
   "source": [
    "b[-2]"
   ]
  },
  {
   "cell_type": "code",
   "execution_count": 65,
   "id": "6275acb8-db72-4768-bc1a-9e3e70c898b9",
   "metadata": {},
   "outputs": [
    {
     "data": {
      "text/plain": [
       "[1, 2, 3, 3.5, (3+5j), True, 'ajay']"
      ]
     },
     "execution_count": 65,
     "metadata": {},
     "output_type": "execute_result"
    }
   ],
   "source": [
    "#Another type of data container \n",
    "list_cont = [1,2,3,3.5,3+5j,True, \"ajay\"]\n",
    "list_cont"
   ]
  },
  {
   "cell_type": "code",
   "execution_count": 67,
   "id": "436ebdd9-79e7-4088-ad54-fb31f27196bb",
   "metadata": {},
   "outputs": [
    {
     "data": {
      "text/plain": [
       "1"
      ]
     },
     "execution_count": 67,
     "metadata": {},
     "output_type": "execute_result"
    }
   ],
   "source": [
    "list_cont[0]"
   ]
  },
  {
   "cell_type": "code",
   "execution_count": 69,
   "id": "64a3b96e-35de-4f61-a197-b5a454fd56bb",
   "metadata": {},
   "outputs": [
    {
     "data": {
      "text/plain": [
       "(3+5j)"
      ]
     },
     "execution_count": 69,
     "metadata": {},
     "output_type": "execute_result"
    }
   ],
   "source": [
    "list_cont[4]"
   ]
  },
  {
   "cell_type": "code",
   "execution_count": 71,
   "id": "9426b83a-1474-4714-98cf-ef5ffa3ba3ae",
   "metadata": {},
   "outputs": [
    {
     "data": {
      "text/plain": [
       "True"
      ]
     },
     "execution_count": 71,
     "metadata": {},
     "output_type": "execute_result"
    }
   ],
   "source": [
    "list_cont[5]"
   ]
  },
  {
   "cell_type": "code",
   "execution_count": 73,
   "id": "74d7c5f6-b229-43b7-a12b-f4e1036420c4",
   "metadata": {},
   "outputs": [
    {
     "data": {
      "text/plain": [
       "'ajay'"
      ]
     },
     "execution_count": 73,
     "metadata": {},
     "output_type": "execute_result"
    }
   ],
   "source": [
    "list_cont[6]"
   ]
  },
  {
   "cell_type": "code",
   "execution_count": 75,
   "id": "846f3f22-1f2e-4f92-bbaa-c51d998d4cff",
   "metadata": {},
   "outputs": [
    {
     "data": {
      "text/plain": [
       "list"
      ]
     },
     "execution_count": 75,
     "metadata": {},
     "output_type": "execute_result"
    }
   ],
   "source": [
    "type(list_cont)"
   ]
  },
  {
   "cell_type": "code",
   "execution_count": 79,
   "id": "1df52b7f-e031-4c13-95f0-a5a3184ef530",
   "metadata": {},
   "outputs": [
    {
     "data": {
      "text/plain": [
       "'ajay'"
      ]
     },
     "execution_count": 79,
     "metadata": {},
     "output_type": "execute_result"
    }
   ],
   "source": [
    "list_cont[6]"
   ]
  },
  {
   "cell_type": "code",
   "execution_count": 81,
   "id": "4a16cc28-4841-4801-955e-b5b0557d1675",
   "metadata": {},
   "outputs": [
    {
     "data": {
      "text/plain": [
       "'ajay'"
      ]
     },
     "execution_count": 81,
     "metadata": {},
     "output_type": "execute_result"
    }
   ],
   "source": [
    "list_cont[-1]"
   ]
  },
  {
   "cell_type": "code",
   "execution_count": 89,
   "id": "d245510b-598c-4229-afd4-320cc04976fc",
   "metadata": {},
   "outputs": [],
   "source": [
    "#mutability\n",
    "list_cont[6] = \"bijay\""
   ]
  },
  {
   "cell_type": "code",
   "execution_count": 91,
   "id": "b0ea1c97-1510-4e1a-bb9b-05b4b5bb76b2",
   "metadata": {},
   "outputs": [
    {
     "data": {
      "text/plain": [
       "[1, 2, 3, 3.5, (3+5j), True, 'bijay']"
      ]
     },
     "execution_count": 91,
     "metadata": {},
     "output_type": "execute_result"
    }
   ],
   "source": [
    "list_cont"
   ]
  },
  {
   "cell_type": "code",
   "execution_count": 93,
   "id": "e79dc83b-173d-4e41-a119-11e78e14b2d2",
   "metadata": {},
   "outputs": [
    {
     "data": {
      "text/plain": [
       "1"
      ]
     },
     "execution_count": 93,
     "metadata": {},
     "output_type": "execute_result"
    }
   ],
   "source": [
    "list_cont[0] = 100 "
   ]
  },
  {
   "cell_type": "code",
   "execution_count": null,
   "id": "74fccf8e-8372-44df-8e1d-fedc4b8de88b",
   "metadata": {},
   "outputs": [],
   "source": [
    "#objects/container whose state or valus can be  changed after they are created are called mutable objects or container \n",
    "#IT is a type of mutuable object/it is a item assignment"
   ]
  },
  {
   "cell_type": "code",
   "execution_count": 105,
   "id": "aaf955e6-1e29-4a42-a458-0b003cc41a59",
   "metadata": {},
   "outputs": [
    {
     "data": {
      "text/plain": [
       "'pwskills'"
      ]
     },
     "execution_count": 105,
     "metadata": {},
     "output_type": "execute_result"
    }
   ],
   "source": [
    "b = \"pwskills\"\n",
    "b"
   ]
  },
  {
   "cell_type": "code",
   "execution_count": 109,
   "id": "05fc2efc-fde4-4b44-8bc2-d3b780b465b1",
   "metadata": {},
   "outputs": [
    {
     "ename": "TypeError",
     "evalue": "'str' object does not support item assignment",
     "output_type": "error",
     "traceback": [
      "\u001b[1;31m---------------------------------------------------------------------------\u001b[0m",
      "\u001b[1;31mTypeError\u001b[0m                                 Traceback (most recent call last)",
      "Cell \u001b[1;32mIn[109], line 1\u001b[0m\n\u001b[1;32m----> 1\u001b[0m b[\u001b[38;5;241m0\u001b[39m] \u001b[38;5;241m=\u001b[39m \u001b[38;5;124m\"\u001b[39m\u001b[38;5;124mI\u001b[39m\u001b[38;5;124m\"\u001b[39m\n",
      "\u001b[1;31mTypeError\u001b[0m: 'str' object does not support item assignment"
     ]
    }
   ],
   "source": [
    "b[0] = \"I\""
   ]
  },
  {
   "cell_type": "code",
   "execution_count": null,
   "id": "60667256-628f-46ed-9f1c-d6f362e45297",
   "metadata": {},
   "outputs": [],
   "source": []
  }
 ],
 "metadata": {
  "kernelspec": {
   "display_name": "Python 3 (ipykernel)",
   "language": "python",
   "name": "python3"
  },
  "language_info": {
   "codemirror_mode": {
    "name": "ipython",
    "version": 3
   },
   "file_extension": ".py",
   "mimetype": "text/x-python",
   "name": "python",
   "nbconvert_exporter": "python",
   "pygments_lexer": "ipython3",
   "version": "3.12.7"
  }
 },
 "nbformat": 4,
 "nbformat_minor": 5
}
