{
 "cells": [
  {
   "cell_type": "code",
   "execution_count": 5,
   "id": "6bbee732-d146-4114-996b-f0d951b0e82f",
   "metadata": {},
   "outputs": [
    {
     "name": "stdout",
     "output_type": "stream",
     "text": [
      "hello world\n"
     ]
    }
   ],
   "source": [
    "print (\"hello world\")"
   ]
  },
  {
   "cell_type": "code",
   "execution_count": 9,
   "id": "afbe651b-3d8f-428b-b8e4-a5d8eb2370b2",
   "metadata": {},
   "outputs": [
    {
     "data": {
      "text/plain": [
       "3"
      ]
     },
     "execution_count": 9,
     "metadata": {},
     "output_type": "execute_result"
    }
   ],
   "source": [
    "a = 3\n",
    "a"
   ]
  },
  {
   "cell_type": "code",
   "execution_count": 17,
   "id": "e2a47835-d643-474f-9fe7-95caaddb9737",
   "metadata": {},
   "outputs": [
    {
     "data": {
      "text/plain": [
       "4.5"
      ]
     },
     "execution_count": 17,
     "metadata": {},
     "output_type": "execute_result"
    }
   ],
   "source": [
    "b = 4.5\n",
    "b \n"
   ]
  },
  {
   "cell_type": "code",
   "execution_count": 19,
   "id": "a4cc95c1-5339-4aaa-9033-bbfd68fe9541",
   "metadata": {},
   "outputs": [
    {
     "data": {
      "text/plain": [
       "'ajay'"
      ]
     },
     "execution_count": 19,
     "metadata": {},
     "output_type": "execute_result"
    }
   ],
   "source": [
    "c = \"ajay\"\n",
    "c"
   ]
  },
  {
   "cell_type": "code",
   "execution_count": 21,
   "id": "cc0eafd0-5c75-44ac-8b13-9dccae86adf0",
   "metadata": {},
   "outputs": [
    {
     "data": {
      "text/plain": [
       "str"
      ]
     },
     "execution_count": 21,
     "metadata": {},
     "output_type": "execute_result"
    }
   ],
   "source": [
    "type(c)"
   ]
  },
  {
   "cell_type": "code",
   "execution_count": 23,
   "id": "ac534f56-3baf-472d-a8ce-1603bf6a8bc7",
   "metadata": {},
   "outputs": [
    {
     "data": {
      "text/plain": [
       "3"
      ]
     },
     "execution_count": 23,
     "metadata": {},
     "output_type": "execute_result"
    }
   ],
   "source": [
    "a = 3\n",
    "a "
   ]
  },
  {
   "cell_type": "code",
   "execution_count": 25,
   "id": "fed86849-f0a8-4d9f-afd9-27b0639496af",
   "metadata": {},
   "outputs": [
    {
     "data": {
      "text/plain": [
       "int"
      ]
     },
     "execution_count": 25,
     "metadata": {},
     "output_type": "execute_result"
    }
   ],
   "source": [
    "type(a)"
   ]
  },
  {
   "cell_type": "code",
   "execution_count": 27,
   "id": "a3fdc364-74a0-4bf3-8ea5-ced30681bc5c",
   "metadata": {},
   "outputs": [
    {
     "data": {
      "text/plain": [
       "5.6"
      ]
     },
     "execution_count": 27,
     "metadata": {},
     "output_type": "execute_result"
    }
   ],
   "source": [
    "b = 5.6\n",
    "b"
   ]
  },
  {
   "cell_type": "code",
   "execution_count": 29,
   "id": "d25996dd-ba2d-45c3-9a86-144569a1bbf1",
   "metadata": {},
   "outputs": [
    {
     "data": {
      "text/plain": [
       "float"
      ]
     },
     "execution_count": 29,
     "metadata": {},
     "output_type": "execute_result"
    }
   ],
   "source": [
    "type(b)"
   ]
  },
  {
   "cell_type": "code",
   "execution_count": 41,
   "id": "9495fdf4-7f64-48cd-89a3-e1f9f29801e5",
   "metadata": {},
   "outputs": [
    {
     "data": {
      "text/plain": [
       "bool"
      ]
     },
     "execution_count": 41,
     "metadata": {},
     "output_type": "execute_result"
    }
   ],
   "source": [
    "c = True\n",
    "type(c)"
   ]
  },
  {
   "cell_type": "code",
   "execution_count": 43,
   "id": "a561432b-2b3c-4404-b866-f33977db27af",
   "metadata": {},
   "outputs": [
    {
     "data": {
      "text/plain": [
       "1"
      ]
     },
     "execution_count": 43,
     "metadata": {},
     "output_type": "execute_result"
    }
   ],
   "source": [
    "True-False"
   ]
  },
  {
   "cell_type": "code",
   "execution_count": 45,
   "id": "70e34cc0-4d47-46f8-9ef5-f5360521ee4a",
   "metadata": {},
   "outputs": [
    {
     "data": {
      "text/plain": [
       "0"
      ]
     },
     "execution_count": 45,
     "metadata": {},
     "output_type": "execute_result"
    }
   ],
   "source": [
    "True*False"
   ]
  },
  {
   "cell_type": "code",
   "execution_count": 47,
   "id": "a9a903b0-4061-43ab-8604-8a80515d4ed8",
   "metadata": {},
   "outputs": [
    {
     "ename": "ZeroDivisionError",
     "evalue": "division by zero",
     "output_type": "error",
     "traceback": [
      "\u001b[1;31m---------------------------------------------------------------------------\u001b[0m",
      "\u001b[1;31mZeroDivisionError\u001b[0m                         Traceback (most recent call last)",
      "Cell \u001b[1;32mIn[47], line 1\u001b[0m\n\u001b[1;32m----> 1\u001b[0m \u001b[38;5;28;01mTrue\u001b[39;00m\u001b[38;5;241m/\u001b[39m\u001b[38;5;28;01mFalse\u001b[39;00m\n",
      "\u001b[1;31mZeroDivisionError\u001b[0m: division by zero"
     ]
    }
   ],
   "source": [
    "True/False \n",
    "#it will thorw infinite error"
   ]
  },
  {
   "cell_type": "code",
   "execution_count": 59,
   "id": "8712fd1e-8aae-457f-a32f-2e53b63ff577",
   "metadata": {},
   "outputs": [
    {
     "data": {
      "text/plain": [
       "NoneType"
      ]
     },
     "execution_count": 59,
     "metadata": {},
     "output_type": "execute_result"
    }
   ],
   "source": [
    "f = None\n",
    "type(f)"
   ]
  },
  {
   "cell_type": "code",
   "execution_count": 63,
   "id": "b0a13f96-7d2c-44f3-a5db-38318c32fea4",
   "metadata": {},
   "outputs": [
    {
     "data": {
      "text/plain": [
       "complex"
      ]
     },
     "execution_count": 63,
     "metadata": {},
     "output_type": "execute_result"
    }
   ],
   "source": [
    "#x+iy>>complex number\n",
    "com = 5+6j\n",
    "type(com)"
   ]
  },
  {
   "cell_type": "code",
   "execution_count": 67,
   "id": "b76427eb-2378-4972-aaf7-fa256d7b61df",
   "metadata": {},
   "outputs": [
    {
     "data": {
      "text/plain": [
       "5.0"
      ]
     },
     "execution_count": 67,
     "metadata": {},
     "output_type": "execute_result"
    }
   ],
   "source": [
    "com.real"
   ]
  },
  {
   "cell_type": "code",
   "execution_count": 71,
   "id": "c0f6deb0-4456-43dd-ac4a-99edb0a5ed6c",
   "metadata": {},
   "outputs": [
    {
     "data": {
      "text/plain": [
       "6.0"
      ]
     },
     "execution_count": 71,
     "metadata": {},
     "output_type": "execute_result"
    }
   ],
   "source": [
    "com.imag"
   ]
  },
  {
   "cell_type": "code",
   "execution_count": null,
   "id": "bfd74bf0-7f43-4a17-9ee2-af5fc4696d15",
   "metadata": {},
   "outputs": [],
   "source": [
    "#invalid ways"
   ]
  },
  {
   "cell_type": "code",
   "execution_count": 89,
   "id": "6573f379-0f52-4f36-9abb-933b901eb048",
   "metadata": {},
   "outputs": [
    {
     "ename": "SyntaxError",
     "evalue": "cannot assign to literal here. Maybe you meant '==' instead of '='? (2984456811.py, line 2)",
     "output_type": "error",
     "traceback": [
      "\u001b[1;36m  Cell \u001b[1;32mIn[89], line 2\u001b[1;36m\u001b[0m\n\u001b[1;33m    5 = a\u001b[0m\n\u001b[1;37m    ^\u001b[0m\n\u001b[1;31mSyntaxError\u001b[0m\u001b[1;31m:\u001b[0m cannot assign to literal here. Maybe you meant '==' instead of '='?\n"
     ]
    }
   ],
   "source": [
    "#rules of varaiable>> a varaible start with charecter(alphabet) or underscoreb\n",
    "5 = a\n",
    "5"
   ]
  },
  {
   "cell_type": "code",
   "execution_count": 91,
   "id": "cdaac5bf-25d3-4f15-b55c-180b7a1d6976",
   "metadata": {
    "scrolled": true
   },
   "outputs": [
    {
     "ename": "SyntaxError",
     "evalue": "cannot assign to literal here. Maybe you meant '==' instead of '='? (1061275904.py, line 1)",
     "output_type": "error",
     "traceback": [
      "\u001b[1;36m  Cell \u001b[1;32mIn[91], line 1\u001b[1;36m\u001b[0m\n\u001b[1;33m    2.3 = b\u001b[0m\n\u001b[1;37m    ^\u001b[0m\n\u001b[1;31mSyntaxError\u001b[0m\u001b[1;31m:\u001b[0m cannot assign to literal here. Maybe you meant '==' instead of '='?\n"
     ]
    }
   ],
   "source": [
    "2.3 = b\n",
    "b"
   ]
  },
  {
   "cell_type": "code",
   "execution_count": null,
   "id": "73daa95e-5ede-4075-8e43-0b827742e679",
   "metadata": {},
   "outputs": [],
   "source": [
    "#valid ways"
   ]
  },
  {
   "cell_type": "code",
   "execution_count": 100,
   "id": "db033b0b-2e46-4940-a897-241fc42f5c09",
   "metadata": {},
   "outputs": [
    {
     "data": {
      "text/plain": [
       "'ajay'"
      ]
     },
     "execution_count": 100,
     "metadata": {},
     "output_type": "execute_result"
    }
   ],
   "source": [
    "name = \"ajay\"\n",
    "name"
   ]
  },
  {
   "cell_type": "code",
   "execution_count": 102,
   "id": "58f360ab-308d-476e-a72b-b5b4e7767d37",
   "metadata": {},
   "outputs": [
    {
     "data": {
      "text/plain": [
       "'ajay'"
      ]
     },
     "execution_count": 102,
     "metadata": {},
     "output_type": "execute_result"
    }
   ],
   "source": [
    "abc = \"ajay\"\n",
    "abc"
   ]
  },
  {
   "cell_type": "code",
   "execution_count": 104,
   "id": "4f03597b-1145-414b-bf72-1035f5e8ad4e",
   "metadata": {},
   "outputs": [
    {
     "data": {
      "text/plain": [
       "'mumbai'"
      ]
     },
     "execution_count": 104,
     "metadata": {},
     "output_type": "execute_result"
    }
   ],
   "source": [
    "location = \"mumbai\"\n",
    "location"
   ]
  },
  {
   "cell_type": "code",
   "execution_count": 106,
   "id": "dc6c7538-c499-432a-8de6-b936b97b578a",
   "metadata": {},
   "outputs": [
    {
     "data": {
      "text/plain": [
       "'rahul'"
      ]
     },
     "execution_count": 106,
     "metadata": {},
     "output_type": "execute_result"
    }
   ],
   "source": [
    "_name = \"rahul\"\n",
    "_name"
   ]
  },
  {
   "cell_type": "code",
   "execution_count": 108,
   "id": "807593eb-ec31-4246-bc38-c6e3a391a588",
   "metadata": {},
   "outputs": [
    {
     "name": "stdout",
     "output_type": "stream",
     "text": [
      "\n",
      "Here is a list of the Python keywords.  Enter any keyword to get more help.\n",
      "\n",
      "False               class               from                or\n",
      "None                continue            global              pass\n",
      "True                def                 if                  raise\n",
      "and                 del                 import              return\n",
      "as                  elif                in                  try\n",
      "assert              else                is                  while\n",
      "async               except              lambda              with\n",
      "await               finally             nonlocal            yield\n",
      "break               for                 not                 \n",
      "\n"
     ]
    },
    {
     "data": {
      "text/plain": [
       "Type help() for interactive help, or help(object) for help about object."
      ]
     },
     "execution_count": 108,
     "metadata": {},
     "output_type": "execute_result"
    }
   ],
   "source": [
    "help('keywords')\n",
    "help"
   ]
  },
  {
   "cell_type": "code",
   "execution_count": 112,
   "id": "43a3949f-651c-44a1-9e75-c33c010cb6d4",
   "metadata": {},
   "outputs": [
    {
     "name": "stdout",
     "output_type": "stream",
     "text": [
      "greater\n"
     ]
    }
   ],
   "source": [
    "#indentation>>more readable\n",
    "if 3 > 2:\n",
    "    print(\"greater\")"
   ]
  },
  {
   "cell_type": "code",
   "execution_count": null,
   "id": "090cd305-4d21-4e4b-b09c-fcdff1d5635f",
   "metadata": {},
   "outputs": [],
   "source": [
    "a = 3 #statement>>fundamental block of code\n",
    "name = \"ajay\"\n",
    "#statement can be of many types>>expression,assignment,condition statements, loop"
   ]
  },
  {
   "cell_type": "code",
   "execution_count": 116,
   "id": "529cae35-f78b-4ad5-abaa-8ad4597f4741",
   "metadata": {},
   "outputs": [],
   "source": [
    "#assignmemt statement\n",
    "a = 5"
   ]
  },
  {
   "cell_type": "code",
   "execution_count": 118,
   "id": "0687b92d-8112-4289-a240-cbe5932dbe31",
   "metadata": {},
   "outputs": [
    {
     "data": {
      "text/plain": [
       "9"
      ]
     },
     "execution_count": 118,
     "metadata": {},
     "output_type": "execute_result"
    }
   ],
   "source": [
    "a = 5 #assigment\n",
    "b = 4 #assigment\n",
    "a + b #expression statement\n"
   ]
  },
  {
   "cell_type": "code",
   "execution_count": 122,
   "id": "4c5df907-726c-4604-970e-372bf3db2633",
   "metadata": {},
   "outputs": [
    {
     "name": "stdin",
     "output_type": "stream",
     "text": [
      "please enter your name ajay\n"
     ]
    },
    {
     "data": {
      "text/plain": [
       "'ajay'"
      ]
     },
     "execution_count": 122,
     "metadata": {},
     "output_type": "execute_result"
    }
   ],
   "source": [
    "#input output if you want some users to give value of variable\n",
    "name = input(\"please enter your name\")\n",
    "name"
   ]
  },
  {
   "cell_type": "code",
   "execution_count": 124,
   "id": "3336fe7a-9ccc-414b-b8c6-85309e38b91d",
   "metadata": {},
   "outputs": [
    {
     "data": {
      "text/plain": [
       "str"
      ]
     },
     "execution_count": 124,
     "metadata": {},
     "output_type": "execute_result"
    }
   ],
   "source": [
    "type(name)"
   ]
  },
  {
   "cell_type": "code",
   "execution_count": 130,
   "id": "f3922faf-1aa9-4a00-b9df-bead08854d20",
   "metadata": {},
   "outputs": [
    {
     "name": "stdin",
     "output_type": "stream",
     "text": [
      "please enter anu number 2\n"
     ]
    },
    {
     "data": {
      "text/plain": [
       "2"
      ]
     },
     "execution_count": 130,
     "metadata": {},
     "output_type": "execute_result"
    }
   ],
   "source": [
    "#input actually takes every value as a string\n",
    "#we can convert string 2 interger\n",
    "name = input(\"please enter anu number\")\n",
    "int(name)"
   ]
  },
  {
   "cell_type": "code",
   "execution_count": 132,
   "id": "d7b9a7aa-4a38-4ebc-ab23-9cddf2424c69",
   "metadata": {},
   "outputs": [
    {
     "data": {
      "text/plain": [
       "str"
      ]
     },
     "execution_count": 132,
     "metadata": {},
     "output_type": "execute_result"
    }
   ],
   "source": [
    "a = \"108\"\n",
    "type(a)"
   ]
  },
  {
   "cell_type": "code",
   "execution_count": 134,
   "id": "b61a2973-c377-44e6-a4b6-463a18360c64",
   "metadata": {},
   "outputs": [
    {
     "data": {
      "text/plain": [
       "108"
      ]
     },
     "execution_count": 134,
     "metadata": {},
     "output_type": "execute_result"
    }
   ],
   "source": [
    "int(a)"
   ]
  },
  {
   "cell_type": "code",
   "execution_count": 136,
   "id": "550bf15a-b17a-4454-a91f-c534cdcbdd24",
   "metadata": {},
   "outputs": [
    {
     "data": {
      "text/plain": [
       "int"
      ]
     },
     "execution_count": 136,
     "metadata": {},
     "output_type": "execute_result"
    }
   ],
   "source": [
    "s = 230\n",
    "type(s)"
   ]
  },
  {
   "cell_type": "code",
   "execution_count": 138,
   "id": "c1b89567-83a6-498f-a124-a207b864dcd5",
   "metadata": {},
   "outputs": [
    {
     "data": {
      "text/plain": [
       "'230'"
      ]
     },
     "execution_count": 138,
     "metadata": {},
     "output_type": "execute_result"
    }
   ],
   "source": [
    "str(s)"
   ]
  },
  {
   "cell_type": "code",
   "execution_count": 140,
   "id": "f8a3166a-f77c-4f20-b393-8c371b0d010b",
   "metadata": {},
   "outputs": [
    {
     "data": {
      "text/plain": [
       "str"
      ]
     },
     "execution_count": 140,
     "metadata": {},
     "output_type": "execute_result"
    }
   ],
   "source": [
    "a = \"3.4\"\n",
    "type(a)"
   ]
  },
  {
   "cell_type": "code",
   "execution_count": 142,
   "id": "d3e0b983-7997-4407-8816-9ecccadcf2de",
   "metadata": {},
   "outputs": [
    {
     "data": {
      "text/plain": [
       "3.4"
      ]
     },
     "execution_count": 142,
     "metadata": {},
     "output_type": "execute_result"
    }
   ],
   "source": [
    "float(a)"
   ]
  },
  {
   "cell_type": "code",
   "execution_count": 144,
   "id": "d192fc07-7af9-4abd-9f71-6a12cbcadf4f",
   "metadata": {},
   "outputs": [
    {
     "data": {
      "text/plain": [
       "int"
      ]
     },
     "execution_count": 144,
     "metadata": {},
     "output_type": "execute_result"
    }
   ],
   "source": [
    "d = 126\n",
    "type(d)"
   ]
  },
  {
   "cell_type": "code",
   "execution_count": 146,
   "id": "cdfaac5c-d181-47a7-9c46-e849286bc13c",
   "metadata": {},
   "outputs": [
    {
     "data": {
      "text/plain": [
       "126.0"
      ]
     },
     "execution_count": 146,
     "metadata": {},
     "output_type": "execute_result"
    }
   ],
   "source": [
    "float(d)"
   ]
  },
  {
   "cell_type": "code",
   "execution_count": 148,
   "id": "cd3a973e-8937-48bc-8793-23047e265cd4",
   "metadata": {},
   "outputs": [],
   "source": [
    "#python is a case sensitive language\n",
    "a = 5\n",
    "A = \"priya\""
   ]
  },
  {
   "cell_type": "code",
   "execution_count": 150,
   "id": "6d0f8b95-dc34-483e-ae0d-93fe0d92e3ee",
   "metadata": {},
   "outputs": [
    {
     "data": {
      "text/plain": [
       "5"
      ]
     },
     "execution_count": 150,
     "metadata": {},
     "output_type": "execute_result"
    }
   ],
   "source": [
    "a"
   ]
  },
  {
   "cell_type": "code",
   "execution_count": 152,
   "id": "2b6e2a25-e082-43a1-aa4c-61bfa14b40e7",
   "metadata": {},
   "outputs": [
    {
     "data": {
      "text/plain": [
       "'priya'"
      ]
     },
     "execution_count": 152,
     "metadata": {},
     "output_type": "execute_result"
    }
   ],
   "source": [
    "A"
   ]
  }
 ],
 "metadata": {
  "kernelspec": {
   "display_name": "Python 3 (ipykernel)",
   "language": "python",
   "name": "python3"
  },
  "language_info": {
   "codemirror_mode": {
    "name": "ipython",
    "version": 3
   },
   "file_extension": ".py",
   "mimetype": "text/x-python",
   "name": "python",
   "nbconvert_exporter": "python",
   "pygments_lexer": "ipython3",
   "version": "3.12.7"
  }
 },
 "nbformat": 4,
 "nbformat_minor": 5
}
