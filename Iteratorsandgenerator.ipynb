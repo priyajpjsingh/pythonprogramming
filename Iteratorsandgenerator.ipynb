{
 "cells": [
  {
   "cell_type": "code",
   "execution_count": 1,
   "id": "90237046-4067-4b83-9a33-20c1f9a6c56b",
   "metadata": {},
   "outputs": [
    {
     "name": "stdout",
     "output_type": "stream",
     "text": [
      "p\n",
      "w\n",
      "s\n",
      "k\n",
      "i\n",
      "l\n",
      "l\n",
      "s\n"
     ]
    }
   ],
   "source": [
    "for i in \"pwskills\":\n",
    "    print(i)\n"
   ]
  },
  {
   "cell_type": "code",
   "execution_count": 5,
   "id": "1cd856f0-50cf-4a31-b8d3-8722b4bd2ac6",
   "metadata": {},
   "outputs": [
    {
     "name": "stdout",
     "output_type": "stream",
     "text": [
      "apple\n",
      "banana\n",
      "orange\n",
      "1\n",
      "2\n",
      "4\n",
      "7\n"
     ]
    }
   ],
   "source": [
    "for i in [\"apple\", \"banana\", \"orange\", 1, 2, 4, 7]:\n",
    "    print(i)"
   ]
  },
  {
   "cell_type": "code",
   "execution_count": null,
   "id": "a1f4d909-d6cc-4268-bacc-ef8682907144",
   "metadata": {},
   "outputs": [],
   "source": [
    "#iterable is any python object /sequential structurer/data structurer that is capable of returning its member ona at a time\n",
    "#permitting it to be iterated over in a for loop\n",
    "#example>>> tuples, list"
   ]
  },
  {
   "cell_type": "code",
   "execution_count": 9,
   "id": "6ae22cfa-31fc-42c3-ba64-191d528f27e5",
   "metadata": {},
   "outputs": [
    {
     "name": "stdout",
     "output_type": "stream",
     "text": [
      "1\n",
      "2\n",
      "4\n",
      "ajay\n",
      "(3+5j)\n"
     ]
    }
   ],
   "source": [
    "list = [1, 2, 4, \"ajay\", 3+5j] #list can be iterable object\n",
    "for i in (list):\n",
    "    print(i)"
   ]
  },
  {
   "cell_type": "code",
   "execution_count": 11,
   "id": "7c332feb-af97-4c4b-8952-3037dc222030",
   "metadata": {},
   "outputs": [
    {
     "ename": "TypeError",
     "evalue": "'int' object is not iterable",
     "output_type": "error",
     "traceback": [
      "\u001b[1;31m---------------------------------------------------------------------------\u001b[0m",
      "\u001b[1;31mTypeError\u001b[0m                                 Traceback (most recent call last)",
      "Cell \u001b[1;32mIn[11], line 1\u001b[0m\n\u001b[1;32m----> 1\u001b[0m \u001b[38;5;28;01mfor\u001b[39;00m i \u001b[38;5;129;01min\u001b[39;00m \u001b[38;5;241m6\u001b[39m:\n\u001b[0;32m      2\u001b[0m     \u001b[38;5;28mprint\u001b[39m(i)\n",
      "\u001b[1;31mTypeError\u001b[0m: 'int' object is not iterable"
     ]
    }
   ],
   "source": [
    "for i in 6:\n",
    "    print(i)"
   ]
  },
  {
   "cell_type": "code",
   "execution_count": null,
   "id": "2ed2e8a4-3868-4e3a-8a7d-9e20c44c2726",
   "metadata": {},
   "outputs": [],
   "source": [
    "#iterartion>>\n",
    "#iteration is a process of looping through the elements of an iterable (list, string) using loop\n",
    "#the procezsz of returning element one by one iteration"
   ]
  },
  {
   "cell_type": "code",
   "execution_count": 13,
   "id": "3a14fe54-3f29-4847-a104-7d39bb4da36b",
   "metadata": {},
   "outputs": [
    {
     "name": "stdout",
     "output_type": "stream",
     "text": [
      "p\n",
      "w\n",
      "s\n",
      "k\n",
      "i\n",
      "l\n",
      "l\n",
      "s\n"
     ]
    }
   ],
   "source": [
    "for i in \"pwskills\":\n",
    "    print(i)"
   ]
  },
  {
   "cell_type": "code",
   "execution_count": null,
   "id": "cbdbe6c1-f00a-43a4-b061-c8eb48671396",
   "metadata": {},
   "outputs": [],
   "source": [
    "#iterator>> an iterator is an object represneting a stream of data >>return the data one by one \n",
    "#analogy \n",
    "#potato(iterable)>>it can not be cooked in original form \n",
    "#chop/wash the potato >>read for cooking >>iterator\n",
    "#the process of cooking>> iteration"
   ]
  },
  {
   "cell_type": "code",
   "execution_count": 17,
   "id": "06c6ecfb-8f5b-41c8-afcc-4af841ad336e",
   "metadata": {},
   "outputs": [],
   "source": [
    "s = \"pwskills\" #how python decided that s should be iterated>>comes the concept of iterator"
   ]
  },
  {
   "cell_type": "code",
   "execution_count": 19,
   "id": "0a445e55-6fff-4c54-aee5-38f29074ecb7",
   "metadata": {},
   "outputs": [
    {
     "name": "stdout",
     "output_type": "stream",
     "text": [
      "p\n",
      "w\n",
      "s\n",
      "k\n",
      "i\n",
      "l\n",
      "l\n",
      "s\n"
     ]
    }
   ],
   "source": [
    "for i in s:\n",
    "    print(i)"
   ]
  },
  {
   "cell_type": "code",
   "execution_count": 21,
   "id": "31f1b8ad-af16-4763-ad4b-b0fe5254a634",
   "metadata": {},
   "outputs": [
    {
     "data": {
      "text/plain": [
       "<str_ascii_iterator at 0x23509121480>"
      ]
     },
     "execution_count": 21,
     "metadata": {},
     "output_type": "execute_result"
    }
   ],
   "source": [
    "#python >> can i prepare s for iteration\n",
    "iter(s)#iterator object >> ready to be iterated"
   ]
  },
  {
   "cell_type": "code",
   "execution_count": 23,
   "id": "40a3e67e-0fd9-43d6-ba0f-b0e4794683ff",
   "metadata": {},
   "outputs": [
    {
     "data": {
      "text/plain": [
       "<str_ascii_iterator at 0x2350a36a8f0>"
      ]
     },
     "execution_count": 23,
     "metadata": {},
     "output_type": "execute_result"
    }
   ],
   "source": [
    "a = iter(s)\n",
    "a"
   ]
  },
  {
   "cell_type": "code",
   "execution_count": 25,
   "id": "c2fe9c6a-1498-41d3-902a-ef07eb682c13",
   "metadata": {},
   "outputs": [
    {
     "data": {
      "text/plain": [
       "'p'"
      ]
     },
     "execution_count": 25,
     "metadata": {},
     "output_type": "execute_result"
    }
   ],
   "source": [
    "next(a)"
   ]
  },
  {
   "cell_type": "code",
   "execution_count": 27,
   "id": "468dbed8-2697-404c-acbe-8d09abb35f22",
   "metadata": {},
   "outputs": [
    {
     "data": {
      "text/plain": [
       "'w'"
      ]
     },
     "execution_count": 27,
     "metadata": {},
     "output_type": "execute_result"
    }
   ],
   "source": [
    "next(a)"
   ]
  },
  {
   "cell_type": "code",
   "execution_count": 31,
   "id": "8da0e830-5a38-4c06-8aaa-63f292ff045a",
   "metadata": {},
   "outputs": [
    {
     "data": {
      "text/plain": [
       "'s'"
      ]
     },
     "execution_count": 31,
     "metadata": {},
     "output_type": "execute_result"
    }
   ],
   "source": [
    "next(a)\n"
   ]
  },
  {
   "cell_type": "code",
   "execution_count": 33,
   "id": "34afd7e1-5961-4938-9971-f196d115cb8d",
   "metadata": {},
   "outputs": [
    {
     "data": {
      "text/plain": [
       "'k'"
      ]
     },
     "execution_count": 33,
     "metadata": {},
     "output_type": "execute_result"
    }
   ],
   "source": [
    "next(a)"
   ]
  },
  {
   "cell_type": "code",
   "execution_count": 35,
   "id": "5aa54996-40b7-41a0-ab38-0154b4b32f2d",
   "metadata": {},
   "outputs": [
    {
     "data": {
      "text/plain": [
       "<list_iterator at 0x23507ad77f0>"
      ]
     },
     "execution_count": 35,
     "metadata": {},
     "output_type": "execute_result"
    }
   ],
   "source": [
    "l = iter([1, 2, 3, 4])\n",
    "l"
   ]
  },
  {
   "cell_type": "code",
   "execution_count": 39,
   "id": "eaeb8c00-9298-44df-ad35-fb4b45979a4d",
   "metadata": {},
   "outputs": [
    {
     "data": {
      "text/plain": [
       "1"
      ]
     },
     "execution_count": 39,
     "metadata": {},
     "output_type": "execute_result"
    }
   ],
   "source": [
    "next(l)"
   ]
  },
  {
   "cell_type": "code",
   "execution_count": 41,
   "id": "09b1f200-8a20-4952-8d6f-aba20b0b282a",
   "metadata": {},
   "outputs": [
    {
     "data": {
      "text/plain": [
       "2"
      ]
     },
     "execution_count": 41,
     "metadata": {},
     "output_type": "execute_result"
    }
   ],
   "source": [
    "next(l)"
   ]
  },
  {
   "cell_type": "code",
   "execution_count": 43,
   "id": "c3ad6b53-e9c5-4bce-a6f9-fc16fb7f1268",
   "metadata": {},
   "outputs": [
    {
     "data": {
      "text/plain": [
       "3"
      ]
     },
     "execution_count": 43,
     "metadata": {},
     "output_type": "execute_result"
    }
   ],
   "source": [
    "next(l)"
   ]
  },
  {
   "cell_type": "code",
   "execution_count": 45,
   "id": "6698a11e-677e-4c38-9e16-46c56a55282d",
   "metadata": {},
   "outputs": [
    {
     "data": {
      "text/plain": [
       "4"
      ]
     },
     "execution_count": 45,
     "metadata": {},
     "output_type": "execute_result"
    }
   ],
   "source": [
    "next(l)"
   ]
  },
  {
   "cell_type": "code",
   "execution_count": 47,
   "id": "e357bd49-c871-4c0e-b155-26fd9f4a9099",
   "metadata": {},
   "outputs": [
    {
     "data": {
      "text/plain": [
       "<tuple_iterator at 0x2350a36d750>"
      ]
     },
     "execution_count": 47,
     "metadata": {},
     "output_type": "execute_result"
    }
   ],
   "source": [
    "t = iter((1, 2, 3, 4))\n",
    "t"
   ]
  },
  {
   "cell_type": "code",
   "execution_count": 49,
   "id": "71df09dc-4deb-42ed-8b98-debc95c88e6b",
   "metadata": {},
   "outputs": [
    {
     "data": {
      "text/plain": [
       "1"
      ]
     },
     "execution_count": 49,
     "metadata": {},
     "output_type": "execute_result"
    }
   ],
   "source": [
    "next(t)"
   ]
  },
  {
   "cell_type": "code",
   "execution_count": 51,
   "id": "8523a542-e3c6-452b-bc9a-6db71945adaa",
   "metadata": {},
   "outputs": [
    {
     "data": {
      "text/plain": [
       "2"
      ]
     },
     "execution_count": 51,
     "metadata": {},
     "output_type": "execute_result"
    }
   ],
   "source": [
    "next(t)"
   ]
  },
  {
   "cell_type": "code",
   "execution_count": 53,
   "id": "648e179e-da69-4550-a4e9-cf91eacd7702",
   "metadata": {},
   "outputs": [
    {
     "data": {
      "text/plain": [
       "3"
      ]
     },
     "execution_count": 53,
     "metadata": {},
     "output_type": "execute_result"
    }
   ],
   "source": [
    "next(t)"
   ]
  },
  {
   "cell_type": "code",
   "execution_count": 55,
   "id": "6c3daa45-0c94-42ef-8f34-da81f7667ecc",
   "metadata": {},
   "outputs": [
    {
     "data": {
      "text/plain": [
       "4"
      ]
     },
     "execution_count": 55,
     "metadata": {},
     "output_type": "execute_result"
    }
   ],
   "source": [
    "next(t)"
   ]
  },
  {
   "cell_type": "code",
   "execution_count": null,
   "id": "7d431ff2-1dbe-42c5-b822-3e462928dbcc",
   "metadata": {},
   "outputs": [],
   "source": [
    "#generator function"
   ]
  },
  {
   "cell_type": "code",
   "execution_count": null,
   "id": "3dd3fba0-834d-4604-b599-651776356bd4",
   "metadata": {},
   "outputs": [],
   "source": [
    "#regular function >> takes a list and gives square of each of the list"
   ]
  },
  {
   "cell_type": "code",
   "execution_count": 75,
   "id": "527caa64-ba01-4a58-a218-6e6138be99ea",
   "metadata": {},
   "outputs": [],
   "source": [
    "def sqare_number(n):\n",
    "    result = []\n",
    "    for i in (n):\n",
    "        result.append(i ** 2)\n",
    "    return result"
   ]
  },
  {
   "cell_type": "code",
   "execution_count": 77,
   "id": "51d5b828-04bc-409b-b56d-dcb076388e1a",
   "metadata": {},
   "outputs": [
    {
     "data": {
      "text/plain": [
       "[25, 100, 225]"
      ]
     },
     "execution_count": 77,
     "metadata": {},
     "output_type": "execute_result"
    }
   ],
   "source": [
    "sqare_number([5, 10, 15])"
   ]
  },
  {
   "cell_type": "code",
   "execution_count": 87,
   "id": "d817b3f6-b433-4b5e-981c-f407c1ec70e7",
   "metadata": {},
   "outputs": [],
   "source": [
    "def sqare_number(n):\n",
    "    result = []\n",
    "    for i in range(n):\n",
    "        result.append(i ** 2)\n",
    "    return result\n"
   ]
  },
  {
   "cell_type": "code",
   "execution_count": 89,
   "id": "a2570bc3-e0d0-41b8-b1ac-e59341a7bea7",
   "metadata": {},
   "outputs": [
    {
     "data": {
      "text/plain": [
       "[0, 1, 4, 9, 16, 25, 36, 49, 64, 81]"
      ]
     },
     "execution_count": 89,
     "metadata": {},
     "output_type": "execute_result"
    }
   ],
   "source": [
    "sqare_number(10)"
   ]
  },
  {
   "cell_type": "code",
   "execution_count": null,
   "id": "63798bac-7ef2-4f3d-aa5b-d9992a86c56f",
   "metadata": {},
   "outputs": [],
   "source": [
    "fibonnaci series >> each time just we are adding the last two number"
   ]
  },
  {
   "cell_type": "code",
   "execution_count": 93,
   "id": "15e86942-8b34-453e-bde6-b755741bed11",
   "metadata": {},
   "outputs": [],
   "source": [
    "def fib(n):\n",
    "    a = 0\n",
    "    b = 1\n",
    "    for i in range(n):\n",
    "        yield a \n",
    "    a, b = b, a+b"
   ]
  },
  {
   "cell_type": "code",
   "execution_count": 97,
   "id": "2fd45ea0-a69b-4bd9-bd12-4db7e8e3648f",
   "metadata": {},
   "outputs": [
    {
     "data": {
      "text/plain": [
       "<generator object fib at 0x00000235091475A0>"
      ]
     },
     "execution_count": 97,
     "metadata": {},
     "output_type": "execute_result"
    }
   ],
   "source": [
    "f = fib(1000000000)\n",
    "f"
   ]
  },
  {
   "cell_type": "code",
   "execution_count": 101,
   "id": "f1cf32a9-ecbc-47cd-8249-e1270408e836",
   "metadata": {},
   "outputs": [
    {
     "data": {
      "text/plain": [
       "0"
      ]
     },
     "execution_count": 101,
     "metadata": {},
     "output_type": "execute_result"
    }
   ],
   "source": [
    "next(f)"
   ]
  },
  {
   "cell_type": "code",
   "execution_count": 105,
   "id": "0da5a969-1c47-45aa-a0e0-d5d0d066e0ec",
   "metadata": {},
   "outputs": [
    {
     "data": {
      "text/plain": [
       "0"
      ]
     },
     "execution_count": 105,
     "metadata": {},
     "output_type": "execute_result"
    }
   ],
   "source": [
    "next(f)"
   ]
  },
  {
   "cell_type": "code",
   "execution_count": 107,
   "id": "bef8f68c-2266-4684-b810-2ed5d077ce1a",
   "metadata": {},
   "outputs": [
    {
     "data": {
      "text/plain": [
       "0"
      ]
     },
     "execution_count": 107,
     "metadata": {},
     "output_type": "execute_result"
    }
   ],
   "source": [
    "next(f)"
   ]
  }
 ],
 "metadata": {
  "kernelspec": {
   "display_name": "Python 3 (ipykernel)",
   "language": "python",
   "name": "python3"
  },
  "language_info": {
   "codemirror_mode": {
    "name": "ipython",
    "version": 3
   },
   "file_extension": ".py",
   "mimetype": "text/x-python",
   "name": "python",
   "nbconvert_exporter": "python",
   "pygments_lexer": "ipython3",
   "version": "3.12.7"
  }
 },
 "nbformat": 4,
 "nbformat_minor": 5
}
