{
 "cells": [
  {
   "cell_type": "code",
   "execution_count": null,
   "id": "262818ee-e071-40df-b097-e338d5fbe236",
   "metadata": {},
   "outputs": [],
   "source": [
    "#data structure> way of organising and arranging data so that it can be accessd and manipulating efficiently\n"
   ]
  },
  {
   "cell_type": "code",
   "execution_count": null,
   "id": "fd805d9b-177b-4b87-a5ff-360af3c3f02f",
   "metadata": {},
   "outputs": [],
   "source": [
    "#data structure >> string, list,set , tuples, dictionary,array"
   ]
  },
  {
   "cell_type": "code",
   "execution_count": null,
   "id": "1e58cb6b-b571-4b0e-a171-667bd0523b24",
   "metadata": {},
   "outputs": [],
   "source": [
    " #list you can store anything in list>> it can store heterogenous data \n",
    "#list is an ordered collection ofelement that can be of any data type\n",
    "#list are mutable"
   ]
  },
  {
   "cell_type": "code",
   "execution_count": 9,
   "id": "a033a029-eb57-4083-bbae-701cd3771a5f",
   "metadata": {},
   "outputs": [],
   "source": [
    "num = [1, 2, 3, 4, 5,]"
   ]
  },
  {
   "cell_type": "code",
   "execution_count": 11,
   "id": "f01165ee-2284-4308-bc48-246da95b3320",
   "metadata": {},
   "outputs": [
    {
     "data": {
      "text/plain": [
       "[1, 2, 3, 4, 5]"
      ]
     },
     "execution_count": 11,
     "metadata": {},
     "output_type": "execute_result"
    }
   ],
   "source": [
    "num"
   ]
  },
  {
   "cell_type": "code",
   "execution_count": 13,
   "id": "2fbe53d0-d7db-488f-b370-9ae20f85935c",
   "metadata": {},
   "outputs": [
    {
     "data": {
      "text/plain": [
       "list"
      ]
     },
     "execution_count": 13,
     "metadata": {},
     "output_type": "execute_result"
    }
   ],
   "source": [
    "type(num)"
   ]
  },
  {
   "cell_type": "code",
   "execution_count": 17,
   "id": "1bbc8843-1451-41bd-92d3-50abb32f88c1",
   "metadata": {},
   "outputs": [
    {
     "data": {
      "text/plain": [
       "1"
      ]
     },
     "execution_count": 17,
     "metadata": {},
     "output_type": "execute_result"
    }
   ],
   "source": [
    "num[0]"
   ]
  },
  {
   "cell_type": "code",
   "execution_count": 19,
   "id": "778042c5-8728-462d-97ea-a254b3315e9a",
   "metadata": {},
   "outputs": [
    {
     "data": {
      "text/plain": [
       "2"
      ]
     },
     "execution_count": 19,
     "metadata": {},
     "output_type": "execute_result"
    }
   ],
   "source": [
    "num[1]"
   ]
  },
  {
   "cell_type": "code",
   "execution_count": 21,
   "id": "0602f11e-9d4a-45e4-8ef9-7430fda3999f",
   "metadata": {},
   "outputs": [
    {
     "ename": "IndexError",
     "evalue": "list index out of range",
     "output_type": "error",
     "traceback": [
      "\u001b[1;31m---------------------------------------------------------------------------\u001b[0m",
      "\u001b[1;31mIndexError\u001b[0m                                Traceback (most recent call last)",
      "Cell \u001b[1;32mIn[21], line 1\u001b[0m\n\u001b[1;32m----> 1\u001b[0m num[\u001b[38;5;241m5\u001b[39m]\n",
      "\u001b[1;31mIndexError\u001b[0m: list index out of range"
     ]
    }
   ],
   "source": [
    "num[5]"
   ]
  },
  {
   "cell_type": "code",
   "execution_count": 31,
   "id": "f118eb92-e9b6-47fe-91b8-41f91eacca68",
   "metadata": {},
   "outputs": [
    {
     "data": {
      "text/plain": [
       "[1, 2, 3, 'baigan', 'tomatato', 'onion']"
      ]
     },
     "execution_count": 31,
     "metadata": {},
     "output_type": "execute_result"
    }
   ],
   "source": [
    "a = [1, 2, 3, \"baigan\", \"tomatato\", \"onion\"]\n",
    "a"
   ]
  },
  {
   "cell_type": "code",
   "execution_count": 33,
   "id": "102d8e8b-3332-40ce-a9f5-264974a286fd",
   "metadata": {},
   "outputs": [
    {
     "data": {
      "text/plain": [
       "list"
      ]
     },
     "execution_count": 33,
     "metadata": {},
     "output_type": "execute_result"
    }
   ],
   "source": [
    "type(num)"
   ]
  },
  {
   "cell_type": "code",
   "execution_count": null,
   "id": "c66b6ce4-ef8b-4013-9e75-e30eba06101e",
   "metadata": {},
   "outputs": [],
   "source": [
    "#list can store any data type>> we cab say that heterogenous data"
   ]
  },
  {
   "cell_type": "code",
   "execution_count": 35,
   "id": "6b3db668-55df-4701-8122-f8e4aa0d76a9",
   "metadata": {},
   "outputs": [
    {
     "data": {
      "text/plain": [
       "[1, 2, 3, 'baigan', 'tomatato', 'onion']"
      ]
     },
     "execution_count": 35,
     "metadata": {},
     "output_type": "execute_result"
    }
   ],
   "source": [
    "a"
   ]
  },
  {
   "cell_type": "code",
   "execution_count": null,
   "id": "6bb99a8a-0d7b-4f04-a7d7-87a8cd489434",
   "metadata": {},
   "outputs": [],
   "source": [
    "#adding element to the list"
   ]
  },
  {
   "cell_type": "code",
   "execution_count": 41,
   "id": "d2a23e5f-634c-4116-b7bc-35e78c8bafe4",
   "metadata": {},
   "outputs": [],
   "source": [
    "a.append(\"orange\")"
   ]
  },
  {
   "cell_type": "code",
   "execution_count": 43,
   "id": "bb739754-6b22-4bd4-ad14-780af3ca1db1",
   "metadata": {},
   "outputs": [
    {
     "data": {
      "text/plain": [
       "[1, 2, 3, 'baigan', 'tomatato', 'onion', 'orange', 'orange', 'orange']"
      ]
     },
     "execution_count": 43,
     "metadata": {},
     "output_type": "execute_result"
    }
   ],
   "source": [
    "a"
   ]
  },
  {
   "cell_type": "code",
   "execution_count": 47,
   "id": "a14e61f2-79b7-4020-bf9a-2dc51cf19137",
   "metadata": {},
   "outputs": [],
   "source": [
    "a.remove(\"orange\")"
   ]
  },
  {
   "cell_type": "code",
   "execution_count": 49,
   "id": "12f4e025-ab7c-462e-945f-9b215942344e",
   "metadata": {},
   "outputs": [
    {
     "data": {
      "text/plain": [
       "[1, 2, 3, 'baigan', 'tomatato', 'onion', 'orange', 'orange']"
      ]
     },
     "execution_count": 49,
     "metadata": {},
     "output_type": "execute_result"
    }
   ],
   "source": [
    "a"
   ]
  },
  {
   "cell_type": "code",
   "execution_count": 55,
   "id": "bd2da0ee-98a9-45de-b1c6-aa22b9cc7fd2",
   "metadata": {},
   "outputs": [
    {
     "data": {
      "text/plain": [
       "[[1, 2, 3], [4, 5, 6], [7, 8, 9]]"
      ]
     },
     "execution_count": 55,
     "metadata": {},
     "output_type": "execute_result"
    }
   ],
   "source": [
    "lis = [[1, 2, 3], [4, 5, 6], [7, 8, 9]]\n",
    "lis"
   ]
  },
  {
   "cell_type": "code",
   "execution_count": 57,
   "id": "85ec0eef-e033-4447-987f-0be87cc655e0",
   "metadata": {},
   "outputs": [
    {
     "data": {
      "text/plain": [
       "list"
      ]
     },
     "execution_count": 57,
     "metadata": {},
     "output_type": "execute_result"
    }
   ],
   "source": [
    "type(lis)"
   ]
  },
  {
   "cell_type": "code",
   "execution_count": 69,
   "id": "733a8dee-cade-4b2f-b69e-39bb5e844ec1",
   "metadata": {},
   "outputs": [
    {
     "data": {
      "text/plain": [
       "3"
      ]
     },
     "execution_count": 69,
     "metadata": {},
     "output_type": "execute_result"
    }
   ],
   "source": [
    "lis[0][2]"
   ]
  },
  {
   "cell_type": "code",
   "execution_count": 77,
   "id": "2fd9a593-893c-4ff1-8691-fb0b73e31b15",
   "metadata": {},
   "outputs": [],
   "source": [
    "Shoping_list = [\"brinjal\", \"tomato\" \"onion\", 2, 3, True, False]\n",
    "Shoping_list[0] = \"potato\""
   ]
  },
  {
   "cell_type": "code",
   "execution_count": 79,
   "id": "6800c427-1973-40f5-9291-64f0de1d1f8b",
   "metadata": {},
   "outputs": [
    {
     "data": {
      "text/plain": [
       "['potato', 'tomatoonion', 2, 3, True, False]"
      ]
     },
     "execution_count": 79,
     "metadata": {},
     "output_type": "execute_result"
    }
   ],
   "source": [
    "Shoping_list"
   ]
  },
  {
   "cell_type": "code",
   "execution_count": 81,
   "id": "d9b5cd10-d151-40cd-90df-e580d1183827",
   "metadata": {},
   "outputs": [
    {
     "name": "stdout",
     "output_type": "stream",
     "text": [
      "potato tomatoonion 2 3 True False "
     ]
    }
   ],
   "source": [
    "for item in Shoping_list:\n",
    "    print(item, end = \" \")"
   ]
  },
  {
   "cell_type": "code",
   "execution_count": 85,
   "id": "bf028025-1207-452b-b946-51324344a2be",
   "metadata": {},
   "outputs": [],
   "source": [
    "#tuples>>imutable\n",
    "point = (2, 3)"
   ]
  },
  {
   "cell_type": "code",
   "execution_count": 87,
   "id": "6a981f05-14d5-4d41-b08d-33aa51188809",
   "metadata": {},
   "outputs": [
    {
     "data": {
      "text/plain": [
       "(2, 3)"
      ]
     },
     "execution_count": 87,
     "metadata": {},
     "output_type": "execute_result"
    }
   ],
   "source": [
    "point"
   ]
  },
  {
   "cell_type": "code",
   "execution_count": 89,
   "id": "96ec03bb-3b5b-4ec5-8a01-c76b42adc2eb",
   "metadata": {},
   "outputs": [
    {
     "data": {
      "text/plain": [
       "tuple"
      ]
     },
     "execution_count": 89,
     "metadata": {},
     "output_type": "execute_result"
    }
   ],
   "source": [
    "type(point)"
   ]
  },
  {
   "cell_type": "code",
   "execution_count": null,
   "id": "ccb5d4ed-2771-478b-9537-a0a28cea134d",
   "metadata": {},
   "outputs": [],
   "source": [
    "#tuple>> adhar, pan, employe id not be want to changed so in data structure tuple cab be used"
   ]
  },
  {
   "cell_type": "code",
   "execution_count": 91,
   "id": "fffa3d80-8007-429c-9e22-002bf6dc2ecf",
   "metadata": {},
   "outputs": [],
   "source": [
    "t = (1, 2, 3, 4, 4.4, 3+5j, \"ajay\")#tuple can store heterogenous data"
   ]
  },
  {
   "cell_type": "code",
   "execution_count": 93,
   "id": "7bf3dbfa-53ac-4409-bdde-9dd00c21e23b",
   "metadata": {},
   "outputs": [
    {
     "data": {
      "text/plain": [
       "tuple"
      ]
     },
     "execution_count": 93,
     "metadata": {},
     "output_type": "execute_result"
    }
   ],
   "source": [
    "type(t)"
   ]
  },
  {
   "cell_type": "code",
   "execution_count": 95,
   "id": "00e30893-154f-405e-882f-30de36a650fa",
   "metadata": {},
   "outputs": [
    {
     "data": {
      "text/plain": [
       "(1, 2, 3, 4, 4.4, (3+5j), 'ajay')"
      ]
     },
     "execution_count": 95,
     "metadata": {},
     "output_type": "execute_result"
    }
   ],
   "source": [
    "t"
   ]
  },
  {
   "cell_type": "code",
   "execution_count": 99,
   "id": "d42edb21-94db-4e22-9d19-ebfbb1b25d26",
   "metadata": {},
   "outputs": [],
   "source": [
    "emp_name =  (\"ajay\", \"ajay1\", \"bijay\", \"sanajy\")"
   ]
  },
  {
   "cell_type": "code",
   "execution_count": 101,
   "id": "124ff2f0-7672-4068-b43a-317a7886aeb4",
   "metadata": {},
   "outputs": [
    {
     "data": {
      "text/plain": [
       "tuple"
      ]
     },
     "execution_count": 101,
     "metadata": {},
     "output_type": "execute_result"
    }
   ],
   "source": [
    "type(emp_name)"
   ]
  },
  {
   "cell_type": "code",
   "execution_count": 107,
   "id": "0c585953-cfe1-41f7-be59-7e3e287076cc",
   "metadata": {},
   "outputs": [
    {
     "data": {
      "text/plain": [
       "'ajay'"
      ]
     },
     "execution_count": 107,
     "metadata": {},
     "output_type": "execute_result"
    }
   ],
   "source": [
    "emp_name[0]"
   ]
  },
  {
   "cell_type": "code",
   "execution_count": 109,
   "id": "bfdefeae-ab1c-4f4f-84ea-f28071bccc2d",
   "metadata": {},
   "outputs": [
    {
     "data": {
      "text/plain": [
       "'ajay2'"
      ]
     },
     "execution_count": 109,
     "metadata": {},
     "output_type": "execute_result"
    }
   ],
   "source": [
    "emp_name[1]"
   ]
  },
  {
   "cell_type": "code",
   "execution_count": 111,
   "id": "48553f4b-5a25-460f-a992-bb77d88a2451",
   "metadata": {},
   "outputs": [],
   "source": [
    "box1 = (\"a\", \"b\")\n",
    "box2 = (\"c\", \"d\")\n",
    "Choc_bag = (box1, box2)"
   ]
  },
  {
   "cell_type": "code",
   "execution_count": 119,
   "id": "6508e4b4-1a97-441d-b4fb-ba8fbacdd165",
   "metadata": {},
   "outputs": [
    {
     "data": {
      "text/plain": [
       "tuple"
      ]
     },
     "execution_count": 119,
     "metadata": {},
     "output_type": "execute_result"
    }
   ],
   "source": [
    "type(Choc_bag)"
   ]
  },
  {
   "cell_type": "code",
   "execution_count": 121,
   "id": "d58b7660-9905-49e7-aeba-aee151c56940",
   "metadata": {},
   "outputs": [
    {
     "data": {
      "text/plain": [
       "(('a', 'b'), ('c', 'd'))"
      ]
     },
     "execution_count": 121,
     "metadata": {},
     "output_type": "execute_result"
    }
   ],
   "source": [
    "Choc_bag"
   ]
  },
  {
   "cell_type": "code",
   "execution_count": 123,
   "id": "695f57a1-5acd-4173-80f6-2a15aeca60bc",
   "metadata": {},
   "outputs": [
    {
     "name": "stdout",
     "output_type": "stream",
     "text": [
      "a\n",
      "b\n",
      "c\n",
      "d\n"
     ]
    }
   ],
   "source": [
    "for box in Choc_bag:\n",
    "    for Choc in box:\n",
    "        print(Choc)"
   ]
  },
  {
   "cell_type": "code",
   "execution_count": null,
   "id": "a0a7c409-a9c4-44a9-86c4-dc50c5eaf8b7",
   "metadata": {},
   "outputs": [],
   "source": [
    "#sets are unordered collection of unique element"
   ]
  },
  {
   "cell_type": "code",
   "execution_count": 125,
   "id": "d74c7764-1797-403f-88aa-9f086eb84d2a",
   "metadata": {},
   "outputs": [],
   "source": [
    "s = {\"red\",\"orangr\"} "
   ]
  },
  {
   "cell_type": "code",
   "execution_count": 127,
   "id": "dd37dfab-eab2-466e-90f2-9eada63ab6e3",
   "metadata": {},
   "outputs": [
    {
     "data": {
      "text/plain": [
       "set"
      ]
     },
     "execution_count": 127,
     "metadata": {},
     "output_type": "execute_result"
    }
   ],
   "source": [
    "type(s)"
   ]
  },
  {
   "cell_type": "code",
   "execution_count": 133,
   "id": "ccf7f06f-7032-4735-9e6a-ee87789ca1c9",
   "metadata": {},
   "outputs": [
    {
     "data": {
      "text/plain": [
       "{'blue', 'orange', 'red'}"
      ]
     },
     "execution_count": 133,
     "metadata": {},
     "output_type": "execute_result"
    }
   ],
   "source": [
    "s = { \"red\", \"orange\", \"red\", \"blue\", \"orange\"}\n",
    "s"
   ]
  },
  {
   "cell_type": "code",
   "execution_count": 135,
   "id": "edafc165-7c41-4bcb-83aa-f5a9051cf47a",
   "metadata": {},
   "outputs": [
    {
     "data": {
      "text/plain": [
       "set"
      ]
     },
     "execution_count": 135,
     "metadata": {},
     "output_type": "execute_result"
    }
   ],
   "source": [
    "type(s)"
   ]
  },
  {
   "cell_type": "code",
   "execution_count": 137,
   "id": "a93acb9f-b676-4534-822d-b9d91e41cf7f",
   "metadata": {},
   "outputs": [],
   "source": [
    "s = {\"a\", \"b\", \"c\", 1, 1.1, 1.1, 4.5, 8, 9,}"
   ]
  },
  {
   "cell_type": "code",
   "execution_count": 139,
   "id": "c36b521e-0dc3-4333-867f-d7d5b6b557f2",
   "metadata": {},
   "outputs": [
    {
     "data": {
      "text/plain": [
       "{1, 1.1, 4.5, 8, 9, 'a', 'b', 'c'}"
      ]
     },
     "execution_count": 139,
     "metadata": {},
     "output_type": "execute_result"
    }
   ],
   "source": [
    "s"
   ]
  },
  {
   "cell_type": "code",
   "execution_count": 141,
   "id": "df334d07-01d0-4711-89a7-5c81f1b9f02a",
   "metadata": {},
   "outputs": [
    {
     "data": {
      "text/plain": [
       "set"
      ]
     },
     "execution_count": 141,
     "metadata": {},
     "output_type": "execute_result"
    }
   ],
   "source": [
    "type(s)"
   ]
  },
  {
   "cell_type": "code",
   "execution_count": 145,
   "id": "a4a57cc8-1028-4eff-acbc-5f8e6a2b6566",
   "metadata": {},
   "outputs": [
    {
     "ename": "TypeError",
     "evalue": "'set' object is not callable",
     "output_type": "error",
     "traceback": [
      "\u001b[1;31m---------------------------------------------------------------------------\u001b[0m",
      "\u001b[1;31mTypeError\u001b[0m                                 Traceback (most recent call last)",
      "Cell \u001b[1;32mIn[145], line 1\u001b[0m\n\u001b[1;32m----> 1\u001b[0m s(\u001b[38;5;241m0\u001b[39m)\n",
      "\u001b[1;31mTypeError\u001b[0m: 'set' object is not callable"
     ]
    }
   ],
   "source": [
    "s(0)#error>> set object is not indexing as sets are unordered or unique"
   ]
  },
  {
   "cell_type": "code",
   "execution_count": 149,
   "id": "305d594f-8974-4d52-9c33-51d9c23f64c4",
   "metadata": {},
   "outputs": [
    {
     "data": {
      "text/plain": [
       "{1, 1.1, 4.5, 8, 9, 'a', 'b', 'c', 'pwskills'}"
      ]
     },
     "execution_count": 149,
     "metadata": {},
     "output_type": "execute_result"
    }
   ],
   "source": [
    "s.add(\"pwskills\")#mutable sets\n",
    "s"
   ]
  },
  {
   "cell_type": "code",
   "execution_count": 159,
   "id": "dc4ef0ad-64b6-4d1b-b203-8b13107531fb",
   "metadata": {},
   "outputs": [
    {
     "ename": "KeyError",
     "evalue": "'pwskills'",
     "output_type": "error",
     "traceback": [
      "\u001b[1;31m---------------------------------------------------------------------------\u001b[0m",
      "\u001b[1;31mKeyError\u001b[0m                                  Traceback (most recent call last)",
      "Cell \u001b[1;32mIn[159], line 1\u001b[0m\n\u001b[1;32m----> 1\u001b[0m s\u001b[38;5;241m.\u001b[39mremove(\u001b[38;5;124m\"\u001b[39m\u001b[38;5;124mpwskills\u001b[39m\u001b[38;5;124m\"\u001b[39m)\n\u001b[0;32m      2\u001b[0m s\n",
      "\u001b[1;31mKeyError\u001b[0m: 'pwskills'"
     ]
    }
   ],
   "source": [
    "s.remove(\"pwskills\")\n",
    "s"
   ]
  },
  {
   "cell_type": "code",
   "execution_count": 167,
   "id": "b26e0091-6d3a-4977-9fb8-254b79892741",
   "metadata": {},
   "outputs": [
    {
     "data": {
      "text/plain": [
       "{'apple', 'banana', 'blue', 'orange'}"
      ]
     },
     "execution_count": 167,
     "metadata": {},
     "output_type": "execute_result"
    }
   ],
   "source": [
    "#use case of sets to get unique element\n",
    "Grocery_list = {\"apple\", \"banana\", \"orange\", \"blue\", \"apple\"}\n",
    "Grocery_list"
   ]
  },
  {
   "cell_type": "code",
   "execution_count": 171,
   "id": "b10cfc0e-96c7-48f7-94a2-eb10f70e15aa",
   "metadata": {},
   "outputs": [],
   "source": [
    "#dictionay>>which stores the data in the form of key value pair\n",
    "My_dict = {}"
   ]
  },
  {
   "cell_type": "code",
   "execution_count": 173,
   "id": "f3aca952-66b0-4617-9d2a-4d415891bd72",
   "metadata": {},
   "outputs": [
    {
     "data": {
      "text/plain": [
       "dict"
      ]
     },
     "execution_count": 173,
     "metadata": {},
     "output_type": "execute_result"
    }
   ],
   "source": [
    "type(My_dict)"
   ]
  },
  {
   "cell_type": "code",
   "execution_count": 177,
   "id": "6b1a1eaa-5abb-403b-a5d3-1905293e3af4",
   "metadata": {},
   "outputs": [
    {
     "data": {
      "text/plain": [
       "{'key_course': 'data scienece', 'duration': 200}"
      ]
     },
     "execution_count": 177,
     "metadata": {},
     "output_type": "execute_result"
    }
   ],
   "source": [
    "My_dict= {\"key_course\" : \"data scienece\", \"duration\" : 200}\n",
    "My_dict"
   ]
  },
  {
   "cell_type": "code",
   "execution_count": 179,
   "id": "311515e9-643d-45ad-bca9-b41effbbd7d9",
   "metadata": {},
   "outputs": [
    {
     "data": {
      "text/plain": [
       "dict"
      ]
     },
     "execution_count": 179,
     "metadata": {},
     "output_type": "execute_result"
    }
   ],
   "source": [
    "type(My_dict)"
   ]
  },
  {
   "cell_type": "code",
   "execution_count": null,
   "id": "cd22aa5a-42be-41f5-93fa-2ce19ef4035a",
   "metadata": {},
   "outputs": [],
   "source": []
  }
 ],
 "metadata": {
  "kernelspec": {
   "display_name": "Python 3 (ipykernel)",
   "language": "python",
   "name": "python3"
  },
  "language_info": {
   "codemirror_mode": {
    "name": "ipython",
    "version": 3
   },
   "file_extension": ".py",
   "mimetype": "text/x-python",
   "name": "python",
   "nbconvert_exporter": "python",
   "pygments_lexer": "ipython3",
   "version": "3.12.7"
  }
 },
 "nbformat": 4,
 "nbformat_minor": 5
}
